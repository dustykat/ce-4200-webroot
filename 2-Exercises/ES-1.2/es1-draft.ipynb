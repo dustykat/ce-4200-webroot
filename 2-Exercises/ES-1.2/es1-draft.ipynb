{
 "cells": [
  {
   "cell_type": "markdown",
   "metadata": {},
   "source": [
    "# <font color=darkblue>CE 4200 Professional Practice Issues <br> Exercise Set 1</font>\n",
    "\n",
    "**Bear, P. Olar**\n",
    "\n",
    "**RBURRRRRR**\n",
    "\n",
    "___\n",
    "\n",
    "### Purpose : \n",
    "Demonstrate comprehension – in both breadth and detail – the relationship between civil engineering skills/ outcomes identified in the ASCE Body of Knowledge Third Edition (CEBOK3) and your program of study represented in the undergraduate civil engineering curriculum at Texas Tech University.\n",
    "\n",
    "**A. SKILLS**\n",
    "\n",
    "You should employ the following skills that are essential to your success in this course and in professional life beyond school:\n",
    "-  Recognize learning objectives represented in your undergraduate courses\n",
    "- Identify and classify CEBOK3 outcomes that exist within an identified learning event (course)\n",
    "- Compare, contrast and prioritize CEBOK3 outcomes within a particular learning event (course)\n",
    "\n",
    "**B. KNOWLEDGE**\n",
    "\n",
    "You should become familiar with the following important content knowledge in this discipline:\n",
    "-  Topic 1. The knowledge, skills and attitudes (CEBOK3 outcomes) necessary for entry into the practice of civil engineering\n",
    "-  Topic 2. The diversity, complexity and breadth of your civil engineering education\n",
    "\n",
    "### Assessment Criteria : \n",
    "Completion, results plausible, format correct, calculations (Jupyter Notebook) are shown.  \n",
    "\n",
    "___"
   ]
  },
  {
   "cell_type": "markdown",
   "metadata": {},
   "source": [
    "II. TASK\n",
    "A. WHAT TO DO\n",
    "\n",
    "Part 1. First, familiarize yourself with the source materials provided as part of Lecture 1. \n",
    "\n",
    "These include:\n",
    "- Civil Engineering Degree Program, Texas Tech University\n",
    "- Course descriptions, Current Undergraduate and Graduate Course Catalog \n",
    "- ASCE Body of Knowledge, Third Edition\n",
    "- This assignment\n",
    "\n",
    "Part 2. The focus of the assignment is a 1-page form entitled “Compare CE Degree Program vs. ASCE Body of Knowledge Outcomes”. This form identifies all courses in the undergraduate civil engineering program (rows) and all 21 outcomes in the CEBOK3 (columns). You will use this form two times.\n",
    "\n",
    "- First, identify all CEBOK3 outcomes that you think are associated with each course in the curriculum (comprehensive)"
   ]
  },
  {
   "cell_type": "code",
   "execution_count": null,
   "metadata": {},
   "outputs": [],
   "source": []
  },
  {
   "cell_type": "code",
   "execution_count": null,
   "metadata": {},
   "outputs": [],
   "source": []
  },
  {
   "cell_type": "code",
   "execution_count": null,
   "metadata": {},
   "outputs": [],
   "source": []
  }
 ],
 "metadata": {
  "kernelspec": {
   "display_name": "Python 3 (ipykernel)",
   "language": "python",
   "name": "python3"
  },
  "language_info": {
   "codemirror_mode": {
    "name": "ipython",
    "version": 3
   },
   "file_extension": ".py",
   "mimetype": "text/x-python",
   "name": "python",
   "nbconvert_exporter": "python",
   "pygments_lexer": "ipython3",
   "version": "3.10.12"
  }
 },
 "nbformat": 4,
 "nbformat_minor": 4
}
