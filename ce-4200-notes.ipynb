{
 "cells": [
  {
   "cell_type": "code",
   "execution_count": 1,
   "metadata": {},
   "outputs": [
    {
     "name": "stdout",
     "output_type": "stream",
     "text": [
      "/home/webroot/ce-4200-webroot\n"
     ]
    }
   ],
   "source": [
    "! pwd"
   ]
  },
  {
   "cell_type": "code",
   "execution_count": 2,
   "metadata": {},
   "outputs": [
    {
     "name": "stdout",
     "output_type": "stream",
     "text": [
      "Traceback (most recent call last):\n",
      "  File \"/opt/jupyterhub/bin/jupyter-book\", line 8, in <module>\n",
      "    sys.exit(main())\n",
      "  File \"/opt/jupyterhub/lib/python3.10/site-packages/click/core.py\", line 1157, in __call__\n",
      "    return self.main(*args, **kwargs)\n",
      "  File \"/opt/jupyterhub/lib/python3.10/site-packages/click/core.py\", line 1078, in main\n",
      "    rv = self.invoke(ctx)\n",
      "  File \"/opt/jupyterhub/lib/python3.10/site-packages/click/core.py\", line 1688, in invoke\n",
      "    return _process_result(sub_ctx.command.invoke(sub_ctx))\n",
      "  File \"/opt/jupyterhub/lib/python3.10/site-packages/click/core.py\", line 1434, in invoke\n",
      "    return ctx.invoke(self.callback, **ctx.params)\n",
      "  File \"/opt/jupyterhub/lib/python3.10/site-packages/click/core.py\", line 783, in invoke\n",
      "    return __callback(*args, **kwargs)\n",
      "  File \"/opt/jupyterhub/lib/python3.10/site-packages/jupyter_book/cli/main.py\", line 339, in create\n",
      "    sh.copytree(template_path, book)\n",
      "  File \"/usr/lib/python3.10/shutil.py\", line 559, in copytree\n",
      "    return _copytree(entries=entries, src=src, dst=dst, symlinks=symlinks,\n",
      "  File \"/usr/lib/python3.10/shutil.py\", line 457, in _copytree\n",
      "    os.makedirs(dst, exist_ok=dirs_exist_ok)\n",
      "  File \"/usr/lib/python3.10/os.py\", line 225, in makedirs\n",
      "    mkdir(name, mode)\n",
      "FileExistsError: [Errno 17] File exists: 'ce-4200-notes'\n"
     ]
    }
   ],
   "source": [
    "! jupyter-book create ce-4200-notes"
   ]
  },
  {
   "cell_type": "code",
   "execution_count": 3,
   "metadata": {},
   "outputs": [
    {
     "name": "stdout",
     "output_type": "stream",
     "text": [
      "\u001b[32m\u001b[1mRunning Jupyter-Book v1.0.2\u001b[0m\n",
      "\u001b[34m\u001b[1mSource Folder: \u001b[0m/home/webroot/ce-4200-webroot/ce-4200-notes\n",
      "\u001b[34m\u001b[1mConfig Path: \u001b[0m/home/webroot/ce-4200-webroot/ce-4200-notes/_config.yml\n",
      "\u001b[34m\u001b[1mOutput Path: \u001b[0m/home/webroot/ce-4200-webroot/ce-4200-notes/_build/html\n",
      "\u001b[01mRunning Sphinx v7.4.7\u001b[39;49;00m\n",
      "\u001b[01mloading translations [en]... \u001b[39;49;00mdone\n",
      "[etoc] Changing master_doc to 'intro'\n",
      "\u001b[01mloading pickled environment... \u001b[39;49;00mfailed: state is not a dictionary\n",
      "checking bibtex cache... out of date\n",
      "parsing bibtex file /home/webroot/ce-4200-webroot/ce-4200-notes/references.bib... parsed 5 entries\n",
      "done\n",
      "\u001b[01mmyst v2.0.0:\u001b[39;49;00m MdParserConfig(commonmark_only=False, gfm_only=False, enable_extensions={'substitution', 'dollarmath', 'linkify', 'tasklist', 'colon_fence'}, disable_syntax=[], all_links_external=False, url_schemes=('mailto', 'http', 'https'), ref_domains=None, fence_as_directive=set(), number_code_blocks=[], title_to_header=False, heading_anchors=0, heading_slug_func=None, html_meta={}, footnote_transition=True, words_per_minute=200, substitutions={}, linkify_fuzzy_links=True, dmath_allow_labels=True, dmath_allow_space=True, dmath_allow_digits=True, dmath_double_inline=False, update_mathjax=True, mathjax_classes='tex2jax_process|mathjax_process|math|output_area', enable_checkboxes=False, suppress_warnings=[], highlight_code_blocks=True)\n",
      "\u001b[01mmyst-nb v1.1.1:\u001b[39;49;00m NbParserConfig(custom_formats={}, metadata_key='mystnb', cell_metadata_key='mystnb', kernel_rgx_aliases={}, eval_name_regex='^[a-zA-Z_][a-zA-Z0-9_]*$', execution_mode='force', execution_cache_path='', execution_excludepatterns=[], execution_timeout=30, execution_in_temp=False, execution_allow_errors=False, execution_raise_on_error=False, execution_show_tb=False, merge_streams=False, render_plugin='default', remove_code_source=False, remove_code_outputs=False, code_prompt_show='Show code cell {type}', code_prompt_hide='Hide code cell {type}', number_source_lines=False, output_stderr='show', render_text_lexer='myst-ansi', render_error_lexer='ipythontb', render_image_options={}, render_figure_options={}, render_markdown_format='commonmark', output_folder='build', append_css=True, metadata_to_fm=False)\n",
      "Using jupyter-cache at: /home/webroot/ce-4200-webroot/ce-4200-notes/_build/.jupyter_cache\n",
      "\u001b[01msphinx-multitoc-numbering v0.1.3:\u001b[39;49;00m Loaded\n",
      "\u001b[01mbuilding [mo]: \u001b[39;49;00mtargets for 0 po files that are out of date\n",
      "\u001b[01mwriting output... \u001b[39;49;00m\n",
      "\u001b[01mbuilding [html]: \u001b[39;49;00mtargets for 19 source files that are out of date\n",
      "\u001b[01mupdating environment: \u001b[39;49;00m[new config] 19 added, 0 changed, 0 removed\n",
      "/home/webroot/ce-4200-webroot/ce-4200-notes/lessons/PM/PM.ipynb: Executing notebook using local CWD [mystnb]\n",
      "/home/webroot/ce-4200-webroot/ce-4200-notes/lessons/PM/PM.ipynb: Executed notebook in 1.45 seconds [mystnb]\n",
      "/home/webroot/ce-4200-webroot/ce-4200-notes/lessons/PM/PM-Audit.ipynb: Executing notebook using local CWD [mystnb]\n",
      "/home/webroot/ce-4200-webroot/ce-4200-notes/lessons/PM/PM-Audit.ipynb: Executed notebook in 1.54 seconds [mystnb]\n",
      "/home/webroot/ce-4200-webroot/ce-4200-notes/lessons/attitudes/attitudes.ipynb: Executing notebook using local CWD [mystnb]\n",
      "/home/webroot/ce-4200-webroot/ce-4200-notes/lessons/attitudes/attitudes.ipynb: Executed notebook in 1.25 seconds [mystnb]\n",
      "/home/webroot/ce-4200-webroot/ce-4200-notes/lessons/careerplan/careerplan.ipynb: Executing notebook using local CWD [mystnb]\n",
      "/home/webroot/ce-4200-webroot/ce-4200-notes/lessons/careerplan/careerplan.ipynb: Executed notebook in 1.28 seconds [mystnb]\n",
      "/home/webroot/ce-4200-webroot/ce-4200-notes/lessons/criticalthinking/criticalthinking.ipynb: Executing notebook using local CWD [mystnb]\n",
      "/home/webroot/ce-4200-webroot/ce-4200-notes/lessons/criticalthinking/criticalthinking.ipynb: Executed notebook in 1.61 seconds [mystnb]\n",
      "/home/webroot/ce-4200-webroot/ce-4200-notes/lessons/criticalthinking/criticalthinking-case1.ipynb: Executing notebook using local CWD [mystnb]\n",
      "/home/webroot/ce-4200-webroot/ce-4200-notes/lessons/criticalthinking/criticalthinking-case1.ipynb: Executed notebook in 2.52 seconds [mystnb]\n",
      "/home/webroot/ce-4200-webroot/ce-4200-notes/lessons/dei/dei.ipynb: Executing notebook using local CWD [mystnb]\n",
      "/home/webroot/ce-4200-webroot/ce-4200-notes/lessons/dei/dei.ipynb: Executed notebook in 1.50 seconds [mystnb]\n",
      "/home/webroot/ce-4200-webroot/ce-4200-notes/lessons/engineeringjudgement/engineeringjudgement.ipynb: Executing notebook using local CWD [mystnb]\n",
      "/home/webroot/ce-4200-webroot/ce-4200-notes/lessons/engineeringjudgement/engineeringjudgement.ipynb: Executed notebook in 1.40 seconds [mystnb]\n",
      "/home/webroot/ce-4200-webroot/ce-4200-notes/lessons/feexam/feexam.ipynb: Executing notebook using local CWD [mystnb]\n",
      "/home/webroot/ce-4200-webroot/ce-4200-notes/lessons/feexam/feexam.ipynb: Executed notebook in 1.23 seconds [mystnb]\n",
      "/home/webroot/ce-4200-webroot/ce-4200-notes/lessons/fereview/FER-math.ipynb: Executing notebook using local CWD [mystnb]\n",
      "/home/webroot/ce-4200-webroot/ce-4200-notes/lessons/fereview/FER-math.ipynb: Executed notebook in 1.33 seconds [mystnb]\n",
      "/home/webroot/ce-4200-webroot/ce-4200-notes/lessons/fereview/FER-statistics.ipynb: Executing notebook using local CWD [mystnb]\n",
      "/home/webroot/ce-4200-webroot/ce-4200-notes/lessons/fereview/FER-statistics.ipynb: Executed notebook in 1.37 seconds [mystnb]\n",
      "/home/webroot/ce-4200-webroot/ce-4200-notes/lessons/fereview/FER-testingprep.ipynb: Executing notebook using local CWD [mystnb]\n",
      "/home/webroot/ce-4200-webroot/ce-4200-notes/lessons/fereview/FER-testingprep.ipynb: Executed notebook in 1.29 seconds [mystnb]\n",
      "/home/webroot/ce-4200-webroot/ce-4200-notes/lessons/introduction/introduction.ipynb: Executing notebook using local CWD [mystnb]\n",
      "/home/webroot/ce-4200-webroot/ce-4200-notes/lessons/introduction/introduction.ipynb: Executed notebook in 4.07 seconds [mystnb]\n",
      "/home/webroot/ce-4200-webroot/ce-4200-notes/lessons/leadershit/leadershit.ipynb: Executing notebook using local CWD [mystnb]\n",
      "/home/webroot/ce-4200-webroot/ce-4200-notes/lessons/leadershit/leadershit.ipynb: Executed notebook in 4.06 seconds [mystnb]\n",
      "/home/webroot/ce-4200-webroot/ce-4200-notes/lessons/licensing/licensing.ipynb: Executing notebook using local CWD [mystnb]\n",
      "/home/webroot/ce-4200-webroot/ce-4200-notes/lessons/licensing/licensing.ipynb: Executed notebook in 1.11 seconds [mystnb]\n",
      "/home/webroot/ce-4200-webroot/ce-4200-notes/lessons/qbs/qbs.ipynb: Executing notebook using local CWD [mystnb]\n",
      "/home/webroot/ce-4200-webroot/ce-4200-notes/lessons/qbs/qbs.ipynb: Executed notebook in 1.26 seconds [mystnb]\n",
      "/home/webroot/ce-4200-webroot/ce-4200-notes/lessons/socialscience/socialscience.ipynb: Executing notebook using local CWD [mystnb]\n",
      "/home/webroot/ce-4200-webroot/ce-4200-notes/lessons/socialscience/socialscience.ipynb: Executed notebook in 1.53 seconds [mystnb]\n",
      "/home/webroot/ce-4200-webroot/ce-4200-notes/lessons/trusty/trusty.ipynb: Executing notebook using local CWD [mystnb]\n",
      "/home/webroot/ce-4200-webroot/ce-4200-notes/lessons/trusty/trusty.ipynb: Executed notebook in 1.40 seconds [mystnb]\n",
      "\n",
      "\u001b[01mlooking for now-outdated files... \u001b[39;49;00mnone found\n",
      "\u001b[01mpickling environment... \u001b[39;49;00mdone\n",
      "\u001b[01mchecking consistency... \u001b[39;49;00mdone\n",
      "\u001b[01mpreparing documents... \u001b[39;49;00mdone\n",
      "\u001b[01mcopying assets... \u001b[39;49;00m\n",
      "\u001b[01mcopying static files... \u001b[39;49;00mCopying the source path /opt/jupyterhub/lib/python3.10/site-packages/sphinx/themes/basic/static/doctools.js to /home/webroot/ce-4200-webroot/ce-4200-notes/_build/html/_static/doctools.js will overwrite data, as a file already exists at the destination path and the content does not match.\n",
      "Copying the source path /opt/jupyterhub/lib/python3.10/site-packages/sphinx/themes/basic/static/searchtools.js to /home/webroot/ce-4200-webroot/ce-4200-notes/_build/html/_static/searchtools.js will overwrite data, as a file already exists at the destination path and the content does not match.\n",
      "Copying the source path /opt/jupyterhub/lib/python3.10/site-packages/pydata_sphinx_theme/theme/pydata_sphinx_theme/static/webpack-macros.html to /home/webroot/ce-4200-webroot/ce-4200-notes/_build/html/_static/webpack-macros.html will overwrite data, as a file already exists at the destination path and the content does not match.\n",
      "Copying the source path /opt/jupyterhub/lib/python3.10/site-packages/sphinx_togglebutton/_static/togglebutton.css to /home/webroot/ce-4200-webroot/ce-4200-notes/_build/html/_static/togglebutton.css will overwrite data, as a file already exists at the destination path and the content does not match.\n",
      "Copying the source path /opt/jupyterhub/lib/python3.10/site-packages/sphinx_togglebutton/_static/togglebutton.js to /home/webroot/ce-4200-webroot/ce-4200-notes/_build/html/_static/togglebutton.js will overwrite data, as a file already exists at the destination path and the content does not match.\n",
      "Copying the source path /opt/jupyterhub/lib/python3.10/site-packages/sphinx_copybutton/_static/copy-button.svg to /home/webroot/ce-4200-webroot/ce-4200-notes/_build/html/_static/copy-button.svg will overwrite data, as a file already exists at the destination path and the content does not match.\n",
      "Copying the source path /opt/jupyterhub/lib/python3.10/site-packages/sphinx_copybutton/_static/copybutton.css to /home/webroot/ce-4200-webroot/ce-4200-notes/_build/html/_static/copybutton.css will overwrite data, as a file already exists at the destination path and the content does not match.\n",
      "Copying the source path /opt/jupyterhub/lib/python3.10/site-packages/sphinx_copybutton/_static/copybutton_funcs.js to /home/webroot/ce-4200-webroot/ce-4200-notes/_build/html/_static/copybutton_funcs.js will overwrite data, as a file already exists at the destination path and the content does not match.\n",
      "Copying the source path /opt/jupyterhub/lib/python3.10/site-packages/sphinx_thebe/_static/sphinx-thebe.js to /home/webroot/ce-4200-webroot/ce-4200-notes/_build/html/_static/sphinx-thebe.js will overwrite data, as a file already exists at the destination path and the content does not match.\n",
      "Copying the source path /opt/jupyterhub/lib/python3.10/site-packages/sphinx_thebe/_static/sphinx-thebe.css to /home/webroot/ce-4200-webroot/ce-4200-notes/_build/html/_static/sphinx-thebe.css will overwrite data, as a file already exists at the destination path and the content does not match.\n",
      "done\n",
      "\u001b[01mcopying extra files... \u001b[39;49;00mdone\n",
      "\u001b[01mcopying assets: \u001b[39;49;00mdone\n",
      "\u001b[2K\u001b[01mwriting output... \u001b[39;49;00m[100%] \u001b[32mlessons/trusty/trusty\u001b[39;49;00mnce\u001b[39;49;00ment\u001b[39;49;00m\u001b[32mlessons/introduction/introduction\u001b[39;49;00m\n",
      "\u001b[01mgenerating indices... \u001b[39;49;00mgenindex done\n",
      "\u001b[01mwriting additional pages... \u001b[39;49;00msearch done\n",
      "\u001b[2K\u001b[01mcopying images... \u001b[39;49;00m[100%] \u001b[33mlessons/licensing/EIT.png\u001b[39;49;00mng\u001b[39;49;00m\n",
      "\u001b[01mdumping search index in English (code: en)... \u001b[39;49;00mdone\n",
      "\u001b[01mdumping object inventory... \u001b[39;49;00mdone\n",
      "\u001b[01mbuild succeeded.\u001b[39;49;00m\n",
      "\n",
      "The HTML pages are in ce-4200-notes/_build/html.\n",
      "\n",
      "\u001b[92m===============================================================================\u001b[0m\n",
      "\n",
      "Finished generating HTML for book.\n",
      "Your book's HTML pages are here:\n",
      "    ce-4200-notes/_build/html/\n",
      "You can look at your book by opening this file in a browser:\n",
      "    ce-4200-notes/_build/html/index.html\n",
      "Or paste this line directly into your browser bar:\n",
      "    file:///home/webroot/ce-4200-webroot/ce-4200-notes/_build/html/index.html            \n",
      "\n",
      "\u001b[92m===============================================================================\u001b[0m\n",
      "\n"
     ]
    }
   ],
   "source": [
    "! jupyter-book build ce-4200-notes"
   ]
  },
  {
   "cell_type": "code",
   "execution_count": null,
   "metadata": {},
   "outputs": [],
   "source": []
  }
 ],
 "metadata": {
  "kernelspec": {
   "display_name": "Python 3 (ipykernel)",
   "language": "python",
   "name": "python3"
  },
  "language_info": {
   "codemirror_mode": {
    "name": "ipython",
    "version": 3
   },
   "file_extension": ".py",
   "mimetype": "text/x-python",
   "name": "python",
   "nbconvert_exporter": "python",
   "pygments_lexer": "ipython3",
   "version": "3.10.12"
  }
 },
 "nbformat": 4,
 "nbformat_minor": 4
}
