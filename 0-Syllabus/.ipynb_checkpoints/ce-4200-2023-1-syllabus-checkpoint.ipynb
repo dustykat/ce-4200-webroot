{
 "cells": [
  {
   "cell_type": "markdown",
   "metadata": {},
   "source": [
    "# CE 4200 Professional Engineering Practice Issues 2023\n",
    "\n",
    "## Course Catalog Description: \n",
    "\n",
    "CE 4200. Professional Engineering Practice Issues (2). A study of engineering body of knowledge topics to prepare students for engineering practice: topics include the FE Exam, licensure, leadership and others.\n",
    "\n",
    "## Prerequisites: \n",
    "Must be within two long semesters of graduation."
   ]
  },
  {
   "cell_type": "markdown",
   "metadata": {},
   "source": [
    "#### Course Sections\n",
    "Lesson time, days, and location: \n",
    "\n",
    "<!--1. Section 001; CRN xxxxx; 1200-1250 M-Th ; Mechanical Engineering North 00132-->\n",
    "1. Section 001; CRN 47264; 1200-1250 MW ; CE 205\n",
    "\n",
    "## Course Instructor:\n",
    "\n",
    "Instructor(s): Theodore G. Cleveland, Ph.D., P.E., M. ASCE, F. EWRI; Clifford B. Fedler, Ph.D.,P.E.,BCEE,F.ASABE\n",
    "\n",
    "Email: theodore.cleveland@ttu.edu  (put CE 4200-001 into the subject line for email related to this class)\n",
    "\n",
    "Office location: CECE 203F\n",
    "\n",
    "Office hours: TBD ; CE 203F\n",
    "\n",
    "## Teaching Assistant:\n",
    "\n",
    "Teaching Assistant: none authorized\n",
    "\n",
    "Email : \n",
    "\n",
    "Office location: \n",
    "\n",
    "Office hours: "
   ]
  },
  {
   "cell_type": "markdown",
   "metadata": {},
   "source": [
    "## Textbooks: \n",
    "1. ASCE (2018). Civil Engineering Body of Knowledge for the 21st Century: Preparing the Civil Engineer for the Future. Third Edition. DRAFT. American Society of Civil Engineers (ASCE), Reston, VA.\n",
    "\n",
    "2. ASCE (2008). Civil Engineering Body of Knowledge for the 21st Century: Preparing the Civil Engineer for the Future. Second Edition. American Society of Civil Engineers (ASCE), Reston, VA.\n",
    "\n",
    "3. NCEES (2013). FE Supplied-Reference Handbook, Edition 9.5, Version for Computer-Based Testing. National Council of Examiners for Engineering and Surveying (NCEES), Clemson, SC. Fifth Printing June 2018.\n",
    "\n",
    "4. Lindeburg, Michael R. (2017). FE Civil Review. Professional Publications, Inc., Belmont, CA.\n",
    "## Instructor's Notes:\n",
    "\n",
    "Cleveland, T. G. (2023) *Professional Engineering Practice - Notes to Accompany CE 4200 at TTU*, Department of Civil, Environmental, and Construction Engineering, Whitacre College of Engineering, DOI (pending) \n",
    "[http://54.243.252.9/ce-4200-webroot/ce-4200-notes/_build/html/intro.html](http://54.243.252.9/ce-4200-webroot/ce-4200-notes/_build/html/intro.html)"
   ]
  },
  {
   "cell_type": "markdown",
   "metadata": {},
   "source": [
    "## Course Objectives: \n",
    "The purpose of this required course is to address selected civil engineering body of knowledge topics including preparation for the NCEES Fundamentals of Engineering (FE) Exam, the importance of licensure, leadership and management, public policy, business aspects of engineering, and others. This course integrates technical, professional and social issues to help prepare senior BSCE students to enter professional practice."
   ]
  },
  {
   "cell_type": "markdown",
   "metadata": {},
   "source": [
    "## Knowledge, Skills, Abilities (KSA) :\n",
    "Upon sucessful completion of this course, students will have demonstrated the Knowledge, Skill, and Ability (KSA) to:\n",
    "\n",
    "1. Explain the purpose, scope, and current nature of the NCEES FE Exam as it relates to licensure,\n",
    "2. Demonstrate the appropriate level of achievement associated with selected civil engineering body of knowledge topics such as professional attitudes, professional responsibilities, teamwork and leadership, project management, critical thinking and problem solving, and social sciences."
   ]
  },
  {
   "cell_type": "markdown",
   "metadata": {},
   "source": [
    "## ABET Student Outcomes\n",
    "\n",
    "The <font color=\"teal\">**bold, teal colored items below are addressed in this class.**</font>\n",
    "\n",
    "* Engineering:\n",
    "    1. An ability to identify, formulate, and solve complex engineering problems by applying principles of engineering, science, and mathematics.**</font>\n",
    "    2. <font color=\"teal\">**an ability to apply engineering design to produce solutions that meet specified needs with consideration of public health, safety, and welfare, as well as global, cultural, social, environmental, and economic factors**</font>\n",
    "    3. an ability to communicate effectively with a range of audiences\n",
    "    4. <font color=\"teal\">**an ability to recognize ethical and professional responsibilities in engineering situations and make informed judgments, which must consider the impact of engineering solutions in global, economic, environmental, and societal contexts**</font>\n",
    "    5. an ability to function effectively on a team whose members together provide leadership, create a collaborative and inclusive environment, establish goals, plan tasks, and meet objectives\n",
    "    6. <font color=\"teal\">**an ability to develop and conduct appropriate experimentation, analyze and interpret data, and use engineering judgment to draw conclusions**</font>\n",
    "    7. <font color=\"teal\">**an ability to acquire and apply new knowledge as needed, using appropriate learning strategies.**</font>"
   ]
  },
  {
   "cell_type": "markdown",
   "metadata": {},
   "source": [
    "## Resources/Tools\n",
    "\n",
    "Computational tools equivalent to those used in ENGR 1330 are expected.  \n",
    "\n",
    "### Hardware Requirements\n",
    "The college of engineering has specific laptop requirements for courses that are listed at https://www.depts.ttu.edu/coe/dean/engineeringitservices/buyingtherightcomputer.php\n",
    "\n",
    "### Learning Management System\n",
    "Blackboard(BB) is used as the learning management system (LMS) for this class and all exercises are to be uploaded to BB.  Late submissions are accepted, but scores are automatically reduced 50% \n",
    "\n",
    "### Website\n",
    "The course website **for this section** is located at [http://54.243.252.9/ce-4200-webroot/](http://54.243.252.9/ce-4200-webroot/); the website is not intended as a primary access to course content, but will work when BB fails.  The webbook (below) and exercises, and exams are stored on the website.\n",
    "\n",
    "### Instructor Notes \n",
    "The course notes are located in a webbook at [http://54.243.252.9/ce-4200-webroot/ce-4200-notes/_build/html/intro.html](http://54.243.252.9/ce-4200-webroot/ce-4200-notes/_build/html/intro.html)"
   ]
  },
  {
   "cell_type": "code",
   "execution_count": 1,
   "metadata": {},
   "outputs": [
    {
     "data": {
      "text/html": [
       "<style> table {margin-left: 0 !important;} </style>\n"
      ],
      "text/plain": [
       "<IPython.core.display.HTML object>"
      ]
     },
     "metadata": {},
     "output_type": "display_data"
    }
   ],
   "source": [
    "%%html\n",
    "<style> table {margin-left: 0 !important;} </style>"
   ]
  },
  {
   "cell_type": "markdown",
   "metadata": {},
   "source": [
    "---\n",
    "\n",
    "## Course Schedule\n",
    "\n",
    "Each lesson is $\\approx 0.75$ hours; reading should be completed in advance\n",
    "\n",
    "---\n",
    "\n",
    "\n",
    "|date|lesson|topic|reading|homework|quiz|\n",
    "|:---|:---|:---|:---|:---|:---|\n",
    "|11Jan23|1|Introduction <br> - Syllabus  <br> - On-Line Resources  |none|none|none|\n",
    "|16Jan23|2|No Class (MLK Holiday)|none|none|none|\n",
    "|18JAN23|3|No Class (Faculty Meeting)|none|none|none|\n",
    "|23JAN23|4|CE Body of Knowledge  <br> - CEBOK \"curriculum\" <br> - CECE \"curriculum\" |- [CEBOK Course Notes](http://54.243.252.9/ce-4200-webroot/ce-4200-notes/_build/html/lessons/introduction/introduction.html#civil-engineering-body-of-knowledge-3) <br> - [CEBOK Server Copy ](http://54.243.252.9/ce-4200-webroot/3-Readings/BOK3_9780784415221.pdf) | - [ES1 deploy](http://54.243.252.9/ce-4200-webroot/2-Exercises/ES-1/CE4200_Assignment_1_s2023.pdf)| none|\n",
    "|25JAN23|5|Trust in Professional Relationships <br> - Procurement of Architect/Engineer Services by Texas Municipalities <br> - subtopic  <br> - subtopic |- Link to my notes <br> - Link to readings | -Link to assignment | Quiz due on BB|\n",
    "|30JAN23|6|Attitudes  <br> - subtopic  <br> - subtopic |- Link to my notes <br> - Link to readings | -Link to assignment | Quiz due on BB|\n",
    "|01FEB23|7|Early Career Guidance   <br>   <br> - subtopic |- Link to my notes <br> - Link to readings | -Link to assignment | Quiz due on BB|\n",
    "|06FEB23|8|Engineering Licensing <br> - “Setting the Standard” |- Link to my notes <br> - Link to readings | -Link to assignment | Quiz due on BB|\n",
    "|08FEB23|9|Professional Engineer License Application <br> - Exam  <br> - SER |- Link to my notes <br> - Link to readings | -Link to assignment | Quiz due on BB|\n",
    "|13FEB23|10|<font color=\"green\">No Class (Job Fair Week)</font>|- Link to my notes <br> - Link to readings | -Link to assignment | Quiz due on BB|\n",
    "|15FEB23|11|<font color=\"green\">No Class (Job Fair Week)</font>|- Link to my notes <br> - Link to readings | -Link to assignment | Quiz due on BB|\n",
    "|20FEB23|12|NCEES FE Exam <br> - subtopic |- Link to my notes <br> - Link to readings | -Link to assignment | Quiz due on BB|\n",
    "|22FEB23|13|FE Exam Performance<br> - subtopic  <br> - subtopic |- Link to my notes <br> - Link to readings | -Link to assignment | Quiz due on BB|\n",
    "|27FEB23|14|FE Exam Knowledge<br> - subtopic  <br> - subtopic |- Link to my notes <br> - Link to readings | -Link to assignment | Quiz due on BB|\n",
    "|01MAR23|15|FE Exam Preparation<br> - subtopic  <br> - subtopic |- Link to my notes <br> - Link to readings | -Link to assignment | Quiz due on BB|\n",
    "|06MAR23|16|The Business of Engineering <br> - subtopic  <br> - subtopic |- Link to my notes <br> - Link to readings | -Link to assignment | Quiz due on BB|\n",
    "|08MAR23|17|Qualification Based Selection <br> - subtopic  <br> - subtopic |- Link to my notes <br> - Link to readings | -Link to assignment | Quiz due on BB|\n",
    "|20MAR23|18|Engineering Leadership  <br> - subtopic  <br> - subtopic |- Link to my notes <br> - Link to readings | -Link to assignment | Quiz due on BB|\n",
    "|22MAR23|19|Diversity and Inclusion <br> - subtopic  <br> - subtopic |- Link to my notes <br> - Link to readings | -Link to assignment | Quiz due on BB|\n",
    "|27MAR23|20|Introduction to Project Management  <br> - subtopic  <br> - subtopic |- Link to my notes <br> - Link to readings | -Link to assignment | Quiz due on BB|\n",
    "|29MAR23|21|Project Management Post-Completion Audits<br> - subtopic  <br> - subtopic |- Link to my notes <br> - Link to readings | -Link to assignment | Quiz due on BB|\n",
    "|03APR23|22|Engineering Judgement<br> - subtopic  <br> - subtopic |- Link to my notes <br> - Link to readings | -Link to assignment | Quiz due on BB|\n",
    "|05APR23|23|Critical Thinking  <br> - subtopic  <br> - subtopic |- Link to my notes <br> - Link to readings | -Link to assignment | Quiz due on BB|\n",
    "|12APR23|24|Social Science and Civil Engineering <br> - subtopic  <br> - subtopic |- Link to my notes <br> - Link to readings | -Link to assignment | Quiz due on BB|\n",
    "|17APR23|25|Critical Thinking - Case Study  <br> - subtopic  <br> - subtopic |- Link to my notes <br> - Link to readings | -Link to assignment | Quiz due on BB|\n",
    "|19APR23|26|ProfessionalismTopic <br> - subtopic  <br> - subtopic |- Link to my notes <br> - Link to readings | -Link to assignment | Quiz due on BB|\n",
    "|24APR23|27|Topic <br> - subtopic  <br> - subtopic |- Link to my notes <br> - Link to readings | -Link to assignment | Quiz due on BB|\n",
    "|26APR23|28|Topic <br> - subtopic  <br> - subtopic |- Link to my notes <br> - Link to readings | -Link to assignment | |\n",
    "|01MAY23|29|Topic <br> - subtopic  <br> - subtopic |- Link to my notes <br> - Link to readings | -Link to assignment | |"
   ]
  },
  {
   "cell_type": "markdown",
   "metadata": {},
   "source": [
    "---\n",
    "## Course Assessment and Grading Criteria:\n",
    "There will be $\\approx$ 20 homework assignments, five tests, and several quizzes for the course.  \n",
    "<strong>Late</strong> assignments will be scored at 50% reduced value \n",
    "\n",
    "Grades will be based on the following components; weighting is approximate:\n",
    "\n",
    "|Assessment Instrument|Weight(%)|\n",
    "|---|---:|\n",
    "|Analysis/reflection assignments (short essays)|50|\n",
    "|Mock FE Proof of Completion|30|\n",
    "|Quizzes|20|\n",
    "|Overall total|100|\n",
    "\n",
    "Letter grades will be assigned using the following quantile proportions of all assessment instruments:\n",
    "\n",
    "|Quantile Range|Letter Grade|\n",
    "|:-|---:|\n",
    "|90-100|A| \n",
    "|71-89|B|\n",
    "|51-70|C|\n",
    "|31-50|D|\n",
    "|0 - 30|F|\n",
    "\n",
    "<!-- Scores as Quantiles Ranges\n",
    "|81-100|A| \n",
    "|61-80|B|\n",
    "|41-60|C|\n",
    "|21-40|D|\n",
    "|<= 0-20|F|\n",
    "-->\n"
   ]
  },
  {
   "cell_type": "markdown",
   "metadata": {},
   "source": [
    "## Classroom Policy:\n",
    "The following activities are not allowed in the classroom: Texting or talking on the cellphone or other electronic devices, and reading non-course related materials.\n",
    "### Telepresence (On-line) Courses\n",
    "Obviously electronic devices are vital; disrupting the conference is prohibited, please mute your microphone unless you have a question - consider typing your question into the chat window as well. Be aware of bandwidth issues and remember most lessons and laboratory sessions are recorded and posted on youtube.  Recording, editing, and rendering takes awhile, so expect 24-36 hour delay before video is available. "
   ]
  },
  {
   "cell_type": "markdown",
   "metadata": {},
   "source": [
    "---\n",
    "## ADA Statement: \n",
    "Any student who, because of a disability, may require special arrangements in order to meet the course requirements should contact the instructor as soon as possible to make necessary arrangements.  Students must present appropriate verification from Student Disability Services during the instructor's office hours.  Please note that instructors are not allowed to provide classroom accommodation to a student until appropriate verification from Student Disability Services has been provided.  For additional information, please contact Student Disability Services \n",
    "office in 335 West Hall or call 806.742.2405.\n",
    "\n",
    "## Academic Integrity Statement:\n",
    "Academic integrity is taking responsibility for one’s own class and/or course work, being individually accountable, and demonstrating intellectual honesty and ethical behavior.  Academic integrity is a personal choice to abide by the standards of intellectual honesty and responsibility.  Because education is a shared effort to achieve learning through the exchange of ideas, students, faculty, and staff have the collective responsibility to build mutual trust and respect.  Ethical behavior and independent thought are essential for the highest level of academic achievement, which then must be measured.  Academic achievement includes scholarship, teaching, and learning, all of which are shared endeavors.  Grades are a device used to quantify the successful accumulation of knowledge through learning.  Adhering to the standards of academic integrity ensures grades are earned honestly.  Academic integrity is the foundation upon which students, faculty, and staff build their educational and professional careers.  [Texas Tech University (“University”) Quality Enhancement Plan, Academic Integrity Task Force, 2010].\n",
    "\n",
    "## Religious Holy Day Statement: \n",
    "“Religious holy day” means a holy day observed by a religion whose places of worship are exempt from property taxation under Texas Tax Code §11.20.  A student who intends to observe a religious holy day should make that intention known to the instructor prior to the absence.  A student who is absent from classes for the observance of a religious holy day shall be allowed to take an examination or complete an assignment scheduled for that day within a reasonable time after the absence.  A student who is excused may not be penalized for the absence; however, the instructor may respond appropriately if the student fails to complete the assignment satisfactorily.\n",
    "\n",
    "## Ethical Conduct Policy:\n",
    "Cheating is prohibited, and the representation of the work of another person as your own will be grounds for receiving a failing grade in the course.\n",
    "\n",
    "**DISCRIMINATION, HARASSMENT, AND SEXUAL VIOLENCE STATEMENT:**\n",
    "Texas Tech University is committed to providing and strengthening an educational, working, and living environment where students, faculty, staff, and visitors are free from gender and/or sex discrimination of any kind. Sexual assault, discrimination, harassment, and other Title IX violations are not tolerated by the University. Report any incidents to the Office for Student Rights & Resolution, (806)-742-SAFE (7233) or file a report online at titleix.ttu.edu/students. Faculty and staff members at TTU are committed to connecting you to resources on campus. Some of these available resources are: TTU Student Counseling Center, 806- 742-3674, https://www.depts.ttu.edu/scc/(Provides confidential support on campus.) TTU 24-hour Crisis Helpline, 806-742-5555, (Assists students who are experiencing a mental health or interpersonal violence crisis. If you call the helpline, you will speak with a mental health counselor.) Voice of Hope Lubbock Rape Crisis Center, 806-763-7273, voiceofhopelubbock.org (24-hour hotline that provides support for survivors of sexual violence.) The Risk, Intervention, Safety and Education (RISE) Office, 806-742-2110,  https://www.depts.ttu.edu/rise/ (Provides a range of resources and support options focused on prevention education and student wellness.) Texas Tech Police Department, 806-742- 3931,http://www.depts.ttu.edu/ttpd/ (To report criminal activity that occurs on or near Texas Tech campus.)\n",
    "\n",
    "**CIVILITY IN THE CLASSROOM STATEMENT:**\n",
    "Texas Tech University is a community of faculty, students, and staff that enjoys an expectation of cooperation, professionalism, and civility during the conduct of all forms of university business, including the conduct of student–student and student–faculty interactions in and out of the classroom. Further, the classroom is a setting in which an exchange of ideas and creative thinking should be encouraged and where intellectual growth and development are fostered. Students who disrupt this classroom mission by rude, sarcastic, threatening, abusive or obscene language and/or behavior will be subject to appropriate sanctions according to university policy. Likewise, faculty members are expected to maintain the highest standards of professionalism in all interactions with all constituents of the university.\n",
    "To ensure that you are fully engaged in class discussions and account team meetings during class time, you are expected to do the following:\n",
    "- Maintain the same level of civility and professionalism that would be expected in a face-to-face classroom setting.\n",
    "- Attend all classes regularly.\n",
    "- Log into the video conference on time and remain logged in for the duration of the class period.\n",
    "- Activate your camera so that you are visible to the instructor and other students in the class. If you have concerns about leaving your camera on (such as childcare obligations, privacy issues, or a particular circumstance during a class period), please talk to the instructor.\n",
    "- Refrain from engaging in non-class related activities during class time that create a distraction for other students in the class and/or limit your ability to engage in the course.\n",
    "Failure to meet these expectations may result in the following consequences:\n",
    "1. Being counted as absent for the class meeting.\n",
    "2. Not receiving credit for class participation for that class period.\n",
    "3. Other consequences as stipulated in the syllabus, Texas Tech Code of Student Conduct, or other university policy.\n",
    "Repeated failure to meet expectations (e.g., attendance, participation in class, etc.), in addition to the above consequences, may result in the one or more of the following consequences:\n",
    "1. Referral to the appropriate Associate Dean.\n",
    "2. Academic penalty, ranging from a warning to failure of the course.\n",
    "(www.depts.ttu.edu/ethics/matadorchallenge/ethicalprinciples.php).\n",
    "\n",
    "**LGBTQIA SUPPORT STATEMENT:**\n",
    "I identify as an ally to the lesbian, gay, bisexual, transgender, queer, intersex, and asexual (LGBTQIA) community, and I am available to listen and support you in an affirming manner. I can assist in connecting you with resources on campus to address problems you may face pertaining to sexual orientation and/or gender identity that could interfere with your success at Texas Tech. Please note that additional resources are available through the Office of LGBTQIA within the Center for Campus Life, Student Union Building Room 201, www.lgbtqia.ttu.edu, 806.742.5433.”\n",
    "\n",
    "Office of LGBTQIA, Student Union Building Room 201, www.lgbtqia.ttu.edu, 806.742.5433\n",
    "Within the Center for Campus Life, the Office serves the Texas Tech community through facilitation and leadership of programming and advocacy efforts. This work is aimed at strengthening the lesbian, gay, bisexual, transgender, queer, intersex, and asexual (LGBTQIA) community and sustaining an inclusive campus that welcomes people of all sexual orientations, gender identities, and gender expressions.\n"
   ]
  },
  {
   "cell_type": "code",
   "execution_count": null,
   "metadata": {},
   "outputs": [],
   "source": []
  },
  {
   "cell_type": "code",
   "execution_count": null,
   "metadata": {},
   "outputs": [],
   "source": []
  }
 ],
 "metadata": {
  "kernelspec": {
   "display_name": "Python 3",
   "language": "python",
   "name": "python3"
  },
  "language_info": {
   "codemirror_mode": {
    "name": "ipython",
    "version": 3
   },
   "file_extension": ".py",
   "mimetype": "text/x-python",
   "name": "python",
   "nbconvert_exporter": "python",
   "pygments_lexer": "ipython3",
   "version": "3.8.10"
  }
 },
 "nbformat": 4,
 "nbformat_minor": 4
}
