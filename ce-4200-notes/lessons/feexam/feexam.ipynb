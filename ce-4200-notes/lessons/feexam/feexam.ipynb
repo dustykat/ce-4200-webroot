{
 "cells": [
  {
   "cell_type": "markdown",
   "metadata": {},
   "source": [
    "# Fundamentals of Engineering (FE) EXAM\n",
    "\n",
    "**Under development** \n"
   ]
  },
  {
   "cell_type": "markdown",
   "metadata": {
    "tags": []
   },
   "source": [
    "## References\n",
    "\n",
    "1. [Lawson (2022), *FE Exam (pptx) * Lecture to accompany CE 4200, Whitacre College of Engineering, Texas Tech University](http://54.243.252.9/ce-4200-webroot/ce-4200-notes/lessons/feexam/LECTURE6_CE4200FEEXAM_S2022.pptx)\n",
    "\n",
    "3. [Lawson (2022), *FE Exam Performance (pptx) * Lecture to accompany CE 4200, Whitacre College of Engineering, Texas Tech University](http://54.243.252.9/ce-4200-webroot/ce-4200-notes/lessons/feexam/LECTURE7_FEPERFORMANCE_CESpecific_S2022.pptx)\n",
    "\n",
    "3. [Lawson (2022), *FE Exam Knowledge (pptx) * Lecture to accompany CE 4200, Whitacre College of Engineering, Texas Tech University](http://54.243.252.9/ce-4200-webroot/ce-4200-notes/lessons/feexam/LECTURE8A_FEEXAMKNOWLEDGE_S2022.pptx)\n",
    "\n",
    "3. [Lawson (2022), *FE Exam Preparation (pptx) * Lecture to accompany CE 4200, Whitacre College of Engineering, Texas Tech University](http://54.243.252.9/ce-4200-webroot/ce-4200-notes/lessons/feexam/LECTURE8A_FEEXAMKNOWLEDGE_S2022.pptx)\n",
    "\n",
    "3. [Lawson (2022), *FE Exam* Handout to accompany CE 4200, Whitacre College of Engineering, Texas Tech University](http://54.243.252.9/ce-4200-webroot/ce-4200-webroot/ce-4200-notes/lessons/feexam/LECTURE6_CE4200FEEXAM_S2022-handout.pdf)\n",
    "\n",
    "3. [Lawson (2022), *FE Exam Performance* Handout to accompany CE 4200, Whitacre College of Engineering, Texas Tech University](http://54.243.252.9/ce-4200-webroot/ce-4200-notes/lessons/feexam/LECTURE7_FEPERFORMANCE_CESpecific_S2022-handout.pdf)\n",
    "\n",
    "3. [Lawson (2022), *FE Exam Knowledge* Handout to accompany CE 4200, Whitacre College of Engineering, Texas Tech University](http://54.243.252.9/ce-4200-webroot/ce-4200-notes/lessons/feexam/LECTURE8A_FEEXAMKNOWLEDGE_S2022-handout.pdf)\n",
    "\n",
    "3. [Lawson (2022), *FE Exam Preparation* Handout to accompany CE 4200, Whitacre College of Engineering, Texas Tech University](http://54.243.252.9/ce-4200-webroot/ce-4200-notes/lessons/feexam/LECTURE8B_FEEXAMPREPARATION_S2022-handout.pdf)\n",
    "\n",
    "4. [ASCE BOK-2](https://ascelibrary.org/doi/book/10.1061/9780784409657) \n",
    "\n",
    "5. [Texas Engineering Practice Act](https://engineers.texas.gov/downloads/enf_pub.pdf)"
   ]
  },
  {
   "cell_type": "code",
   "execution_count": null,
   "metadata": {},
   "outputs": [],
   "source": []
  }
 ],
 "metadata": {
  "kernelspec": {
   "display_name": "Python 3 (ipykernel)",
   "language": "python",
   "name": "python3"
  },
  "language_info": {
   "codemirror_mode": {
    "name": "ipython",
    "version": 3
   },
   "file_extension": ".py",
   "mimetype": "text/x-python",
   "name": "python",
   "nbconvert_exporter": "python",
   "pygments_lexer": "ipython3",
   "version": "3.8.10"
  }
 },
 "nbformat": 4,
 "nbformat_minor": 4
}
