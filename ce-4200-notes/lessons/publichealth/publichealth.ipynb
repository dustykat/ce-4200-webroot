{
 "cells": [
  {
   "cell_type": "markdown",
   "metadata": {},
   "source": [
    "# Evaluation of Public Health Considerations\n",
    "\n"
   ]
  },
  {
   "cell_type": "markdown",
   "metadata": {},
   "source": [
    "- The significance of public health in engineering.\n",
    "- Key public health considerations in design.\n",
    "- Case studies of successful integration.\n",
    "- Practical steps for you as engineering students.\""
   ]
  },
  {
   "cell_type": "markdown",
   "metadata": {},
   "source": [
    "## Why Public Health Matters in Engineering\n",
    "\n",
    "- Definition of Public Health: Protecting and improving the health of populations through education, policy-making, and research.\n",
    "- Impact of Engineering: Infrastructure, products, and systems designed by engineers can significantly affect community health.\n",
    "- Examples: Clean water systems, transportation design, waste management.\n",
    "\n",
    ":::{admonition} Discussion \n",
    "\"Can anyone think of a recent engineering project that had a direct impact on public health?\"\n",
    ":::"
   ]
  },
  {
   "cell_type": "markdown",
   "metadata": {},
   "source": [
    "## Key Public Health Considerations in Design \n",
    "\n",
    "Safety, accessibility, sustainability, and community engagement (stakeholder inputs) are key considerations in engineering design and construction.\n",
    "- Safety: Designing safe products and infrastructure (e.g., traffic systems that reduce accidents).\n",
    "- Accessibility: Ensuring that facilities are accessible to all, including those with disabilities.\n",
    "- Sustainability: Considering environmental impacts (e.g., pollution from industrial processes).\n",
    "- Community Engagement: Involving local communities in the design process to address specific health needs.\n",
    "\n",
    "### Safety: Designing safe products and infrastructure \n",
    "- Overview: Safety is paramount in engineering design. Consider the implications of structural failures, product malfunctions, or hazardous materials.\n",
    "- Example: In transportation engineering, designing roads with adequate signage, barriers, and pedestrian crossings reduces accidents and fatalities.\n",
    "- Statistics: Use relevant statistics, such as the decrease in traffic-related injuries after implementing specific safety features to validate the emphasis on safety (often reduced injuried have direct economic benefit, and if it makes money - it will get built!)\n",
    "\n",
    "### Accessibility: Ensuring that facilities are accessible to all\n",
    "- Overview: Accessibility ensures that all community members, regardless of physical abilities, can use facilities and services.\n",
    "- Example: The Americans with Disabilities Act (ADA) sets standards for accessibility in public spaces. Engineering designs must comply with these regulations.\n",
    "- Impact: Discuss how accessible design improves not just individual access, but also overall community health by promoting inclusion and mobility.\n",
    "\n",
    "### Sustainability: Considering environmental impacts\n",
    "- Overview: Sustainable engineering practices help mitigate environmental impacts that can harm public health.\n",
    "- Example: Designing energy-efficient buildings reduces greenhouse gas emissions, improving air quality.\n",
    "- Long-term Benefits: Emphasize how sustainable designs contribute to resilience against climate change, which can lead to public health crises.\n",
    "\n",
    "### Community Engagement: Involving local communities in the design process to address specific health needs.\n",
    "- Overview: Engaging with communities during the design process ensures that their needs and concerns are addressed.\n",
    "- Methods: Highlight tools like surveys, focus groups, and participatory design workshops.\n",
    "- Outcome: Projects that incorporate community input often see greater acceptance and usage, leading to better public health outcomes.\n",
    "\n",
    ":::{note}\n",
    "To do:\n",
    "- Include graphs or images showing the correlation between design decisions and public health outcomes. \n",
    "- Delete this note when completed\n",
    ":::"
   ]
  },
  {
   "cell_type": "markdown",
   "metadata": {},
   "source": [
    "## Case Study 1: Water Treatment Systems\n",
    "\n",
    "\"Let’s look at an example : the design of water treatment systems.\"\n",
    "### Background: \n",
    "Historically, poor water quality led to widespread disease.  Before modern water treatment, cities faced cholera outbreaks and other waterborne diseases. The introduction of clean water significantly improved public health.\n",
    "### Engineering Solution(s): \n",
    "Implementation of filtration, biochemical treatment systems, and disinfection technologies are examples of engineering solutions, which combined with continuous (daily) monitoring greatly improve delivered water quality.\n",
    "### Public Health Outcome(s): \n",
    "Dramatic reductions in waterborne diseases. The cholera epidemic in London was curtailed after the installation of a comprehensive sewer system and clean water access.\n",
    "\n",
    ":::{admonition} Discussion \n",
    "\"What engineering challenges did you think had to be overcome in this case?\"\n",
    ":::"
   ]
  },
  {
   "cell_type": "markdown",
   "metadata": {},
   "source": [
    "## Case Study 2: Urban Transportation \n",
    "\n",
    "[Introduction to Case Study]\n",
    "\"Now, let’s examine urban transportation systems.\"\n",
    "\n",
    "### Background: \n",
    "Traffic congestion and accidents as public health issues.  Urban areas often struggle with traffic congestion, which contributes to air pollution and physical inactivity.\n",
    "### Engineering Solutions: \n",
    "- Bike Lanes: Encourage cycling, leading to healthier lifestyles.\n",
    "- Public Transit Improvements: Discuss investments in buses and subways that reduce car dependency and associated emissions.\n",
    "- Pedestrian Infrastructure: Creating walkable neighborhoods fosters community interaction and promotes physical activity.\n",
    "    \n",
    "### Public Health Outcome: \n",
    "Reduced air pollution and improved community health metrics. Reference studies showing reductions in asthma rates and obesity levels in cities that have prioritized active transportation.\n",
    "\n",
    "[Engagement]\n",
    "\"Have you noticed any changes in your local transportation systems that have aimed to improve public health?\"\n",
    "\n",
    ":::{note}\n",
    "To do:\n",
    "- Include graphs or images showing the correlation between design decisions and public health outcomes. \n",
    "- Delete this note when completed\n",
    ":::"
   ]
  },
  {
   "cell_type": "markdown",
   "metadata": {},
   "source": [
    "## Practical Steps for Students \n",
    "\n",
    "### Learn and Research: Stay informed about public health principles.\n",
    "### Collaborate: Work with public health professionals in projects.\n",
    "### Design Thinking: Use design thinking to incorporate user feedback and public health needs into your designs.\n",
    "### Advocate: Promote health-focused engineering practices in your communities.\n",
    "\n",
    "Slide 8: Conclusion (5 minutes)\n",
    "\n",
    "\"We’ve seen how engineering decisions affect public health and how you can integrate these considerations into your work.\"\n",
    "\n",
    ":::{admonition} Include documented consideration of public health in your designs\n",
    "\"As you progress in your engineering careers, always remember: the designs you create can lead to healthier communities. Let’s engineer a better future!\"\n",
    ":::"
   ]
  },
  {
   "cell_type": "markdown",
   "metadata": {},
   "source": [
    "## Benefit to Society\n",
    "\n",
    "\n",
    "\n",
    "## Benefit to the Engineer\n",
    "\n",
    "to sign off on critical work.\n",
    "\n",
    "- Expanded Service Offerings: Licensed engineers enable companies to offer a broader range of services. This is particularly beneficial in fields like civil engineering, where PEs can sign and approve designs for public works, buildings, and infrastructure projects. This flexibility allows a company to diversify its project portfolio.\n",
    "\n",
    "- Reputation and Client Trust: Clients are more likely to trust companies that employ licensed professionals. A PE license signifies that the company adheres to stringent standards of quality and safety, which enhances client confidence and long-term business relationships.\n",
    "\n",
    "\n"
   ]
  },
  {
   "cell_type": "markdown",
   "metadata": {},
   "source": [
    "## References\n",
    "\n",
    "6. OpenAI (2024). Prompt: \"Can you help me write a short script (for 40 minute presentation) on \"Evaluation of Public Health Considerations\" in the context of engineering design? The audience is engineering students about 4 years away from license eligibility?\".  ChatGPT-4.0.  URL `https://chatgpt.com/c/66e1f0a5-21cc-800d-8b5a-ee9d9e8d2835`  \n",
    "\n",
    ":::{note}\n",
    "\"The OpenAI URL provided in references helps retrieve specific content shared, but information is not publicly recoverable unless required by legal obligations.\"\n",
    ":::"
   ]
  },
  {
   "cell_type": "markdown",
   "metadata": {},
   "source": []
  }
 ],
 "metadata": {
  "kernelspec": {
   "display_name": "Python 3",
   "language": "python",
   "name": "python3"
  },
  "language_info": {
   "codemirror_mode": {
    "name": "ipython",
    "version": 3
   },
   "file_extension": ".py",
   "mimetype": "text/x-python",
   "name": "python",
   "nbconvert_exporter": "python",
   "pygments_lexer": "ipython3",
   "version": "3.8.10"
  }
 },
 "nbformat": 4,
 "nbformat_minor": 4
}
