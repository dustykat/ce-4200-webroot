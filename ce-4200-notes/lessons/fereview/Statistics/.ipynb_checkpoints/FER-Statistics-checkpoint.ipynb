{
 "cells": [
  {
   "cell_type": "markdown",
   "metadata": {},
   "source": [
    "# 9. Engineering Probability and Statistics\n",
    "\n",
    ":::{admonition} Contributor\n",
    "Dr. Wenjie Fei created the annotated review notes.\n",
    ":::"
   ]
  },
  {
   "cell_type": "markdown",
   "metadata": {},
   "source": [
    "## Readings\n",
    "\n",
    "1. [<font color='orange'>FF Probability and Statistics Review (1 Oct 2025) worked examples by Dr. Fei</font>](http://54.243.252.9/ce-4200-webroot/ce-4200-notes/lessons/fereview/Statistics/2025-9_FEStatsReview_Fei.pdf)\n",
    "1. [FE Probability and Statistics Review (PPI Excerpt Circa 2010)](http://54.243.252.9/ce-4200-webroot/ce-4200-notes/lessons/fereview/Statistics/3CivilPracticeProbability-Statistics.pdf)\n",
    "2. [FER Probability Problems (no solutions)](http://54.243.252.9/ce-4200-webroot/ce-4200-notes/lessons/fereview/Statistics/FER_probabiity_101.pdf)\n",
    "3. [FER Probability Problems (no solutions)](http://54.243.252.9/ce-4200-webroot/ce-4200-notes/lessons/fereview/Statistics/FER_probabiity_102.pdf)\n",
    "4. [FER Probability and Statistics (no solutions)](http://54.243.252.9/ce-4200-webroot/ce-4200-notes/lessons/fereview/Statistics/FER-Probability-Statistics-Quiz.pdf)\n",
    "5. [Mock FE Exam Probability and Statistics (worked problems)](http://54.243.252.9/ce-4200-webroot/ce-4200-notes/lessons/fereview/Statistics/MFE_EXAM+SOLNS_Probability-Statistics.pdf)\n",
    "6. [NCEES FE Civil Practice Problems (no solutions)](http://54.243.252.9/ce-4200-webroot/ce-4200-notes/lessons/fereview/Statistics/NCEES_FE_Civil_Practice_Exam_PROBABILITY-STATISTICS.pdf)\n",
    "## Videos\n",
    "1. [FE Exam Review: Probability & Statistics (2019.11.13)](https://www.youtube.com/watch?v=MuYMbkwyDkM&list=PLCV9OyAY5K-UcIC4udMF2OA3FyG1uyo_U&index=11)\n",
    "\n",
    "---"
   ]
  },
  {
   "cell_type": "markdown",
   "metadata": {},
   "source": [
    "## Example\n",
    "\n",
    "What is the probability of picking an orange ball and a white ball out of a bag containing seven orange balls, eight green balls, and two white balls?\n",
    "- (A) 0.071\n",
    "- (B) 0.103\n",
    "- (C) 0.360\n",
    "- (D) 0.536\n",
    "\n",
    "## Work it Out\n",
    "\n",
    "**Problem:**\n",
    "A bag contains 7 orange, 8 green, and 2 white balls. Two balls are drawn (without replacement). What is the probability of drawing one orange and one white?\n",
    "\n",
    "### Step 1: Total number of balls\n",
    "\n",
    "$7+8+2=17$\n",
    "\n",
    "Total ways to choose 2 balls:\n",
    "\n",
    "$\\binom{17}{2}= \\frac{17 \\times 16}{2} = 136$\n",
    "\n",
    "### Step 2: Favorable outcomes (1 orange, 1 white)\n",
    "\n",
    "- Ways to pick 1 orange: $\\binom{7}{1}=7$\n",
    "- Ways to pick 1 white: $\\binom{2}{1} = 2$\n",
    "\n",
    "So favorable outcomes = $7×2=14$.\n",
    "\n",
    "### Step 3: Probability\n",
    "\n",
    "$P(\\text{1 orange and 1 white})=\\frac{14}{136}=\\frac{7}{68}~\\approx~ 0.103$\n",
    "\n",
    "\n",
    "Choose **B**"
   ]
  },
  {
   "cell_type": "markdown",
   "metadata": {},
   "source": [
    "## Section End\n",
    "\n",
    "[Statistics Quiz Preview](http://54.243.252.9/ce-4200-webroot/ce-4200-notes/lessons/fereview/Statistics/ProbAndStatsPreview.pdf)"
   ]
  },
  {
   "cell_type": "code",
   "execution_count": null,
   "metadata": {},
   "outputs": [],
   "source": []
  }
 ],
 "metadata": {
  "kernelspec": {
   "display_name": "Python 3 (ipykernel)",
   "language": "python",
   "name": "python3"
  },
  "language_info": {
   "codemirror_mode": {
    "name": "ipython",
    "version": 3
   },
   "file_extension": ".py",
   "mimetype": "text/x-python",
   "name": "python",
   "nbconvert_exporter": "python",
   "pygments_lexer": "ipython3",
   "version": "3.10.12"
  }
 },
 "nbformat": 4,
 "nbformat_minor": 4
}
