{
 "cells": [
  {
   "cell_type": "markdown",
   "metadata": {},
   "source": [
    "# 14. FER - Materials Science\n",
    "\n",
    ":::{note}\n",
    "Materials science is related to mechanics of materials but not the same - the videos below are for Mechanics of Materials.  Subject Matter Expert -- Unavailable.\n",
    ":::"
   ]
  },
  {
   "cell_type": "markdown",
   "metadata": {},
   "source": [
    "## Readings\n",
    "\n",
    "1. [Materials Science.pdf](http://54.243.252.9/ce-4200-webroot/ce-4200-notes/lessons/fereview/MaterialsScience/FER-MaterialsScience.pdf)\n",
    "2. [Materials Science Annotated Presentation.pdf](http://54.243.252.9/ce-4200-webroot/ce-4200-notes/lessons/fereview/MaterialsScience/Materials_Science_Annotated_Presentation.pdf)\n",
    "3. [Materials_Science.ppt](http://54.243.252.9/ce-4200-webroot/ce-4200-notes/lessons/fereview/MaterialsScience/Materials_Science.ppt)\n",
    "\n",
    "## Videos\n",
    "\n",
    "1. [Mechanics of Materials YouTube Video by Mark Mattson, PE - SUNY Polytechnical (Utica NY Campus)](https://www.youtube.com/watch?v=FF7-VOutTwM&list=PLWbyCDWU1A_iBDKyOeIcPDwH0IOnEwG3h&index=5)\n",
    "2. [FE Exam Review: Statics, Dynamics, Mechanics of Deformable Bodies YouTube Video by Gregory Michaelson - Marshall University (Go to 1:00:05 time stamp to view the Mechanics of Materials portion)](https://www.youtube.com/watch?v=SuH8F-X5enE)\n",
    "\n",
    "## Outline"
   ]
  },
  {
   "cell_type": "code",
   "execution_count": null,
   "metadata": {},
   "outputs": [],
   "source": []
  }
 ],
 "metadata": {
  "kernelspec": {
   "display_name": "Python 3 (ipykernel)",
   "language": "python",
   "name": "python3"
  },
  "language_info": {
   "codemirror_mode": {
    "name": "ipython",
    "version": 3
   },
   "file_extension": ".py",
   "mimetype": "text/x-python",
   "name": "python",
   "nbconvert_exporter": "python",
   "pygments_lexer": "ipython3",
   "version": "3.10.12"
  }
 },
 "nbformat": 4,
 "nbformat_minor": 4
}
