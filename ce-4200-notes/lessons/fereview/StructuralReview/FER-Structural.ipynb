{
 "cells": [
  {
   "cell_type": "markdown",
   "metadata": {},
   "source": [
    "# FE Review - Mechanics of Materials\n",
    "\n",
    ":::{note}\n",
    "Usually an actual subject expert would give the review but no-one could be forced at the time of this writing.  So this is a YOYO topic.\n",
    ":::"
   ]
  },
  {
   "cell_type": "markdown",
   "metadata": {},
   "source": [
    "## Readings\n",
    "\n",
    "1. [FER-MechMatls-1.pdf](http://54.243.252.9/ce-4200-webroot/ce-4200-notes/lessons/fereview/MechanicsMaterials/FER-MechMatls-1.pdf)\n",
    "2. [FER-MechMatls-2.pdf](http://54.243.252.9/ce-4200-webroot/ce-4200-notes/lessons/fereview/MechanicsMaterials/FER-MechMatls-2.pdf)\n",
    "3. [Mechanics-annotated.pdf](http://54.243.252.9/ce-4200-webroot/ce-4200-notes/lessons/fereview/MechanicsMaterials/Mechanics-annotated.pdf)\n",
    "4. [Mohr'sCircle.pdf](http://54.243.252.9/ce-4200-webroot/ce-4200-notes/lessons/fereview/MechanicsMaterials/Mohr'sCircle.pdf)\n",
    "\n",
    "## Videos\n",
    "\n",
    "1. [Mechanics of Materials YouTube Video by Mark Mattson, PE - SUNY Polytechnical (Utica NY Campus)](https://www.youtube.com/watch?v=FF7-VOutTwM&list=PLWbyCDWU1A_iBDKyOeIcPDwH0IOnEwG3h&index=5)\n",
    "2. [FE Exam Review: Statics, Dynamics, Mechanics of Deformable Bodies YouTube Video by Gregory Michaelson - Marshall University (Go to 1:00:05 time stamp to view the Mechanics of Materials portion)](https://www.youtube.com/watch?v=SuH8F-X5enE)\n",
    "\n",
    "## Outline"
   ]
  },
  {
   "cell_type": "markdown",
   "metadata": {},
   "source": [
    "## Axial Stress and Strain\n",
    "\n",
    "### Example 1\n",
    "\n",
    "### Example 2"
   ]
  },
  {
   "cell_type": "markdown",
   "metadata": {},
   "source": [
    "## Thermal Strain\n",
    "\n",
    "Materials expand/contract with $\\Delta$Temp.\n",
    "- deformation is thermal strain\n",
    "- if free to deform, then no stress.\n",
    "\n",
    "$$\\epsilon_T = \\alpha(T-T_0)$$\n",
    "\n",
    "$\\alpha$ is the coefficient of thermal expansion.  \n",
    "\n",
    "$(T-T_0)$ is the change in temperature.\n",
    "\n",
    "The change in length (if deformation is allowed) is\n",
    "\n",
    "$$\\delta_T = \\alpha L (T-T_0)$$\n",
    "\n",
    "$L$ is the length of the member at $T_0$\n",
    "   \n",
    "### Example 1\n",
    "\n",
    "A steel rod (E=210 GPa, $\\alpha =11.7 \\times 10^{-6}~\\text{per}~C^{o}$ is constrained and heated. What is the stress induced by a 40$C^o$ increase in temperature?\n",
    "\n",
    "**Use Virtual Work**\n",
    "\n",
    "1) Let the rod deform, then determine force required to squeeze back into $L_0$. Divide this force by cross sectional area to obtain normal stress ($\\sigma$)\n",
    "\n",
    "![](thermalstress.png)\n",
    "\n",
    "2) Apply axial stress equivalent to the thermal deformation\n",
    "\n",
    "![](thermalstress2.png)"
   ]
  },
  {
   "cell_type": "markdown",
   "metadata": {},
   "source": [
    "## Shear and Bending Diagrams\n",
    "\n",
    "### Example 1\n",
    "\n",
    "### Example 2"
   ]
  },
  {
   "cell_type": "markdown",
   "metadata": {},
   "source": [
    "## Bending Stress\n",
    "\n",
    "### Example 1\n",
    "\n",
    "### Example 2"
   ]
  },
  {
   "cell_type": "markdown",
   "metadata": {},
   "source": [
    "## Shear Stress \n",
    "\n",
    "### Example 1\n",
    "\n",
    "### Example 2\n",
    "\n",
    "### Example 3"
   ]
  },
  {
   "cell_type": "markdown",
   "metadata": {},
   "source": [
    "## Torsion\n",
    "\n",
    "### Example 1"
   ]
  },
  {
   "cell_type": "markdown",
   "metadata": {},
   "source": [
    "## Principal Stresses (Mohr's Circle)\n",
    "\n",
    "### Example 1\n",
    "\n",
    "### Example 2\n",
    "\n",
    "### Example 3"
   ]
  },
  {
   "cell_type": "markdown",
   "metadata": {},
   "source": [
    "## Elastic Buckling\n",
    "\n",
    "### Example 1"
   ]
  }
 ],
 "metadata": {
  "kernelspec": {
   "display_name": "Python 3",
   "language": "python",
   "name": "python3"
  },
  "language_info": {
   "codemirror_mode": {
    "name": "ipython",
    "version": 3
   },
   "file_extension": ".py",
   "mimetype": "text/x-python",
   "name": "python",
   "nbconvert_exporter": "python",
   "pygments_lexer": "ipython3",
   "version": "3.8.10"
  }
 },
 "nbformat": 4,
 "nbformat_minor": 4
}
