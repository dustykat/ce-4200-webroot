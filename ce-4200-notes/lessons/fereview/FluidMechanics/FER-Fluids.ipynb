{
 "cells": [
  {
   "cell_type": "markdown",
   "id": "41b7f7d3-70fb-4413-8c81-81e01385ac10",
   "metadata": {},
   "source": [
    "# 17. FER - Fluid Mechanics\n",
    "\n",
    ":::{warning}\n",
    "This section is still under construction.  \n",
    ":::"
   ]
  },
  {
   "cell_type": "markdown",
   "id": "2e2b15a5-a7a3-4118-b447-f494a4d4574c",
   "metadata": {},
   "source": [
    "## Readings\n",
    "\n",
    "1. [FER-Fluids-A.pdf](http://54.243.252.9/ce-4200-webroot/ce-4200-notes/lessons/fereview/FluidMechanics/FER-Fluids-A.pdf) older study guidelines\n",
    "2. [FER-Fluids-B.pdf](http://54.243.252.9/ce-4200-webroot/ce-4200-notes/lessons/fereview/FluidMechanics/FER-Fluids-B.pdf) Example quiz, hand written problems and solutions\n",
    "3. [FER-Fluids-Quiz.pdf](http://54.243.252.9/ce-4200-webroot/ce-4200-notes/lessons/fereview/FluidMechanics/FER-Fluids-Quiz.pdf) Example quiz; no solutions \n",
    "\n",
    "\n",
    "## Videos\n",
    "\n",
    "1. [FE Fluid Mechanics Review Session 2022 (Mark Mattson)](https://www.youtube.com/watch?v=XqjfnpqGWS0)\n",
    "2. [FE Exam Fluid Mechanics Review – Master the Core Concepts Through 11 Real Problems](https://www.youtube.com/watch?v=y9MkIEBIWr4)\n"
   ]
  },
  {
   "cell_type": "markdown",
   "id": "a7d1563f-49f7-4b6d-8055-8caf96ecbb5b",
   "metadata": {},
   "source": [
    "## Fluid Properties\n",
    "\n",
    "Important properties are:\n",
    "- Density. $\\rho=\\frac{m}{V}$ \n",
    "- Specific volume. $v = \\frac{1}{\\rho}$\n",
    "- Specific weight. $\\gamma = \\frac{\\rho}{g}$\n",
    "- Specific gravity. $SG_{liquid} = \\frac{\\rho_{liquid}}{\\rho_{water}}$\n",
    "\n",
    "### Pressure. \n",
    "Pressure is the scalar of normal stress in a fluid. Generally shear stress are very small (zero in an inviscid fluid). Pressure is either absolute, gage, or vacuum. Vacuum (negative pressures relative to atmospheric) are expressed as positive vacuum — this concept is the only place you are likely to make a mistake. If the\n",
    "problem statement has the word *vacuum*, proceed cautiously. Typical expressions\n",
    "are:\n",
    "\n",
    "$p_{abs} = p_{gage} + p_{atm}$ and\n",
    "\n",
    "$p_{abs} = −p_{vacuum} + p_{atm}$.\n",
    "\n",
    "### Viscosity. \n",
    "If the fluid is viscous (all real fluids) then there will be some shear stress.\n",
    "The relationship of the rate of shear deformation to applied stress (force per area) is\n",
    "the fluid viscosity.\n",
    "\n",
    "$\\tau=\\mu \\frac{dv}{dy}$\n",
    "\n",
    "The term $\\mu$ is the *absolute viscosity*. \n",
    "\n",
    "If the relationship is linear (as here) the fluid is called a Newtonian fluid. If the rate term is raised to some power other than unity, the fluid is non-Newtonian. \n",
    "\n",
    "All real fluids are non-Newtonian, but many (water, ammonia, air) are well approximated by the Newtonian model and are treated as Newtonian for all practical purposes.\n",
    "\n",
    "*Kinematic viscosity* is the ratio of the absolute viscosity to the fluid density.\n",
    "\n",
    "*Surface tension* is the amount of work required to break a fluid apart at its interface.  It is expressed as force per distance. Its usual symbol is $\\sigma$.\n",
    "\n",
    "Capillary rise is the rise of a fluid into a small diameter tube caused by an imbalance\n",
    "in adhesive and cohesive forces — surface tension plays a role. The typical formula\n",
    "is ($d$ is the tube diameter - the formula assumes the fluid is the wetting phase)\n",
    "\n",
    "$h_c = \\frac{4\\sigma cos \\beta}{\\gamma d}$"
   ]
  },
  {
   "cell_type": "markdown",
   "id": "98483e98-3554-482e-8859-1b977ed3fa5f",
   "metadata": {},
   "source": [
    "## Fluid Statics\n",
    "\n",
    "Fluid statics is concerned with fluid behavior at zero acceleration.\n",
    "Hydrostatic pressure is pressure in a fluid at zero acceleration. Usually it is referenced to the fluid surface (interface with another fluid where pressure is known).\n",
    "\n",
    "$p= \\gamma h_d$ where $h_d$ is depth into the fluid from the interface (free surface). This relationship must be memorized. Pressure variation is linear with depth — this assertion is used in analyzing forces.\n",
    "\n",
    "Manometers and Barometers are fluid systems that measure $\\Delta p$ . In either system,\n",
    "moving down in a fluid increases pressure, moving up in a fluid decreases pressure.\n",
    "\n",
    "Additionally a fluid transmits pressure undiminished throughout the system.\n",
    "\n",
    "### Submerged Bodies \n",
    "Expect several of these problems — they are easy to do well, and easy to mess up. Principal trick is to take advantage of hydrostatic pressure distribution and buoyancy to resolve vertical and horizontal components of forces, then answer the questions. \n",
    "\n",
    "Avoid integration at all costs (on the FE it wastes time). The formulas in the review book and NCEES are slow use shortcuts.\n",
    "\n",
    "- Center of pressure is where the resultant of the vertical and horizontal component of force act on a submerged body. - Horizontal component acts through centroid of the pressure prism (distributed force).\n",
    "- Vertical component acts through centroid of displaced liquid above object.\n",
    "- The vector sum provides the magnitude, line of action, and point of application of the resultant force.\n",
    "\n",
    "Bouyancy force is the weight of displaced fluid."
   ]
  },
  {
   "cell_type": "markdown",
   "id": "116a29f5-9ba9-4ca7-82e9-39cba73b8fd5",
   "metadata": {},
   "source": [
    "## Fluid Dynamics\n",
    "\n",
    "Behavior of fluids that are in motion and may be accelerating.\n",
    "\n",
    "**Conservation of Mass.** \n",
    "\n",
    "- Mass flows are conserved.\n",
    "\n",
    "$ \\dot{m1} = \\dot{m2}$\n",
    "\n",
    "- Also used in velocity and/or discharge form as\n",
    "\n",
    "$\\rho_1 A_1 V_1 = \\rho_2 A_2 V_2 ~~~\\text{and/or}~~~ \\rho_1 Q_1 = \\rho_2 Q_2$\n",
    "\n",
    "If incompressible, then $\\rho$ is a constant and conservation of flux is sufficient.\n",
    "\n",
    "**Conservation of Energy.**\n",
    "\n",
    "- Fluid system energy is comprised of pressure, velocity, and gravitational potentials (heads).\n",
    "- $h_{total} = \\frac{p}{\\gamma} + \\frac{V^2}{2g} + z$\n",
    "- Hydraulic Grade Line is a plot of the pressure head $\\frac{p}{\\gamma} + z $ versus $x$ in a system.\n",
    "- Energy Grade Line is a plot of the pressure and velocity head $\\frac{p}{\\gamma} +  \\frac{V^2}{2g} +z $ versus $x$ in a system.\n",
    "- Bernoulli’s Equation: In absence of energy losses (friction) the total head (energy) in a system is a constant.\n",
    "$\\frac{p_1}{\\gamma} + \\frac{V_1^2}{2g} + z_1 = \\frac{p_2}{\\gamma} + \\frac{V_2^2}{2g} + z_2$\n",
    "- Energy (modified Bernoulli's equation): Includes acounting for energy losses (and additions) $\\frac{p_1}{\\gamma} + \\frac{V_1^2}{2g} + z_1 + h_{gains} = \\frac{p_2}{\\gamma} + \\frac{V_2^2}{2g} + z_2 + h_{losses}$"
   ]
  },
  {
   "cell_type": "markdown",
   "id": "26942fff-041f-432f-bf13-889995da753a",
   "metadata": {},
   "source": [
    "## Section End\n",
    "\n",
    "[Fluids Quiz Preview](http://54.243.252.9/ce-4200-webroot/ce-4200-notes/lessons/fereview/FluidMechanics/FluidsPreview.pdf)"
   ]
  },
  {
   "cell_type": "code",
   "execution_count": null,
   "id": "8c654428-cc94-4b5a-b06f-49bb92e2e424",
   "metadata": {},
   "outputs": [],
   "source": []
  }
 ],
 "metadata": {
  "kernelspec": {
   "display_name": "Python Common Environment",
   "language": "python",
   "name": "python-my-env"
  },
  "language_info": {
   "codemirror_mode": {
    "name": "ipython",
    "version": 3
   },
   "file_extension": ".py",
   "mimetype": "text/x-python",
   "name": "python",
   "nbconvert_exporter": "python",
   "pygments_lexer": "ipython3",
   "version": "3.10.12"
  }
 },
 "nbformat": 4,
 "nbformat_minor": 5
}
