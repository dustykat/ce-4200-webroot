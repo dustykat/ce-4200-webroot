{
 "cells": [
  {
   "cell_type": "markdown",
   "id": "e84b1ef1-6e15-4a97-84a0-c56262072c3b",
   "metadata": {},
   "source": [
    "# 15. FER - Surveying\n",
    "\n",
    ":::{note}\n",
    "Under construction\n",
    ":::"
   ]
  },
  {
   "cell_type": "markdown",
   "id": "6fc500cd-5269-4976-b502-9e92bf2779e4",
   "metadata": {},
   "source": [
    "## Readings\n",
    "\n",
    "1. [Placeholder](http://54.243.252.9/ce-4200-webroot/ce-4200-notes/lessons/fereview/MechanicsMaterials/FER-MechMatls-1.pdf)\n",
    "2. [Placeholder](http://54.243.252.9/ce-4200-webroot/ce-4200-notes/lessons/fereview/MechanicsMaterials/FER-MechMatls-2.pdf)\n",
    "\n",
    "## Videos\n",
    "\n",
    "1. [FE Surveying Review Session 2022 (Mattson)](https://www.youtube.com/watch?v=mgSf9HYJFvg)\n",
    "2. [FE Exam Prep | Surveying Problem - Leveling](https://www.youtube.com/watch?v=f-yOdTGLLMc)\n",
    "3. [FE Review - Surveying - Angles, Distances and Trigonometry](https://www.youtube.com/watch?v=jJuapLM_TNM)\n",
    "4. [FE Exam Review - FE Civil - Surveying - Area by Coordinate Method](https://www.youtube.com/watch?v=q_WTBSPvOis&list=PLGCZ9gpx8Qdsv60BR8t3BrFNojlsoNi2J&index=5)\n",
    "5. [FE Exam Review - SURVEYING - NORTHING AND EASTING COORDINATES](https://www.youtube.com/watch?v=uoORWVQJDVU&list=PLGCZ9gpx8Qdsv60BR8t3BrFNojlsoNi2J&index=4)"
   ]
  },
  {
   "cell_type": "markdown",
   "id": "43ce2989-7f64-4c58-ad56-a1daa6fc17de",
   "metadata": {},
   "source": [
    "## Angles, Distances, and Trigonometry"
   ]
  },
  {
   "cell_type": "markdown",
   "id": "22678ea2-e5fc-4ca2-ac39-ecf29ce16b54",
   "metadata": {},
   "source": [
    "## Area Computations"
   ]
  },
  {
   "cell_type": "markdown",
   "id": "dfb76e8d-bb2f-4850-ad85-bc276aaa48c4",
   "metadata": {},
   "source": [
    "## Earthwork and Volume Computations"
   ]
  },
  {
   "cell_type": "markdown",
   "id": "b2f4b9b6-8c7a-4821-ba84-21b5f9f07854",
   "metadata": {},
   "source": [
    "## Coordinate Systems"
   ]
  },
  {
   "cell_type": "markdown",
   "id": "5e45ad14-4523-4542-a167-127cad8ae75e",
   "metadata": {},
   "source": [
    "## Leveling"
   ]
  },
  {
   "cell_type": "markdown",
   "id": "8419bfa2-d58d-41d7-8e97-9461902db3e5",
   "metadata": {},
   "source": [
    "## Section End\n",
    "\n",
    "- [Surveying Quiz Preview](dummy)"
   ]
  },
  {
   "cell_type": "code",
   "execution_count": null,
   "id": "56d327e3-6751-4707-a277-6658649f39ed",
   "metadata": {},
   "outputs": [],
   "source": []
  }
 ],
 "metadata": {
  "kernelspec": {
   "display_name": "Python Common Environment",
   "language": "python",
   "name": "python-my-env"
  },
  "language_info": {
   "codemirror_mode": {
    "name": "ipython",
    "version": 3
   },
   "file_extension": ".py",
   "mimetype": "text/x-python",
   "name": "python",
   "nbconvert_exporter": "python",
   "pygments_lexer": "ipython3",
   "version": "3.10.12"
  }
 },
 "nbformat": 4,
 "nbformat_minor": 5
}
