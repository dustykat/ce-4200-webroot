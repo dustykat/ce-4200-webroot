{
 "cells": [
  {
   "cell_type": "markdown",
   "id": "e84b1ef1-6e15-4a97-84a0-c56262072c3b",
   "metadata": {},
   "source": [
    "# 15. FER - Surveying\n",
    "\n",
    ":::{admonition} Contributors\n",
    "The annotated PPI surveying and earthwork notes and the annotated CONE 2302 notes were prepared by Mr. David Spears, P.E.  \n",
    ":::\n"
   ]
  },
  {
   "cell_type": "markdown",
   "id": "6fc500cd-5269-4976-b502-9e92bf2779e4",
   "metadata": {},
   "source": [
    "## Readings\n",
    "\n",
    "1. [<font color = \"orange\">Annotated</font> Civil Plane Surveying and Earthworks (PPI excerpt circa 2010)](http://54.243.252.9/ce-4200-webroot/ce-4200-notes/lessons/fereview/Surveying/13CivilPracticeSurveying.pdf)\n",
    "2. [<font color = \"orange\">Annotated</font> CONE 2302 Surveying Equation Sheet(s)](http://54.243.252.9/ce-4200-webroot/ce-4200-notes/lessons/fereview/Surveying/13CivilPracticeSurveying.pdf)\n",
    "3. [Mock FE Worked Solutions](http://54.243.252.9/ce-4200-webroot/ce-4200-notes/lessons/fereview/Surveying/MFE_EXAM+SOLNS_Surveying.pdf)\n",
    "1. [NCEES FE Practice Questions (no solutions) ](http://54.243.252.9/ce-4200-webroot/ce-4200-notes/lessons/fereview/Surveying/NCEES_FE_CivilPractice_Exam_SURVEYING.pdf)\n",
    "2. [FE Handbook 10-4 (local copy)](http://54.243.252.9/ce-4200-webroot/3-Readings/FE-Exam-Stuff/fe-handbook-10-4.pdf)\n",
    "1. [Civil Plane Surveying (PPI excerpt circa 2010)](http://54.243.252.9/ce-4200-webroot/ce-4200-notes/lessons/fereview/Surveying/13CivilPracticeSurveying.pdf)\n",
    "\n",
    "\n",
    "## Videos\n",
    "\n",
    "1. [FE Surveying Review Session 2022 (Mattson)](https://www.youtube.com/watch?v=mgSf9HYJFvg)\n",
    "2. [FE Exam Prep | Surveying Problem - Leveling](https://www.youtube.com/watch?v=f-yOdTGLLMc)\n",
    "3. [FE Review - Surveying - Angles, Distances and Trigonometry](https://www.youtube.com/watch?v=jJuapLM_TNM)\n",
    "4. [FE Exam Review - FE Civil - Surveying - Area by Coordinate Method](https://www.youtube.com/watch?v=q_WTBSPvOis&list=PLGCZ9gpx8Qdsv60BR8t3BrFNojlsoNi2J&index=5)\n",
    "5. [FE Exam Review - SURVEYING - NORTHING AND EASTING COORDINATES](https://www.youtube.com/watch?v=uoORWVQJDVU&list=PLGCZ9gpx8Qdsv60BR8t3BrFNojlsoNi2J&index=4)"
   ]
  },
  {
   "cell_type": "markdown",
   "id": "43ce2989-7f64-4c58-ad56-a1daa6fc17de",
   "metadata": {},
   "source": [
    "## Angles, Distances, and Trigonometry\n",
    "\n",
    ":::{note}\n",
    "Narrative and equations go here.\n",
    ":::\n",
    "\n",
    "### Example 1:\n",
    "\n",
    "![](problem1.png)\n",
    "\n",
    "![](answer1.png)\n",
    "\n",
    "---\n",
    "\n",
    "### Example 2:\n",
    "\n",
    "![](problem2.png)\n",
    "\n",
    "![](answer2.png)"
   ]
  },
  {
   "cell_type": "markdown",
   "id": "22678ea2-e5fc-4ca2-ac39-ecf29ce16b54",
   "metadata": {},
   "source": [
    "## Area Computations\n",
    "\n",
    ":::{note}\n",
    "Coordinate systems matter.  UTM is nearly cartesian and can use Homer Simpson's rule for plane areas.  \n",
    "\n",
    "Convert DMS into cartesian before making area calculations or use great circle projections then convert DMS$^2$ into plane areas.\n",
    ":::\n",
    "\n",
    "![](problemArea2.png)\n",
    "\n",
    "![](answerArea2.png)\n",
    "\n",
    "---\n",
    "\n",
    "![](problemArea1.png)\n",
    "\n",
    "![](answerArea1.png)\n"
   ]
  },
  {
   "cell_type": "markdown",
   "id": "dfb76e8d-bb2f-4850-ad85-bc276aaa48c4",
   "metadata": {},
   "source": [
    "## Earthwork and Volume Computations\n",
    "\n",
    ":::{note}\n",
    "Narrative and equations go here.\n",
    ":::\n",
    "\n",
    "### Example 3:\n",
    "\n",
    "![](problem3.png)\n",
    "\n",
    "![](answer3.png)"
   ]
  },
  {
   "cell_type": "markdown",
   "id": "b2f4b9b6-8c7a-4821-ba84-21b5f9f07854",
   "metadata": {},
   "source": [
    "## Coordinate Systems\n",
    "\n",
    ":::{note}\n",
    "Narrative and equations go here.\n",
    ":::"
   ]
  },
  {
   "cell_type": "markdown",
   "id": "5e45ad14-4523-4542-a167-127cad8ae75e",
   "metadata": {},
   "source": [
    "## Leveling\n",
    "\n",
    ":::{note}\n",
    "Narrative and equations go here.\n",
    ":::\n",
    "\n",
    "![](problem4.png)\n",
    "\n",
    "![](answer4.png)\n",
    "\n",
    "---\n",
    "\n",
    "### Backsight/Foresight(s)\n",
    "\n",
    "In surveying, a backsight (BS) is a reading taken to a point of known elevation, typically a benchmark, to help establish or verify the height of the surveying instrument (like a level or theodolite) before measuring points of unknown elevation. It is a \"backward\" sight along the line of progress and is essential for calculating the height of instrument (HI) and determining the elevation of subsequent points in the survey.  \n",
    "\n",
    "**Purpose of a Backsight**\n",
    "\n",
    "- Establish Instrument Height: When a surveying instrument is set up in a new location, a backsight on a point with a known elevation (like a benchmark) is used to calculate the instrument's height. \n",
    "- Maintain Level Circuits: In leveling surveys, backsights are taken on a known point to keep a continuous record of elevation changes as the instrument is moved. \n",
    "- Verify Elevations: Backsights are also used to check the accuracy of the survey by ensuring the calculated elevation of the instrument matches the expected elevation of the point. \n",
    "\n",
    "**How it Works**\n",
    "\n",
    "- Set up the instrument: The surveying instrument is positioned on a stable surface. \n",
    "\n",
    "- Take the backsight: A leveling rod is held vertically at a point with a known reduced level (RL), and the surveyor takes a reading with the instrument. \n",
    "- Calculate the height of instrument (HI): The backsight reading is added to the known RL of the benchmark to find the HI. For example, if a benchmark is at 98 meters and the backsight reading is 3 meters, the HI is 101 meters. \n",
    "- Take foresights: From this established HI, foresights (FS) are then taken on points where the elevation needs to be determined.\n",
    "\n",
    "### Example 5\n",
    "\n",
    "![](problem5.png)\n",
    "\n",
    "![](answer5.png)"
   ]
  },
  {
   "cell_type": "markdown",
   "id": "8419bfa2-d58d-41d7-8e97-9461902db3e5",
   "metadata": {},
   "source": [
    "## Section End\n",
    "\n",
    "- [Surveying Quiz Preview](http://54.243.252.9)  Placeholder no active link"
   ]
  },
  {
   "cell_type": "code",
   "execution_count": null,
   "id": "56d327e3-6751-4707-a277-6658649f39ed",
   "metadata": {},
   "outputs": [],
   "source": []
  }
 ],
 "metadata": {
  "kernelspec": {
   "display_name": "Python Common Environment",
   "language": "python",
   "name": "python-my-env"
  },
  "language_info": {
   "codemirror_mode": {
    "name": "ipython",
    "version": 3
   },
   "file_extension": ".py",
   "mimetype": "text/x-python",
   "name": "python",
   "nbconvert_exporter": "python",
   "pygments_lexer": "ipython3",
   "version": "3.10.12"
  }
 },
 "nbformat": 4,
 "nbformat_minor": 5
}
