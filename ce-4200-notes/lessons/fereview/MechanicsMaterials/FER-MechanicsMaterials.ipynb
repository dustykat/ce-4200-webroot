{
 "cells": [
  {
   "cell_type": "markdown",
   "metadata": {},
   "source": [
    "# FE Review - Mechanics of Materials\n",
    "\n",
    ":::{note}\n",
    "Usually an actual subject expert would give the review but no-one could be forced at the time of this writing.  So this is a YOYO topic.\n",
    ":::"
   ]
  },
  {
   "cell_type": "markdown",
   "metadata": {},
   "source": [
    "## Readings\n",
    "\n",
    "1. [FER-MechMatls-1.pdf](http://54.243.252.9/ce-4200-webroot/ce-4200-notes/lessons/fereview/MechanicsMaterials/FER-MechMatls-1.pdf)\n",
    "2. [FER-MechMatls-2.pdf](http://54.243.252.9/ce-4200-webroot/ce-4200-notes/lessons/fereview/MechanicsMaterials/FER-MechMatls-2.pdf)\n",
    "3. [Mechanics-annotated.pdf](http://54.243.252.9/ce-4200-webroot/ce-4200-notes/lessons/fereview/MechanicsMaterials/Mechanics-annotated.pdf)\n",
    "4. [Mohr'sCircle.pdf](http://54.243.252.9/ce-4200-webroot/ce-4200-notes/lessons/fereview/MechanicsMaterials/Mohr'sCircle.pdf)\n",
    "\n",
    "## Videos\n",
    "\n",
    "1. [Mechanics of Materials YouTube Video by Mark Mattson, PE - SUNY Polytechnical (Utica NY Campus)](https://www.youtube.com/watch?v=FF7-VOutTwM&list=PLWbyCDWU1A_iBDKyOeIcPDwH0IOnEwG3h&index=5)\n",
    "2. [FE Exam Review: Statics, Dynamics, Mechanics of Deformable Bodies YouTube Video by Gregory Michaelson - Marshall University (Go to 1:00:05 time stamp to view the Mechanics of Materials portion)](https://www.youtube.com/watch?v=SuH8F-X5enE)\n",
    "\n",
    "## Outline"
   ]
  },
  {
   "cell_type": "markdown",
   "metadata": {},
   "source": [
    "## Axial Stress and Strain\n",
    "\n",
    "Axial stress is the ratio of the applied (axial) force to member cross-sectional area.\n",
    "\n",
    "$\\sigma=\\frac{F}{A_0}$\n",
    "\n",
    "Strain is the associated change in member length and radius\n",
    "\n",
    "$\\epsilon = \\frac{\\Delta L}{L_0}$  $\\epsilon_r = \\frac{\\Delta R}{R_0}$\n",
    "\n",
    "The material properties are related to the forces and deformation via the elastic modulus\n",
    "\n",
    "$E = \\frac{\\sigma}{\\epsilon}$  The vaues are tabulated for different common materials.\n",
    "\n",
    "Poisson's ratio is the ratio of radial deformation to length deformation\n",
    "\n",
    "$\\nu = -\\frac{\\epsilon_r}{\\epsilon}$  The values are tabulated for different materials.\n",
    "\n",
    ":::{note}\n",
    "Stress has dimensions of a pressure (sometimes called solids pressure).  The strain is normalized deformation.  The deformation is proportional to the solids pressure. In elastic region the elastic modulus (below) is the constant of proportionality.\n",
    "\n",
    "Consider a linear spring, Hookes law states:\n",
    "\n",
    "$F=k \\Delta x$\n",
    "\n",
    "Divide by area\n",
    "\n",
    "$\\frac{F}{A}=\\frac{k}{A} \\Delta x$\n",
    "\n",
    "Multiply RHS by unity\n",
    "\n",
    "$\\sigma=\\frac{k}{A} \\Delta x \\frac{L}{L}$\n",
    "\n",
    "Algebra\n",
    "\n",
    "$\\sigma=\\frac{k L}{A} \\frac{\\Delta x}{L}$\n",
    "\n",
    "The first term on RHS is the modulus of elasticity, $E$, the second term is the axial strain $\\epsilon$.\n",
    "\n",
    "$\\sigma=E \\epsilon$\n",
    "\n",
    ":::"
   ]
  },
  {
   "cell_type": "markdown",
   "metadata": {},
   "source": [
    "### Example 1\n",
    "\n",
    "A 1 in. diameter aluminum rod becomes 0.007 in. longer from a 1500 lbf tensile load.  \n",
    "\n",
    "Determine:\n",
    "\n",
    "1. The rod's initial length.\n",
    "2. The change in radius caused by the applied load.\n",
    "\n",
    "**Solution**\n",
    "\n",
    "Sketch the situation:\n",
    "\n",
    "![](AlRod.png)\n",
    "\n",
    "Write governing principles:\n",
    "\n",
    "$\\epsilon = \\frac{\\Delta L}{L_0}$\n",
    "\n",
    "Isolate unknown:\n",
    "\n",
    "$L_0  = \\frac{\\Delta L}{\\epsilon}$\n",
    "\n",
    "Find $\\epsilon$ from material properties lookup\n",
    "\n",
    "$E = 10 \\times 10^{6}~psi$\n",
    "\n",
    "Apply definition of elastic modulus\n",
    "\n",
    "$\\epsilon = \\frac{4 F}{\\pi D_0^{2}} \\times \\frac{1}{E}$\n",
    "\n",
    "**Calculate**"
   ]
  },
  {
   "cell_type": "code",
   "execution_count": 36,
   "metadata": {},
   "outputs": [
    {
     "name": "stdout",
     "output_type": "stream",
     "text": [
      "Strain 4.77e-05\n",
      "Initial length : 146.608  inches\n"
     ]
    }
   ],
   "source": [
    "import math\n",
    "# input values\n",
    "elastic_modulus = 10.0e06 #psi\n",
    "diameter = 2.0 #inches\n",
    "axial_load = 1500 #lbf\n",
    "delta_L = 0.007 #inches\n",
    "# calculated values\n",
    "epsilon = (4.0*axial_load)/(elastic_modulus*math.pi*diameter**2)\n",
    "initial_length=delta_L/epsilon\n",
    "# result\n",
    "print(\"Strain\",round(epsilon,7))\n",
    "print(\"Initial length :\",round(initial_length,3),\" inches\")"
   ]
  },
  {
   "cell_type": "markdown",
   "metadata": {},
   "source": [
    "Governing principles\n",
    "\n",
    "$\\Delta R=-\\frac{\\epsilon_r}{\\epsilon} \\times \\epsilon \\times R_0$\n",
    "\n",
    "The first term in the RHS is Poisson's ratio\n",
    "\n",
    "$\\Delta R=-\\nu \\times \\epsilon \\times R_0$\n",
    "\n",
    "Find $\\nu$ from material properties lookup\n",
    "\n",
    "$\\nu = 0.33$\n",
    "\n",
    "**Calculate**"
   ]
  },
  {
   "cell_type": "code",
   "execution_count": 37,
   "metadata": {},
   "outputs": [
    {
     "name": "stdout",
     "output_type": "stream",
     "text": [
      "Radius change : -1.58e-05  inches\n"
     ]
    }
   ],
   "source": [
    "poisson_ratio = 0.33\n",
    "deltaR = -poisson_ratio*epsilon*(0.5*diameter)\n",
    "print(\"Radius change :\",round(deltaR,7),\" inches\")"
   ]
  },
  {
   "cell_type": "markdown",
   "metadata": {},
   "source": [
    "---"
   ]
  },
  {
   "cell_type": "markdown",
   "metadata": {},
   "source": [
    "### Example 2\n",
    "\n",
    "Determine the change in the length of the 4 mm diameter steel wire\n",
    "\n",
    "![](Cantilever.png)\n",
    "\n",
    "**Solution**\n",
    "\n",
    "Look-up value for elastic modulus of steel\n",
    "\n",
    "$E=210~GPa$\n",
    "\n",
    "Draw FBD to analyze forces\n",
    "\n",
    "![](FBDCantilever.png)\n",
    "\n",
    "Moment at pivot solve for wire tension\n",
    "\n",
    "![](ForceBalance.png)\n",
    "\n",
    "Solve for deformation (observe radius is 2 mm)\n",
    "\n",
    "![](SolveForDeform.png)\n",
    "\n",
    "---"
   ]
  },
  {
   "cell_type": "markdown",
   "metadata": {},
   "source": [
    "## Thermal Strain\n",
    "\n",
    "Materials expand/contract with $\\Delta$Temp.\n",
    "- deformation is thermal strain\n",
    "- if free to deform, then no stress.\n",
    "\n",
    "$$\\epsilon_T = \\alpha(T-T_0)$$\n",
    "\n",
    "$\\alpha$ is the coefficient of thermal expansion.  \n",
    "\n",
    "$(T-T_0)$ is the change in temperature.\n",
    "\n",
    "The change in length (if deformation is allowed) is\n",
    "\n",
    "$$\\delta_T = \\alpha L (T-T_0)$$\n",
    "\n",
    "$L$ is the length of the member at $T_0$\n",
    "   \n",
    "### Example 1\n",
    "\n",
    "A steel rod (E=210 GPa, $\\alpha =11.7 \\times 10^{-6}~\\text{per}~C^{o}$ is constrained and heated. What is the stress induced by a 40$C^o$ increase in temperature?\n",
    "\n",
    "**Use Virtual Work**\n",
    "\n",
    "1 Let the rod deform, then determine force required to squeeze back into $L_0$. Divide this force by cross sectional area to obtain normal stress ($\\sigma$)\n",
    "\n",
    "![](thermalstressReplace.png)\n",
    "\n",
    "$\\Delta L = \\alpha L_0 (T-T_0)$\n",
    "\n",
    "$\\frac{\\Delta L}{L_0} = \\epsilon_T = \\alpha (T-T_0) $\n",
    "\n",
    "2 Apply axial stress equivalent to the thermal deformation\n",
    "\n",
    "$\\epsilon_T E = \\sigma = \\frac{F}{A_0}$\n",
    "\n",
    "$\\sigma = \\alpha (T-T_0) E = (11.7 \\times 10^{-6}/^oC)(40^oC)(210 \\times 10^9~Pa)=98.2 \\times 10^3~kN/m^2=98.2~MPa$"
   ]
  },
  {
   "cell_type": "markdown",
   "metadata": {},
   "source": [
    "## Shear and Bending Diagrams\n",
    "\n",
    "Represents beam's internal effects in resisting bending, shear, and torsion.\n",
    "\n",
    "![](bendsheartwist.png)\n",
    "\n",
    "Action/reaction requires $V$ (shear), $M$ (bending) , and $T$ (torsion) to be equal and opposite at internal surface.\n",
    "\n",
    "For in-plane (only, no torsion) only consider $V$ and $M$.\n",
    "\n",
    "![](VandM.png)\n",
    "\n",
    "Consider the loading below, drawing shear and bending follows simple steps.\n",
    "\n",
    "![](ShearBendBlank.png)\n",
    "\n",
    "1. Find all external reactions.  In the diagram above, there are two reactions that are non-zero and in the vertical direction.  We can find magnitude from the Moment at the left support.<br><br> In the drawing if the distance from the left support to the load is $L_1$, then the vertical reaction is $F(\\frac{L_1}{L})$.  The reaction at the roller support is $F(\\frac{L-L_1}{L})$\n",
    "2. Isolate, determine equilibrium conditions ($V$ and $M$)\n",
    "3. Move section boundary to find $V$ and $M$ and new location.\n",
    "4. Point loads and couples produce discontinuous changes in $V$ and/or $M$.\n",
    "5. Distributed loads <br><br> $\\frac{d}{dx}(\\frac{dM}{dx}) = - w(x)$ <br><br>where $w(x)$ is the distributed load function.<br><br>Integrate to recover shear<br><br> $\\frac{dM}{dx} = V(x) = \\int{-w(x)dx} = -w(x) \\cdot x + C$  <br><br> Integrate again to generate bending moment diagram <br><br> $M = \\int{V(x)dx} = \\frac{-w(x)x^2}{2}+Cx+D$<br><br>where $C$ and $D$ are constants of integration.\n",
    "\n",
    "![](ShearBendDraw.png)"
   ]
  },
  {
   "cell_type": "markdown",
   "metadata": {},
   "source": [
    "### Example 1\n",
    "\n",
    "Find maximum shear force and its location.\n",
    "\n",
    "![](Example1Load.png)\n",
    "\n",
    "**Find Reactions**\n",
    "\n",
    "Draw reaction unknowns, replace distributed force by equivalent point load.\n",
    "\n",
    "![](Ex1Reactions.png)\n",
    "\n",
    "**Apply Moment balance at A to find vertical reaction at B**\n",
    "\n",
    "![](Ex1Breaction.png)\n",
    "\n",
    "**Apply Static equilibrium balance to find vertical reaction at A**\n",
    "\n",
    "![](Ex1Areaction.png)\n",
    "\n",
    "**Draw shear diagram** (recall the distributed force is continuous over its interval)\n",
    "\n",
    "![](Ex1Shear.png)\n",
    "\n",
    "$V_{max} = P$ located at\n",
    "\n",
    "$x=2L$\n",
    "\n",
    "### Example 2\n",
    "\n",
    "Find the maximum bending moment (for the same load conditions above)\n",
    "\n",
    "![](Example1Load.png)\n",
    "\n",
    "**Integrate the shear diagram to obtain a bending moment diagram**\n",
    "\n",
    "![](Ex2Bending.png)\n",
    "\n",
    "### Example 3\n",
    "\n",
    "Sketch the shear and bending moment diagrams for the loading below:\n",
    "\n",
    "![](Cantilever.png)\n",
    "\n",
    "**Apply Steps Above**\n",
    "\n",
    "![](Ex3MandV.png)"
   ]
  },
  {
   "cell_type": "markdown",
   "metadata": {},
   "source": [
    "## Bending Stress\n",
    "Models internal stress in a section relative to a neutral axis.\n",
    "\n",
    "![](InternalStress.png)\n",
    "\n",
    "Bending formula $\\sigma = - \\frac{My}{I}$\n",
    "\n",
    "where\n",
    "\n",
    "$M$ is the bending moment at position $y$ from a neutral axis, and\n",
    "\n",
    "$I$ is the second moment of area for the section.  \n",
    "\n",
    "$y$ and $I$ are measured from the centroid of the section, but the parallel axis theorem can be applied if the centroidal values are not readily available.  $I=I_{c} + A d^2$ where $d$ is the distance from the neutral axis to the centroid\n",
    "\n",
    "![](NeutralAxis.png)\n",
    " "
   ]
  },
  {
   "cell_type": "markdown",
   "metadata": {},
   "source": [
    "### Example 1\n",
    "\n",
    "Find the maximum bending stress in the beam\n",
    "\n",
    "![](CantileverBeam.png)\n",
    "\n",
    "**Solution**\n",
    "\n",
    "![](CantileverBeamBending.png)"
   ]
  },
  {
   "cell_type": "markdown",
   "metadata": {},
   "source": [
    "## Shear Stress \n",
    "\n",
    "Internal shear stress is the integral of bending stress $\\tau_x(y)=\\int{\\sigma_x(y)dy}$\n",
    "\n",
    "![](ShearBeam.png)\n",
    "\n",
    "The shear formula (for a section is)\n",
    "\n",
    "$\\tau = \\frac{VQ}{Ib}$  where\n",
    "\n",
    "$V$ is the shear force at  the section (obtain from shear diagram),<br>\n",
    "$Q$ is the first moment of area above the neutral axis,<br>\n",
    "$I$ is the 2nd moment of area, and<br>\n",
    "$b$ is the section width.\n",
    "\n",
    "### Example 1\n",
    "\n",
    "Find the largest shear stress in a beam widda rectangular cross section.\n",
    "\n",
    "![](rectangle.png)\n",
    "\n",
    "**Solution**\n",
    "\n",
    "![](rectanglesolution.png)\n",
    "\n",
    "### Example 2\n",
    "\n",
    "Find the maximum shear stress in the beam\n",
    "\n",
    "![](CantileverBeam.png)\n",
    "\n",
    "**Solution**\n",
    "\n",
    "![](BeamShearMax.png)\n",
    "\n",
    "### Example 3\n",
    "\n",
    "Find the ratio of maximum bending stress to the maximum shear stress in a can't-a-lever beam with an end load and wrecked angular cross section.\n",
    "\n",
    "![](cantLever.png)\n",
    "\n",
    "**Solution**\n",
    "\n",
    "![](cantLeverSolve.png)"
   ]
  },
  {
   "cell_type": "markdown",
   "metadata": {},
   "source": [
    "## Torsion\n",
    "\n",
    "![](torsion.png)\n",
    "\n",
    "![](polarMoment.png)\n",
    "\n",
    "### Example 1\n",
    "\n",
    "Find the maximum torque that can be applied to a 10 cm diameter shaft that tolerate a shear stress of 140 MPa.\n",
    "\n",
    "**Solution**\n",
    "\n",
    "![](MaxTorque.png)\n",
    "\n"
   ]
  },
  {
   "cell_type": "markdown",
   "metadata": {},
   "source": [
    "## Principal Stresses (Mohr's Circle)\n",
    "\n",
    "![](principalstress.png)\n",
    "\n",
    "### Example 1\n",
    "\n",
    "![](mohrs1.png)\n",
    "\n",
    "To find the principal stresses for the given plane stress condition, we use the principal stress formulas, which are derived from Mohr's circle:"
   ]
  },
  {
   "cell_type": "code",
   "execution_count": 38,
   "metadata": {},
   "outputs": [
    {
     "name": "stdout",
     "output_type": "stream",
     "text": [
      "sigma_min 33.82\n",
      "sigma_max 56.18\n",
      "tau_max 11.18\n"
     ]
    }
   ],
   "source": [
    "sigma_x = 40\n",
    "sigma_y = 50\n",
    "tau_xy = 10\n",
    "import math\n",
    "sigma_min = 0.5*(sigma_x+sigma_y)-math.sqrt((0.5*(sigma_x-sigma_y))**2 + tau_xy**2)\n",
    "sigma_max = 0.5*(sigma_x+sigma_y)+math.sqrt((0.5*(sigma_x-sigma_y))**2 + tau_xy**2)\n",
    "tau_max = math.sqrt((0.5*(sigma_x-sigma_y))**2 + tau_xy**2)\n",
    "print(\"sigma_min\",round(sigma_min,3))\n",
    "print(\"sigma_max\",round(sigma_max,3))\n",
    "print(\"tau_max\",round(tau_max,3))"
   ]
  },
  {
   "cell_type": "markdown",
   "metadata": {},
   "source": [
    "So the closest answer is **D** as in dog. "
   ]
  },
  {
   "cell_type": "markdown",
   "metadata": {},
   "source": [
    "### Example 2\n",
    "\n",
    "![](morhs2.png)\n",
    "\n",
    "To find the principal stresses for the given plane stress condition, we use the principal stress formulas, which are derived from Mohr's circle:"
   ]
  },
  {
   "cell_type": "code",
   "execution_count": 39,
   "metadata": {},
   "outputs": [
    {
     "name": "stdout",
     "output_type": "stream",
     "text": [
      "sigma_min -166.89\n",
      "sigma_max 231.89\n",
      "tau_max 199.39\n"
     ]
    }
   ],
   "source": [
    "sigma_x = -140\n",
    "sigma_y = 205\n",
    "tau_xy = 100\n",
    "import math\n",
    "sigma_min = 0.5*(sigma_x+sigma_y)-math.sqrt((0.5*(sigma_x-sigma_y))**2 + tau_xy**2)\n",
    "sigma_max = 0.5*(sigma_x+sigma_y)+math.sqrt((0.5*(sigma_x-sigma_y))**2 + tau_xy**2)\n",
    "tau_max = math.sqrt((0.5*(sigma_x-sigma_y))**2 + tau_xy**2)\n",
    "print(\"sigma_min\",round(sigma_min,3))\n",
    "print(\"sigma_max\",round(sigma_max,3))\n",
    "print(\"tau_max\",round(tau_max,3))"
   ]
  },
  {
   "cell_type": "markdown",
   "metadata": {},
   "source": [
    "So the closest answer is **C** as in cat. "
   ]
  },
  {
   "cell_type": "markdown",
   "metadata": {},
   "source": [
    "### Example 3\n",
    "\n",
    "![](mohrcircle3.png)\n",
    "\n",
    "To find the principal stresses for the given plane stress condition, we use the principal stress formulas, which are derived from Mohr's circle:"
   ]
  },
  {
   "cell_type": "code",
   "execution_count": 40,
   "metadata": {},
   "outputs": [
    {
     "name": "stdout",
     "output_type": "stream",
     "text": [
      "sigma_min -166.89\n",
      "sigma_max 231.89\n",
      "tau_max 199.39\n"
     ]
    }
   ],
   "source": [
    "sigma_x = -140\n",
    "sigma_y = 205\n",
    "tau_xy = 100\n",
    "import math\n",
    "sigma_min = 0.5*(sigma_x+sigma_y)-math.sqrt((0.5*(sigma_x-sigma_y))**2 + tau_xy**2)\n",
    "sigma_max = 0.5*(sigma_x+sigma_y)+math.sqrt((0.5*(sigma_x-sigma_y))**2 + tau_xy**2)\n",
    "tau_max = math.sqrt((0.5*(sigma_x-sigma_y))**2 + tau_xy**2)\n",
    "print(\"sigma_min\",round(sigma_min,3))\n",
    "print(\"sigma_max\",round(sigma_max,3))\n",
    "print(\"tau_max\",round(tau_max,3))"
   ]
  },
  {
   "cell_type": "markdown",
   "metadata": {},
   "source": [
    "So the closest answer is **D** as in dog. "
   ]
  },
  {
   "cell_type": "markdown",
   "metadata": {},
   "source": [
    "![](mohrsangles.png)\n",
    "\n",
    "Here we want to find the angles above and below the $\\sigma$ axis in Mohr's circle.  Using $tan(2\\Theta)=\\frac{2\\tau_{xy}}{\\sigma_x-\\sigma_y}$"
   ]
  },
  {
   "cell_type": "code",
   "execution_count": 41,
   "metadata": {},
   "outputs": [
    {
     "name": "stdout",
     "output_type": "stream",
     "text": [
      "Theta_1 -15.051\n",
      "Theta_2 74.949\n"
     ]
    }
   ],
   "source": [
    "sigma_x = -140\n",
    "sigma_y = 205\n",
    "tau_xy = 100\n",
    "import math\n",
    "tan2theta=2*tau_xy/(sigma_x-sigma_y)\n",
    "two_theta=math.atan(tan2theta)\n",
    "two_theta=two_theta*(180/math.pi)\n",
    "one_theta=two_theta/2\n",
    "print(\"Theta_1\",round(one_theta,3))\n",
    "print(\"Theta_2\",round(one_theta+90,3))\n"
   ]
  },
  {
   "cell_type": "markdown",
   "metadata": {},
   "source": [
    "So the closest answer is **D** as in dawg. !Dawg!"
   ]
  },
  {
   "cell_type": "markdown",
   "metadata": {},
   "source": [
    "## Elastic Buckling\n",
    "\n",
    "![](elasticbuckling.png)\n",
    "\n",
    "The $k$ in the buckling formula (NCEES) changes with support conditions:\n",
    "1. Fixed-fixed\n",
    "2. Pin-fixed\n",
    "3. Fixed-free\n",
    "\n",
    "### Example 1\n",
    "\n",
    "A 20 meter flag pole is made of 6 cm diameter steel (E=210 GPa). Find the maximum axial load (with a factor of safety of 2).\n",
    "\n",
    "![](polefrag.png)\n",
    "\n",
    "**Solution**\n",
    "\n",
    "![](poledance.png)"
   ]
  },
  {
   "cell_type": "code",
   "execution_count": null,
   "metadata": {},
   "outputs": [],
   "source": []
  }
 ],
 "metadata": {
  "kernelspec": {
   "display_name": "Python 3",
   "language": "python",
   "name": "python3"
  },
  "language_info": {
   "codemirror_mode": {
    "name": "ipython",
    "version": 3
   },
   "file_extension": ".py",
   "mimetype": "text/x-python",
   "name": "python",
   "nbconvert_exporter": "python",
   "pygments_lexer": "ipython3",
   "version": "3.8.10"
  }
 },
 "nbformat": 4,
 "nbformat_minor": 4
}
