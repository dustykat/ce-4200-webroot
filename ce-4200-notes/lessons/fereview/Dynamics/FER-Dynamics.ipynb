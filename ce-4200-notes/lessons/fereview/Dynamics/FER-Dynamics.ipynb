{
 "cells": [
  {
   "cell_type": "markdown",
   "metadata": {},
   "source": [
    "# 12 FER - Dynamics\n",
    "\n",
    ":::{note}\n",
    "Subject Matter Experts - Uncooperative\n",
    ":::"
   ]
  },
  {
   "cell_type": "markdown",
   "metadata": {},
   "source": [
    "## Readings\n",
    "\n",
    "1. [FER-DynamicsReview.pdf](http://54.243.252.9/ce-4200-webroot/ce-4200-notes/lessons/fereview/Dynamics/DynamicsAnnotatedPresentation.pdf)\n",
    "2. [FER-DynamicsQuiz.pdf (solutions will be posted on BB](http://54.243.252.9/ce-4200-webroot/ce-4200-notes/lessons/fereview/Dynamics/FEEMReviewQuizDynamics-1.pdf)\n",
    "3. [Quiz_DYN-013.pdf (no solutions)](http://54.243.252.9/ce-4200-webroot/ce-4200-notes/lessons/fereview/Dynamics/Quiz_DYN-013.pdf)\n",
    "\n",
    "## Videos\n",
    "\n",
    "1. [Dynamics YouTube Video by Mark Mattson, PE - SUNY Polytechnical (Utica NY Campus)](https://www.youtube.com/watch?v=A6HT9FGays8&list=PLWbyCDWU1A_iBDKyOeIcPDwH0IOnEwG3h&index=16)\n",
    "2. [FE Exam Review: Statics, Dynamics, Mechanics of Deformable Bodies YouTube Video by Gregory Michaelson - Marshall University (Go to 0:30:16 time stamp to view the Dynamics portion)](https://www.youtube.com/watch?v=SuH8F-X5enE)\n",
    "3. [FE Exam Review: Mechanics YouTube Video by Gregory Michaelson - Marshall University](https://www.youtube.com/watch?v=odQlOg3U91Q)  Seems to be a subset of video linked above.\n",
    "\n",
    "## Outline"
   ]
  },
  {
   "cell_type": "code",
   "execution_count": null,
   "metadata": {},
   "outputs": [],
   "source": []
  }
 ],
 "metadata": {
  "kernelspec": {
   "display_name": "Python 3 (ipykernel)",
   "language": "python",
   "name": "python3"
  },
  "language_info": {
   "codemirror_mode": {
    "name": "ipython",
    "version": 3
   },
   "file_extension": ".py",
   "mimetype": "text/x-python",
   "name": "python",
   "nbconvert_exporter": "python",
   "pygments_lexer": "ipython3",
   "version": "3.10.12"
  }
 },
 "nbformat": 4,
 "nbformat_minor": 4
}
