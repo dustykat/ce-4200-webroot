{
 "cells": [
  {
   "cell_type": "markdown",
   "id": "5d060a07-8544-4450-8906-cb7da5d79287",
   "metadata": {},
   "source": [
    "# 11. FER - Statics\n",
    "\n",
    ":::{admonition} Contributions\n",
    "Mr. David Spears, P.E. contributed notes, questions, and worked solutions to this section.\n",
    ":::"
   ]
  },
  {
   "cell_type": "markdown",
   "id": "78bf35d7-282f-4e68-ba9b-fb4b98a40276",
   "metadata": {},
   "source": [
    "## Readings\n",
    "\n",
    "1. [Statics Equation Sheet](http://54.243.252.9/ce-4200-webroot/ce-4200-notes/lessons/fereview/Statics/EquationsFE.pdf)\n",
    "\n",
    "2. [Statics Summary](http://54.243.252.9/ce-4200-webroot/ce-4200-notes/lessons/fereview/Statics/Statics_Summary_FE_Review.pdf)\n",
    "\n",
    "3. [Statics Summary Exam (solutions at end of section)](http://54.243.252.9/ce-4200-webroot/ce-4200-notes/lessons/fereview/Statics/Statics_Summary_Exam_FE_Review.pdf)\n",
    "\n",
    "4. [Vector Resolution Problem(s)](http://54.243.252.9/ce-4200-webroot/ce-4200-notes/lessons/fereview/Statics/VectorResolutionProblem.pdf)\n",
    "\n",
    "1. [Theodore G. Cleveland (1999). Instructor’s Notes to accompany CE-2330, Department of Civil and Environmental Engineering, Cullen College of Engineering, University of Houston.](http://54.243.252.9/ce-4200-webroot/ce-4200-notes/lessons/fereview/Statics/ce2330-F1999-InstructorNotes.pdf)\n",
    "\n",
    "## Videos\n",
    "\n",
    "1. [FE Exam Review: Statics, Dynamics, Mechanics of Deformable Bodies YouTube Video by Gregory Michaelson - Marshall University](https://www.youtube.com/watch?v=SuH8F-X5enE)\n"
   ]
  },
  {
   "cell_type": "markdown",
   "id": "b559f45d-aa2d-48c3-bedd-08de8f6d740c",
   "metadata": {},
   "source": [
    "## Section End\n",
    "\n",
    "1. [Statics Summary Exam Solutions](ce-4200-webroot/ce-4200-notes/lessons/fereview/Statics/Statics_Summary_Exam_FE_Review.pdf)\n",
    "1. [Statics Training Quiz Preview.pdf](http://54.243.252.9/ce-4200-webroot/ce-4200-notes/lessons/fereview/Statics/StaticsTrainingQuiz.pdf)\n"
   ]
  },
  {
   "cell_type": "code",
   "execution_count": null,
   "id": "b25b8fd3-d05e-4696-9494-23675b640fec",
   "metadata": {},
   "outputs": [],
   "source": []
  }
 ],
 "metadata": {
  "kernelspec": {
   "display_name": "Python Common Environment",
   "language": "python",
   "name": "python-my-env"
  },
  "language_info": {
   "codemirror_mode": {
    "name": "ipython",
    "version": 3
   },
   "file_extension": ".py",
   "mimetype": "text/x-python",
   "name": "python",
   "nbconvert_exporter": "python",
   "pygments_lexer": "ipython3",
   "version": "3.10.12"
  }
 },
 "nbformat": 4,
 "nbformat_minor": 5
}
