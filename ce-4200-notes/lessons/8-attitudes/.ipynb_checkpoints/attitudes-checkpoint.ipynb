{
 "cells": [
  {
   "cell_type": "markdown",
   "metadata": {},
   "source": [
    "# 8. Attitude\n",
    "\n",
    ":::{admonition} Course Website \n",
    "http://54.243.252.9/ce-4200-webroot/ \n",
    ":::\n",
    "\n",
    "## Readings/References\n",
    "\n",
    "1. Ajzen, I. (1991). The theory of planned behavior. *Organizational Behavior and Human Decision Processes*, 50, p. 179-211.\n",
    "2. [Lawson (2022), *Attitudes* Lecture to accompany CE 4200, Whitacre College of Engineering, Texas Tech University](http://54.243.252.9/ce-4200-webroot/ce-4200-notes/LECTURE-SOURCE/LECTURE3_CE4200ATTITUDES-S2022.pdf)\n",
    "3. [Lawson (2022), *Attitudes* Handout to accompany Attitudes Lecture](http://54.243.252.9/ce-4200-webroot/ce-4200-notes/LECTURE-SOURCE/LECTURE3_CE4200ATTITUDES-S2022-handout.pdf)\n",
    "\n",
    "## Videos\n",
    "\n",
    "1. [none](#)"
   ]
  },
  {
   "cell_type": "markdown",
   "metadata": {},
   "source": [
    "## Purpose\n",
    "\n",
    "The purpose of this lesson is to provide guidance and preparation for the upcoming **Job Fair**, equipping you with the mindset and foundational strategies to make the most of the opportunity. While this lesson is primarily **motivational**, its impact might not feel immediately tangible. However, upon reflection, you may realize you’ve absorbed valuable insights that influence how you approach the event and your career development.\n",
    "\n",
    "### Key Objectives:\n",
    "- **Motivate and Inspire**: \n",
    "  - Encourage a proactive and confident approach to networking and presenting yourself to potential employers.\n",
    "  - Highlight the importance of viewing the Job Fair as a learning experience, regardless of immediate outcomes.\n",
    "\n",
    "- **Preparation for Action**:\n",
    "  - Ensure you approach the Job Fair with a clear purpose and realistic expectations.\n",
    "  - Provide strategies for effective communication, self-presentation, and professional etiquette that can help you stand out.\n"
   ]
  },
  {
   "cell_type": "markdown",
   "metadata": {},
   "source": [
    "## Definition of Attitudes\n",
    "\n",
    "**attitude** [at-i-tood, -tyood]: manner, disposition, feeling, position, etc., with regard to a person or thing; tendency or orientation, especially of the mind.\n",
    "\n",
    "### Synonyms:\n",
    "|||\n",
    "|---|---|\n",
    "|- approach|- opinion|\n",
    "|- belief|- perspective|\n",
    "|- bias|- philosophy|\n",
    "|- character|- point of view|\n",
    "|- demeanor|- position|\n",
    "|- mindset|- posture|\n",
    "|- mood|- prejudice|\n",
    "|- notion|- reaction|\n",
    "|- sensibility|- sentiment|\n",
    "|- stance|- stand|\n",
    "|- temperament|- view|\n",
    "\n",
    "\n",
    "1. **BOK2 Definition**: Attitudes refer to the “ways in which one thinks and feels in response to a fact or situation.”\n",
    "2. **BOK3 Definition**: “Attitudes [are] learned predispositions to respond in a consistently favorable or unfavorable manner.”"
   ]
  },
  {
   "cell_type": "markdown",
   "metadata": {},
   "source": [
    "## Intention of “Attitudes”\n",
    "\n",
    "- At the professional level, one’s attitudes affect how knowledge and skills are applied to solving civil engineering problems (**BOK2**).\n",
    "- “Professional attitudes are the positive and constructive attitudes that a civil engineer should display” (**BOK3**).\n",
    "\n",
    "**From Where Do We Get Our Attitudes?**\n",
    "\n",
    "- Life experiences.\n",
    "- Education and mentoring.\n",
    "- Professional and cultural influences.\n",
    "\n",
    "---"
   ]
  },
  {
   "cell_type": "markdown",
   "metadata": {},
   "source": [
    "## Why Attitudes Matter for Civil Engineers (BOK2)\n",
    "\n",
    "1. Attitudes significantly influence individual and group achievements.\n",
    "2. Teaching attitudes is a standard practice in professional education.\n",
    "3. Positive attitudes enhance workplace effectiveness and relationships.\n",
    "4. Civil engineers with positive attitudes improve public perceptions of the profession and their career prospects.\n",
    "\n",
    "**Discussion Prompt**: \n",
    "- Do you think attitudes matter? Why or why not?\n",
    "\n",
    "---"
   ]
  },
  {
   "cell_type": "markdown",
   "metadata": {},
   "source": [
    "## Theory of Planned Behavior / Reasoned Action\n",
    "\n",
    "The **Theory of Reasoned Action** posits that behavior is determined by:\n",
    "1. **Attitude** toward the behavior.\n",
    "2. **Subjective norms** (beliefs about how others view the behavior).\n",
    "3. **Perceived behavioral control** (belief in one’s ability to perform the behavior).\n",
    "\n",
    "![](attitudediagram1.png)\n",
    "\n",
    "### Key Takeaways:\n",
    "- Behavior is best predicted by **intention**.\n",
    "- Intention is influenced by attitudes, subjective norms, and perceived control.\n",
    "- The more favorable these factors, the stronger the intention to perform the behavior.\n",
    "\n",
    "---"
   ]
  },
  {
   "cell_type": "markdown",
   "metadata": {},
   "source": [
    "## Attitudes That Support Civil Engineering Practice\n",
    "\n",
    "### BOK2 Examples:\n",
    "| | |\n",
    "|---|---|\n",
    "|- Commitment|- Confidence|\n",
    "|- Consideration of Others|- Curiosity|\n",
    "|- High Expectations|- Honesty|\n",
    "|- Integrity|- Intuition|\n",
    "|- Good Judgment|- Optimism|\n",
    "|- Persistence|- Positiveness|\n",
    "|- Respect|- Self-esteem|\n",
    "|- Sensitivity|- Thoughtfulness|\n",
    "|- Thoroughness|- Tolerance|\n",
    "|- Fairness||\n",
    "\n",
    "### BOK3 Examples:\n",
    "|Professional attitudes include|Other professional attitudes include|\n",
    "|---|---|\n",
    "|Creativity|Commitment|\n",
    "|Curiosity|Confidence|\n",
    "|Flexibility|Empathy|\n",
    "|Dependability|Entrepreneurship|\n",
    "||Fairness|\n",
    "||Honesty|\n",
    "||Integrity|\n",
    "||Optimism|\n",
    "||Persistence|\n",
    "||Respect|\n",
    "\n",
    "---"
   ]
  },
  {
   "cell_type": "markdown",
   "metadata": {},
   "source": [
    "## Key Professional Attitudes (BOK3)\n",
    "- **Creativity**: Solving complex engineering problems that lack obvious solutions.\n",
    "- **Curiosity**: Gaining new knowledge and fostering creativity.\n",
    "- **Flexibility**: Adapting to diverse teams and changing environments.\n",
    "- **Dependability**: Being reliable and trustworthy in professional responsibilities.\n",
    "\n",
    "---"
   ]
  },
  {
   "cell_type": "markdown",
   "metadata": {},
   "source": [
    "## Application\n",
    "\n",
    "### Explore Your Professional Attitudes:\n",
    "1. **Are you attending the WCOE Job Fair?** \n",
    "   - (It’s held in February and September each year.)\n",
    "   - Its a requirement of this course (even if you have a job, get as much SWAG as you can, and a lunch where someone else cleans up the mess)\n",
    "2. **Consider**:\n",
    "   - What positive professional attitudes do you hold?\n",
    "   - How might you communicate these to a prospective employer?\n",
    "   - Can you think of examples or illustrations? \n",
    "   - **Willing to share? (Class participation encouraged.)**"
   ]
  },
  {
   "cell_type": "markdown",
   "metadata": {},
   "source": [
    ":::{warning}\n",
    "I am hardly qualified to give advice, but here are some tips if you are having a crummy day - notice none involve \"adult beverages\" or other chemical crutches!\n",
    ":::\n",
    "\n",
    "\n",
    "## Strategies to Improve a (Temporary) Bad Attitude\n",
    "\n",
    "1. **Pause and Reflect**:\n",
    "   - Take a moment to step away from the situation causing frustration or negativity.\n",
    "   - Use deep breathing, meditation, or a short walk to reset your mindset and regain perspective.\n",
    "   - **Tip**: Ask yourself, \"Will this matter a week, month, or year from now?\"\n",
    "\n",
    "2. **Reframe Your Perspective**:\n",
    "   - Focus on the positive aspects of the situation or look for opportunities to learn from the challenge.\n",
    "   - Replace negative thoughts with constructive ones. For example, instead of thinking, \"I can't do this,\" shift to, \"This is tough, but I can figure it out.\"\n",
    "   - **Tip**: Gratitude exercises, like listing three good things about your day, can help reframe your outlook.\n",
    "\n",
    "3. **Engage in Physical Activity**:\n",
    "   - Physical movement releases endorphins, which improve mood and reduce stress.\n",
    "   - Take a short walk, stretch, or engage in light exercise to reset both your mind and body.\n",
    "   - **Tip**: Even a 5-minute stretch or deep breathing exercise at your desk can make a difference.\n",
    "\n",
    "4. **Connect with Others**:\n",
    "   - Talk to a trusted friend, colleague, or mentor to vent or gain perspective.\n",
    "   - Positive social interactions can help you feel supported and offer fresh ideas for tackling challenges.\n",
    "   - **Tip**: Sometimes just expressing your frustration to someone who listens can help dissipate it.\n",
    "\n",
    "5. **Break Down Tasks**:\n",
    "   - Overwhelm can often lead to a temporary bad attitude. Break larger tasks into smaller, manageable steps.\n",
    "   - Focus on completing one thing at a time to build a sense of accomplishment and regain motivation.\n",
    "   - **Tip**: Celebrate small wins along the way to maintain momentum.\n",
    "\n",
    "6. **Use Humor**:\n",
    "   - Find ways to laugh, even in difficult situations. Humor can provide a quick mental reset and lighten the mood.\n",
    "   - Watch a short funny video, share a joke, or find something in the situation to smile about.\n",
    "   - **Tip**: Keeping a lighthearted attitude can prevent small frustrations from escalating.\n"
   ]
  },
  {
   "cell_type": "markdown",
   "metadata": {},
   "source": [
    "## End of Section"
   ]
  },
  {
   "cell_type": "code",
   "execution_count": null,
   "metadata": {},
   "outputs": [],
   "source": []
  }
 ],
 "metadata": {
  "kernelspec": {
   "display_name": "Python 3 (ipykernel)",
   "language": "python",
   "name": "python3"
  },
  "language_info": {
   "codemirror_mode": {
    "name": "ipython",
    "version": 3
   },
   "file_extension": ".py",
   "mimetype": "text/x-python",
   "name": "python",
   "nbconvert_exporter": "python",
   "pygments_lexer": "ipython3",
   "version": "3.10.12"
  }
 },
 "nbformat": 4,
 "nbformat_minor": 4
}
