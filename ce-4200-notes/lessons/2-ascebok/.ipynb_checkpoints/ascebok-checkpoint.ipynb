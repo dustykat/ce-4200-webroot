{
 "cells": [
  {
   "cell_type": "markdown",
   "id": "f4f992cc-6460-46a4-bb1d-7ecd3b811a84",
   "metadata": {},
   "source": [
    "# ASCE BOK"
   ]
  },
  {
   "attachments": {},
   "cell_type": "markdown",
   "id": "955aa278-56f4-48e1-83fa-b843501345f8",
   "metadata": {},
   "source": [
    ":::{admonition} Course Website \n",
    "http://54.243.252.9/ce-4200-webroot/ \n",
    ":::\n",
    "\n",
    "## Readings/References\n",
    "\n",
    "1. [CEBOK3 User Factsheet](https://www.asce.org/-/media/asce-images-and-files/initiatives/documents/cebok-info-full.pdf)\n",
    "4. [CEBOK3 Full Document (PDF)](https://ascelibrary.org/doi/book/10.1061/9780784415221)\n",
    "5. [Bloom's Learning Taxonomy](https://thepeakperformancecenter.com/educational-learning/learning/process/domains-of-learning/affective-domain/)\n",
    "6. [BSCE Degree Plan](http://54.243.252.9/ce-4200-webroot/ce-4200-notes/lessons/introduction/2022-2023BSCEDegree.pdf)\n",
    "7. [ENVE Degree Plan](http://54.243.252.9/ce-4200-webroot/ce-4200-notes/lessons/introduction/2022-2023ENVEDegreePlan.pdf)\n",
    "8. [ConE Degree Plan](http://54.243.252.9/ce-4200-webroot/ce-4200-notes/lessons/introduction/2022-2023ConEDegreePlan.pdf)\n",
    "9. [Dual Degree Plan](http://54.243.252.9/ce-4200-webroot/ce-4200-notes/lessons/introduction/2022-2023DualDegreePlan.pdf)\n",
    "10. [CE Degree Plan vs BOK3E (xlsx) matrix](http://54.243.252.9/ce-4200-webroot/ce-4200-notes/lessons/introduction/CEDegreePlanvsBOK3E.xlsx)\n",
    "\n",
    "## Videos\n",
    "\n",
    "1. [placeholder](#dummy)"
   ]
  }
 ],
 "metadata": {
  "kernelspec": {
   "display_name": "Python Common Environment",
   "language": "python",
   "name": "python-my-env"
  },
  "language_info": {
   "codemirror_mode": {
    "name": "ipython",
    "version": 3
   },
   "file_extension": ".py",
   "mimetype": "text/x-python",
   "name": "python",
   "nbconvert_exporter": "python",
   "pygments_lexer": "ipython3",
   "version": "3.10.12"
  }
 },
 "nbformat": 4,
 "nbformat_minor": 5
}
