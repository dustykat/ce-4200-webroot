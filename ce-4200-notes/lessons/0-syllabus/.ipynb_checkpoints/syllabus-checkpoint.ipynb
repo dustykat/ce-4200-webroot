{
 "cells": [
  {
   "cell_type": "markdown",
   "id": "45380cdc-bdcf-4ab4-96c0-563d843272fb",
   "metadata": {},
   "source": [
    "# Schedule\n",
    "<font color='white'>%%html</font>\n",
    "<style> table {margin-left: 0 !important;} </style>\n",
    "|date|topic|readings|homework|\n",
    "|:---|:---|:---|:---|\n",
    "|26 Aug 2025|topic|||\n",
    "|28 Aug 2025|topic|||\n",
    "|02 sep 2025|topic|||\n",
    "|04 Sep 2025|topic|||\n",
    "|09 Sep 2025|topic|||\n",
    "|11 Sep 2025|topic|||\n",
    "|16 Sep 2025|<font color=\"green\">No Class (Job Fairy)</font>|||\n",
    "|18 Sep 2025|topic|||\n",
    "|23 Sep 2025|topic|||\n",
    "|25 Sep 2025|topic|||\n",
    "|30 Sep 2025|topic|||\n",
    "|02 Oct 2025|topic|||\n",
    "|07 Oct 2025|topic|||\n",
    "|09 Oct 2025|topic|||\n",
    "|14 Oct 2025|topic|||\n",
    "|16 Oct 2025|topic|||\n",
    "|21 Oct 2025|topic|||\n",
    "|23 Oct 2025|topic|||\n",
    "|28 Oct 2025|topic|||\n",
    "|30 Oct 2025|topic|||\n",
    "|04 Nov 2025|topic|||\n",
    "|06 Nov 2025|topic|||\n",
    "|11 Nov 2025|topic|||\n",
    "|13 Nov 2025|topic|||\n",
    "|18 Nov 2025|topic|||\n",
    "|20 Nov 2025|topic|||\n",
    "|25 Nov 2025|<font color=\"green\">No Class (Self-study)</font>|||\n",
    "|02 Dec 2025|Review|||\n",
    "|08 Dec 2025|<font color=\"red\">Final Exam (on Canvas)</font>|||"
   ]
  },
  {
   "cell_type": "code",
   "execution_count": null,
   "id": "081d88a9-bcd1-4421-bf53-303d892d6816",
   "metadata": {},
   "outputs": [],
   "source": []
  }
 ],
 "metadata": {
  "kernelspec": {
   "display_name": "Python Common Environment",
   "language": "python",
   "name": "python-my-env"
  },
  "language_info": {
   "codemirror_mode": {
    "name": "ipython",
    "version": 3
   },
   "file_extension": ".py",
   "mimetype": "text/x-python",
   "name": "python",
   "nbconvert_exporter": "python",
   "pygments_lexer": "ipython3",
   "version": "3.10.12"
  }
 },
 "nbformat": 4,
 "nbformat_minor": 5
}
