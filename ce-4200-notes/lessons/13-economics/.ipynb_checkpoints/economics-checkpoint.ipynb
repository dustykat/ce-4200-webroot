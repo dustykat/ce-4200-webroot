{
 "cells": [
  {
   "cell_type": "markdown",
   "id": "df636f4b-e3b1-4b92-9d6a-b9acb0d9a896",
   "metadata": {},
   "source": [
    "# 13. Economic Considerations"
   ]
  },
  {
   "cell_type": "markdown",
   "id": "8a633be0-0168-4a4d-ad43-b07542f1f490",
   "metadata": {},
   "source": [
    ":::{admonition} Course Website \n",
    "http://54.243.252.9/ce-4200-webroot/ \n",
    ":::"
   ]
  },
  {
   "cell_type": "markdown",
   "id": "e534e1bc-f609-43ed-8f64-b43934ae16b3",
   "metadata": {},
   "source": [
    "## Readings/References"
   ]
  },
  {
   "cell_type": "markdown",
   "id": "6f71c0aa-2b31-41cb-a5bf-20009b5d0832",
   "metadata": {},
   "source": [
    "## Videos\n",
    "1. [FE Exam Eng. Economics - Annual Worth (A) - Problem 1](https://www.youtube.com/watch?v=I4lNaoed45k&list=PL8gvqQMx5mVltdVcenZVr4vwgVaBryJ9Q&index=3)\n",
    "2. [FE Exam Eng. Economics - Future Worth (F) - Problem 1 ](https://www.youtube.com/watch?v=8Vwrjh9dQW8&list=PL8gvqQMx5mVltdVcenZVr4vwgVaBryJ9Q&index=4)\n",
    "3. [FE Exam Eng. Economics - Future Worth (F) - Problem 2](https://www.youtube.com/watch?v=0-LbkiW8Plc&list=PL8gvqQMx5mVltdVcenZVr4vwgVaBryJ9Q&index=1)\n",
    "4. [FE Exam Eng. Economics - Capitalized Cost & Interest Rate (i)](https://www.youtube.com/watch?v=UD0a7t1xPpk&list=PL8gvqQMx5mVltdVcenZVr4vwgVaBryJ9Q&index=5)\n",
    "5. [FE Exam Eng. Economics - Equivalent Uniform Annual Cost (A)](https://www.youtube.com/watch?v=wsZSntOUHHI&list=PL8gvqQMx5mVltdVcenZVr4vwgVaBryJ9Q&index=6)"
   ]
  },
  {
   "cell_type": "markdown",
   "id": "436fb0ed-0173-45db-aa29-f305c4f192c2",
   "metadata": {},
   "source": [
    "- general essay\n",
    "- case study\n",
    "- FE Review problems 27-31 worked"
   ]
  },
  {
   "cell_type": "markdown",
   "id": "390fd6f7-95b7-438e-ac56-64202fc7181b",
   "metadata": {},
   "source": [
    "## End of Section"
   ]
  }
 ],
 "metadata": {
  "kernelspec": {
   "display_name": "Python Common Environment",
   "language": "python",
   "name": "python-my-env"
  },
  "language_info": {
   "codemirror_mode": {
    "name": "ipython",
    "version": 3
   },
   "file_extension": ".py",
   "mimetype": "text/x-python",
   "name": "python",
   "nbconvert_exporter": "python",
   "pygments_lexer": "ipython3",
   "version": "3.10.12"
  }
 },
 "nbformat": 4,
 "nbformat_minor": 5
}
