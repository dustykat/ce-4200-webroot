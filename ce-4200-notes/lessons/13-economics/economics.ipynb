{
 "cells": [
  {
   "cell_type": "markdown",
   "id": "a58de669-5547-4ed1-bc68-6a098611ad73",
   "metadata": {},
   "source": [
    "# Economic Considerations"
   ]
  },
  {
   "cell_type": "markdown",
   "id": "390fd6f7-95b7-438e-ac56-64202fc7181b",
   "metadata": {},
   "source": [
    "## End of Section"
   ]
  }
 ],
 "metadata": {
  "kernelspec": {
   "display_name": "Python Common Environment",
   "language": "python",
   "name": "python-my-env"
  },
  "language_info": {
   "codemirror_mode": {
    "name": "ipython",
    "version": 3
   },
   "file_extension": ".py",
   "mimetype": "text/x-python",
   "name": "python",
   "nbconvert_exporter": "python",
   "pygments_lexer": "ipython3",
   "version": "3.10.12"
  }
 },
 "nbformat": 4,
 "nbformat_minor": 5
}
