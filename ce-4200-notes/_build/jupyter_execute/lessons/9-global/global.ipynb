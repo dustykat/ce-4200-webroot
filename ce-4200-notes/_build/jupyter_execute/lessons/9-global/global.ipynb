{
 "cells": [
  {
   "cell_type": "markdown",
   "id": "0e0b11f5-7204-47ff-8a2d-4f664508fb6f",
   "metadata": {},
   "source": [
    "# 9 Global Considerations"
   ]
  },
  {
   "cell_type": "markdown",
   "id": "13b28646-a9f6-4fcf-8f92-06f97fa97925",
   "metadata": {},
   "source": [
    "## End of Section"
   ]
  }
 ],
 "metadata": {
  "kernelspec": {
   "display_name": "Python Common Environment",
   "language": "python",
   "name": "python-my-env"
  },
  "language_info": {
   "codemirror_mode": {
    "name": "ipython",
    "version": 3
   },
   "file_extension": ".py",
   "mimetype": "text/x-python",
   "name": "python",
   "nbconvert_exporter": "python",
   "pygments_lexer": "ipython3",
   "version": "3.10.12"
  }
 },
 "nbformat": 4,
 "nbformat_minor": 5
}