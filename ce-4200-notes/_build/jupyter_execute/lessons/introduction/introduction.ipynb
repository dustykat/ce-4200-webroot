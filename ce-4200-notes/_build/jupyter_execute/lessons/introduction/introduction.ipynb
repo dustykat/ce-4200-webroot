{
 "cells": [
  {
   "cell_type": "markdown",
   "metadata": {},
   "source": [
    "# Introduction"
   ]
  },
  {
   "cell_type": "markdown",
   "metadata": {},
   "source": [
    "## Outcomes\n",
    "- Outcomes are statements that describe what individuals are expected to know and be able to do by the time of entry into the practice of civil engineering at the professional level in the 21st century—that is, **attain licensure**.\n",
    "- Outcomes define the knowledge, skills, and attitudes that individuals acquire through appropriate formal education and pre-licensure experience.\n",
    "\n",
    "## Civil Engineering Body Of Knowledge 3\n",
    "\n",
    "![](http://54.243.252.9/ce-4200-webroot/ce-4200-notes/lessons/introduction/CEBOK3.png)\n",
    "- Published Mar 2019\n",
    "- Compliant with 2016-17 and later ABET Program Objectives\n",
    "- 21 Learning Outcomes\n",
    "- Cognitive and Affective levels of achievement\n",
    "\n",
    "## Example 1.2\n",
    "CEBOK3 Professional Responsibilities\n",
    "1. Domain (cognitive or affective)\n",
    "2. Level of achievement (SIX levels, Bloom’s taxonomy)\n",
    "3. Demonstrated ability (note the verb)\n",
    "4. Typical pathway (expert status, for licensure, for undergraduate study)\n",
    "\n",
    "![](http://54.243.252.9/ce-4200-webroot/ce-4200-notes/lessons/introduction/tableES1-annotate.png)\n",
    "\n",
    "![](http://54.243.252.9/ce-4200-webroot/ce-4200-notes/lessons/introduction/table2-20a-annotate.png)\n",
    "\n",
    "![](http://54.243.252.9/ce-4200-webroot/ce-4200-notes/lessons/introduction/table2-20b-annotate.png)"
   ]
  },
  {
   "cell_type": "markdown",
   "metadata": {},
   "source": [
    "## References\n",
    "\n",
    "1. [Introduction Lecture *Lawson 2022*](http://54.243.252.9/ce-4200-webroot/ce-4200-notes/LECTURE-SOURCE/01-LECTURE_1_CE4200IntroLecture-S2022.pdf)\n",
    "2. [CEBOK3 Instructor Fact Sheet](https://www.asce.org/-/media/asce-images-and-files/career-and-growth/cebok/documents/asce-cebok3-infographic-handout.pdf)\n",
    "3. [CEBOK3 User Factsheet](https://www.asce.org/-/media/asce-images-and-files/initiatives/documents/cebok-info-full.pdf)\n",
    "4. [CEBOK3 Full Document (PDF)](https://ascelibrary.org/doi/book/10.1061/9780784415221)"
   ]
  },
  {
   "cell_type": "code",
   "execution_count": null,
   "metadata": {},
   "outputs": [],
   "source": []
  }
 ],
 "metadata": {
  "kernelspec": {
   "display_name": "Python 3",
   "language": "python",
   "name": "python3"
  },
  "language_info": {
   "codemirror_mode": {
    "name": "ipython",
    "version": 3
   },
   "file_extension": ".py",
   "mimetype": "text/x-python",
   "name": "python",
   "nbconvert_exporter": "python",
   "pygments_lexer": "ipython3",
   "version": "3.8.10"
  }
 },
 "nbformat": 4,
 "nbformat_minor": 4
}