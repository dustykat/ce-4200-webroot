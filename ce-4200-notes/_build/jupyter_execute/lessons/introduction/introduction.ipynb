{
 "cells": [
  {
   "cell_type": "markdown",
   "metadata": {},
   "source": [
    "# Introduction"
   ]
  },
  {
   "cell_type": "markdown",
   "metadata": {},
   "source": [
    "## Outcomes\n",
    "- Outcomes are statements that describe what individuals are expected to know and be able to do by the time of entry into the practice of civil engineering at the professional level in the 21st century—that is, **attain licensure**.\n",
    "- Outcomes define the knowledge, skills, and attitudes that individuals acquire through appropriate formal education and pre-licensure experience.\n",
    "\n",
    "## Civil Engineering Body Of Knowledge 3\n",
    "\n",
    "![](http://54.243.252.9/ce-4200-webroot/ce-4200-notes/lessons/introduction/CEBOK3.png)\n",
    "- Published Mar 2019\n",
    "- Compliant with 2016-17 and later ABET Program Objectives\n",
    "- 21 Learning Outcomes\n",
    "- Cognitive and Affective levels of achievement\n",
    "\n",
    "## CEBOK3 Outcomes\n",
    "**Civil Engineering Body of Knowledge for the 21 st Century**\n",
    "\n",
    "![](http://54.243.252.9/ce-4200-webroot/ce-4200-notes/lessons/introduction/tableES1-annotate.png)\n",
    "\n",
    "<hr>\n",
    "\n",
    "## Example 1.2\n",
    "CEBOK3 Professional Responsibilities\n",
    "1. Domain (cognitive or affective)\n",
    "2. Level of achievement (SIX levels, Bloom’s taxonomy)\n",
    "3. Demonstrated ability (note the verb)\n",
    "4. Typical pathway (expert status, for licensure, for undergraduate study)\n",
    "\n",
    "<hr>\n",
    "\n",
    "> Cognitive Domain. The cognitive domain (Bloom, 1956) involves knowledge and the development of intellectual skills. This includes the recall or recognition of specific facts, procedural patterns, and concepts that serve in the development of intellectual abilities and skills.\n",
    "\n",
    "![](http://54.243.252.9/ce-4200-webroot/ce-4200-notes/lessons/introduction/table2-20b-annotate.png)\n",
    "\n",
    "<hr>\n",
    "\n",
    "> Affective Domain: includes “the manner in which we deal with things emotionally, such as feelings, values, appreciation, enthusiasms, motivations, and attitudes” (Krathwohl, Bloom, Masia, 1973.) Excitement, challenge, frustration, and even trauma are all emotions and experiences that require us to dip into our bank of coping skills and apply them in order to successfully navigate interpersonal situations.\n",
    "\n",
    "![](http://54.243.252.9/ce-4200-webroot/ce-4200-notes/lessons/introduction/table2-20a-annotate.png)\n",
    "\n",
    "<hr>\n",
    "\n",
    "> Psychomotor Domain: includes physical movement, coordination, and use of the motor-skill areas. Development of these skills requires practice and is measured in terms of speed, precision, distance, procedures, or techniques in execution.  \n",
    "\n",
    "**How does the psychomotor domain fit in civil engineering?**\n",
    "\n",
    "## Where this course fits in:\n",
    "\n",
    "![BSCE Dynamic Enrollment Management Plan](http://54.243.252.9/ce-4200-webroot/ce-4200-notes/lessons/introduction/2022-2023BSCEDegree.png)\n",
    "\n",
    "![CEBOK vs Degree Plan Comparison Matrix](http://54.243.252.9/ce-4200-webroot/ce-4200-notes/lessons/introduction/CEDegreePlanvsBOK3E.png)\n",
    "\n",
    "## Syllabus/Schedule\n",
    "\n",
    "[Syllabus@http://54.243.252.9/ce-4200-webroot/0-Syllabus/ce-4200-2023-1-syllabus.html](http://54.243.252.9/ce-4200-webroot/0-Syllabus/ce-4200-2023-1-syllabus.html)\n",
    "\n",
    "## Textbooks\n",
    "\n",
    "1. [CEBOK (Free)](https://ascelibrary.org/doi/book/10.1061/9780784415221)\n",
    "2. [NCEES Supplied Reference (Free)](https://help.ncees.org/article/87-ncees-exam-reference-handbooks)\n",
    "3. [PPI FE Civil Review (~\\$29.99)](https://a2ztextbook.com/products/ppi-fe-civil-practice-comprehensive-practice-for-the-ncees-fe-civil-exam-first-edition?variant=41620050903226&currency=USD&utm_medium=product_sync&utm_source=google&utm_content=sag_organic&utm_campaign=sag_organic) Full price is \\$160-ish, don't pay full price, you should be able to find one at the reduced price\n",
    "4. [PPI Online Training Exams (~\\$38)](https://app.ppehq.com/learn/FE-Civil-Exam-2022) You need to complete an entire exam package by the last day of class. Submit a screen capture of the completion diagnostic score to recieve credit for this portion of the class."
   ]
  },
  {
   "cell_type": "markdown",
   "metadata": {},
   "source": [
    "## References\n",
    "\n",
    "1. [Introduction Lecture *Lawson 2022*](http://54.243.252.9/ce-4200-webroot/ce-4200-notes/LECTURE-SOURCE/01-LECTURE_1_CE4200IntroLecture-S2022.pdf)\n",
    "2. [CEBOK3 Instructor Fact Sheet](https://www.asce.org/-/media/asce-images-and-files/career-and-growth/cebok/documents/asce-cebok3-infographic-handout.pdf)\n",
    "3. [CEBOK3 User Factsheet](https://www.asce.org/-/media/asce-images-and-files/initiatives/documents/cebok-info-full.pdf)\n",
    "4. [CEBOK3 Full Document (PDF)](https://ascelibrary.org/doi/book/10.1061/9780784415221)\n",
    "5. [Bloom's Learning Taxonomy](https://thepeakperformancecenter.com/educational-learning/learning/process/domains-of-learning/affective-domain/)\n",
    "\n",
    "6. [BSCE Degree Plan](http://54.243.252.9/ce-4200-webroot/ce-4200-notes/lessons/introduction/2022-2023BSCEDegree.pdf)\n",
    "\n",
    "7. [ENVE Degree Plan](http://54.243.252.9/ce-4200-webroot/ce-4200-notes/lessons/introduction/2022-2023ENVEDegreePlan.pdf)\n",
    "\n",
    "8. [ConE Degree Plan](http://54.243.252.9/ce-4200-webroot/ce-4200-notes/lessons/introduction/2022-2023ConEDegreePlan.pdf)\n",
    "\n",
    "9. [Dual Degree Plan](http://54.243.252.9/ce-4200-webroot/ce-4200-notes/lessons/introduction/2022-2023DualDegreePlan.pdf)\n",
    "\n",
    "10. [CE Degree Plan vs BOK3E (xlsx) matrix](http://54.243.252.9/ce-4200-webroot/ce-4200-notes/lessons/introduction/CEDegreePlanvsBOK3E.xlsx)\n"
   ]
  },
  {
   "cell_type": "code",
   "execution_count": null,
   "metadata": {},
   "outputs": [],
   "source": []
  }
 ],
 "metadata": {
  "kernelspec": {
   "display_name": "Python 3",
   "language": "python",
   "name": "python3"
  },
  "language_info": {
   "codemirror_mode": {
    "name": "ipython",
    "version": 3
   },
   "file_extension": ".py",
   "mimetype": "text/x-python",
   "name": "python",
   "nbconvert_exporter": "python",
   "pygments_lexer": "ipython3",
   "version": "3.10.12"
  }
 },
 "nbformat": 4,
 "nbformat_minor": 4
}