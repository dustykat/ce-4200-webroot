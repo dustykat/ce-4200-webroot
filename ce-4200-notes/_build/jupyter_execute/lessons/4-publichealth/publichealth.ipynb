{
 "cells": [
  {
   "cell_type": "markdown",
   "metadata": {},
   "source": [
    "# 4. Public Health Considerations \n",
    "\n",
    ":::{admonition} Course Website \n",
    "http://54.243.252.9/ce-4200-webroot/ \n",
    ":::"
   ]
  },
  {
   "cell_type": "markdown",
   "metadata": {},
   "source": [
    "## Readings\n",
    "\n",
    "1. [van Gelder, Pieter et al. “Safe-by-Design in Engineering: An Overview and Comparative Analysis of Engineering Disciplines.” International journal of environmental research and public health vol. 18,12 6329. 11 Jun. 2021, doi:10.3390/ijerph18126329](https://www.ncbi.nlm.nih.gov/pmc/articles/PMC8296130/)\n",
    "\n",
    "2. [https://www.nae.edu/281423/Engineering-and-Design-Factors-for-Healthful-Built-Environments](https://www.nae.edu/File.aspx?id=281060)\n",
    "\n",
    "<!--6. OpenAI (2024). Prompt: `Can you help me prepare a script for a 40 minute presentation on \"Evaluation of Public Health Considerations\" in the context of engineering design?\" The audience is civil engineering students about 4 years away from license eligibility.`  ChatGPT-4.0.  URL `https://chatgpt.com/c/66e1f0a5-21cc-800d-8b5a-ee9d9e8d2835`  \n",
    "\n",
    ":::{note}\n",
    "\"The OpenAI URL provided in references helps retrieve specific content shared, but information is not publicly recoverable unless required by legal obligations.\"\n",
    ":::-->"
   ]
  },
  {
   "cell_type": "markdown",
   "metadata": {},
   "source": [
    "## Videos\n",
    "\n",
    "1. [Keir Loudon: Public Health Engineer ](https://www.youtube.com/watch?v=VLqiTAH3k_Q) Unexpectedly relevant video, only a few minutes long.\n",
    "2. [What is Public Health?](https://www.youtube.com/watch?v=Y6DPDC_Mf90)\n",
    "3. [2021 Best Places for Engineers to Work - Interview with Illinois Department of Public Health](https://www.youtube.com/watch?v=vJ6wTkmFc7w)\n",
    "\n",
    "**Case Study 1**\n",
    "\n",
    "4. [Inside Japan's Nuclear Meltdown (full documentary) | FRONTLINE](https://www.youtube.com/watch?v=qRKScRgsUaE)\n",
    "\n",
    "**Case Study 2**\n",
    "\n",
    "5. [John Snow and the 1854 Broad Street cholera outbreak ](https://www.youtube.com/watch?v=lNjrAXGRda4)\n",
    "6. [The Story of John Snow & the Broad Street Pump](https://www.youtube.com/watch?v=bALs7kNpNSM)  Additional backstory\n",
    "\n",
    "**Case Study 3**\n",
    "\n",
    "7. [Stroads are Ugly, Expensive, and Dangerous (and they're everywhere) [ST05]](https://www.youtube.com/watch?v=ORzNZUeUHAM)\n",
    "8. [Why City Design is Important (and why I hate Houston) ](https://www.youtube.com/watch?v=uxykI30fS54)"
   ]
  },
  {
   "cell_type": "markdown",
   "metadata": {},
   "source": [
    "Because of their involvement with public works, civil and environmental engineers may seem to have the closest connection to public welfare. After all, civil engineers often work directly for government agencies such as FEMA, state highway departments, and municipal airport authorities. And private civil engineering consultants frequently serve government clients. Infrastructure projects such as roads, bridges, sewer systems, green stormwater infrastructure, dry docks, and canals almost never have private owners. And even privately owned buildings may be open to the public.\n",
    "\n",
    "The Texas power outage of February 2021 should have come as no surprise to lawmakers, the utilities, or their regulator, Ercot. There had been a similar outage ten years before, followed by a thorough investigation and recommendations—but no action. As a result, **half of all Texans had no access to safe drinking water**, **millions** of homes were **without power or heat**, and **111 people died**."
   ]
  },
  {
   "cell_type": "markdown",
   "metadata": {},
   "source": [
    "## Why Public Health Matters in Engineering\n",
    "\n",
    "- Definition of Public Health: Public health in an engineering design context refers to the integration of health principles and considerations into the planning, development, and implementation of engineering projects. This approach aims to enhance the well-being of communities by ensuring that designs promote safety, accessibility, sustainability, and the overall health of populations. It involves anticipating and mitigating health risks while maximizing positive health outcomes through innovative and inclusive engineering solutions. An overarching goal is protecting and improving the health of populations through education, policy-making, and research.\n",
    "- Impact of Engineering: Infrastructure, products, and systems designed by engineers can significantly affect community health.\n",
    "- Examples: Clean water systems, transportation design, waste management.\n",
    "\n",
    ":::{admonition} Question\n",
    "\"Can anyone think of a recent engineering project that had a direct impact on public health?\"\n",
    ":::"
   ]
  },
  {
   "cell_type": "markdown",
   "metadata": {
    "jp-MarkdownHeadingCollapsed": true
   },
   "source": [
    "## Key Public Health Considerations in Design \n",
    "\n",
    "Safety, accessibility, sustainability, and community engagement (stakeholder inputs) are key considerations in engineering design and construction.\n",
    "- Safety: Designing safe products and infrastructure (e.g., traffic systems that reduce accidents).\n",
    "- Accessibility: Ensuring that facilities are accessible to all, including those with disabilities.\n",
    "- Sustainability: Considering environmental impacts (e.g., pollution from industrial processes).\n",
    "- Community Engagement: Involving local communities in the design process to address specific health needs.\n",
    "\n",
    "### Safety: Designing safe products and infrastructure \n",
    "- Overview: Safety is paramount in engineering design. Consider the implications of structural failures, product malfunctions, or hazardous materials.\n",
    "- Example: In transportation engineering, designing roads with adequate signage, barriers, and pedestrian crossings reduces accidents and fatalities.\n",
    "- Statistics: Use relevant statistics, such as the decrease in traffic-related injuries after implementing specific safety features to validate the emphasis on safety (often reduced injuried have direct economic benefit, and if it makes money - it will get built!)\n",
    "\n",
    "### Accessibility: Ensuring that facilities are accessible to all\n",
    "- Overview: Accessibility ensures that all community members, regardless of physical abilities, can use facilities and services.\n",
    "- Example: The Americans with Disabilities Act (ADA) sets standards for accessibility in public spaces. Engineering designs must comply with these regulations.\n",
    "- Impact: Discuss how accessible design improves not just individual access, but also overall community health by promoting inclusion and mobility.\n",
    "\n",
    "### Sustainability: Considering environmental impacts\n",
    "- Overview: Sustainable engineering practices help mitigate environmental impacts that can harm public health.\n",
    "- Example: Designing energy-efficient buildings reduces greenhouse gas emissions, improving air quality.\n",
    "- Long-term Benefits: Emphasize how sustainable designs contribute to resilience against climate change, which can lead to public health crises.\n",
    "\n",
    "### Community Engagement: Involving local communities in the design process to address specific health needs.\n",
    "- Overview: Engaging with communities during the design process ensures that their needs and concerns are addressed.\n",
    "- Methods: Highlight tools like surveys, focus groups, and participatory design workshops.\n",
    "- Outcome: Projects that incorporate community input often see greater acceptance and usage, leading to better public health outcomes.\n",
    "\n",
    ":::{warning}\n",
    "Subsection under construction:\n",
    "Graphics showing the correlation between design decisions and public health outcomes\n",
    "- [Charts and Graphs to incorporate ](https://www.bu.edu/sph/news/articles/2016/18-charts-that-make-the-case-for-public-health/)\n",
    "- [Communicating_population_health_statistics_through_graphs](https://www.researchgate.net/publication/6622200_Communicating_population_health_statistics_through_graphs_A_randomised_controlled_trial_of_graph_design_interventions)\n",
    "- [How to communicate using graphs](https://archive.cdc.gov/www_cdc_gov/csels/dsepd/ss1978/lesson4/section4.html)\n",
    ":::"
   ]
  },
  {
   "cell_type": "markdown",
   "metadata": {},
   "source": [
    "## Case Study 1: TEPCO Fukushima Power Plant\n",
    "\n",
    "The Fukushima Daiichi nuclear disaster, triggered by the 2011 Great East Japan Earthquake and Tsunami, was one of the most significant nuclear accidents in history, second only to the Chernobyl disaster. While the initial event occurred in 2011, the 2014 report by TEPCO (Tokyo Electric Power Company) detailed the ongoing challenges in managing the crisis, the failures of engineering design, and the subsequent impact on public health.\n",
    "\n",
    "The Fukushima disaster highlighted critical issues related to engineering design in the nuclear industry, as well as long-lasting consequences for public health and environmental safety. These factors are intertwined, as engineering decisions directly influenced the magnitude of the disaster and the public's exposure to hazardous radioactive materials.\n",
    "Engineering Design and Failure\n",
    "\n",
    "At the core of the Fukushima disaster was a failure in engineering design and risk assessment. The earthquake and tsunami that struck Japan on March 11, 2011, were extreme but not entirely unforeseeable. The plant’s defenses, however, were inadequate to handle the combined force of natural disasters of such magnitude. The plant had been designed to withstand an earthquake, but its tsunami defenses were insufficient.\n",
    "\n",
    "### Key engineering failures included:\n",
    "\n",
    "- Insufficient tsunami protection: The seawall built to protect the plant was only 10 meters high, while the tsunami waves reached heights of 14 to 15 meters. This allowed seawater to flood the facility, knocking out power systems that were critical for cooling the nuclear reactors.\n",
    "- Vulnerability of backup systems: The plant relied on diesel generators for emergency cooling in the event of power loss, but these generators were located in areas vulnerable to flooding. When the tsunami hit, it disabled these systems, leading to a catastrophic overheating of the reactors and a series of explosions and meltdowns.\n",
    "- Failure to upgrade safety systems: Despite previous warnings from experts about the potential for a large-scale tsunami, TEPCO had not implemented significant upgrades to the plant’s safety systems. There was a reliance on outdated risk assessments that underestimated the potential magnitude of natural disasters.\n",
    "\n",
    "The engineering failures at Fukushima were not just technical; they were also failures in risk management and decision-making. The plant’s design did not fully account for the region's seismic and hydrological risks, and emergency planning and backup systems were inadequate.\n",
    "Public Health Consequences\n",
    "\n",
    "The immediate and long-term public health impacts of the Fukushima disaster have been profound. In the short term, the release of radioactive materials, including iodine-131, cesium-137, and strontium-90, led to contamination of air, water, and soil, posing serious health risks to nearby populations.\n",
    "\n",
    "- Evacuation and radiation exposure: Over 150,000 people were evacuated from the areas surrounding the Fukushima plant, many of whom faced prolonged displacement. Despite the evacuation, some individuals were exposed to elevated levels of radiation, especially through contaminated food and water.\n",
    "- Thyroid cancer and other health effects: One of the major concerns after the disaster was the potential for increased rates of thyroid cancer, especially in children exposed to iodine-131. While a conclusive link between the disaster and thyroid cancer has been debated, there has been an observed increase in thyroid abnormalities among young people in the region.\n",
    "- Mental health and social consequences: Beyond physical health impacts, the disaster also had significant psychosocial effects. The trauma of displacement, the fear of radiation, and the long-term uncertainty about the safety of returning home have contributed to increased rates of depression, anxiety, and other mental health issues.\n",
    "\n",
    "### Engineering Design Lessons and Reforms\n",
    "\n",
    "The Fukushima disaster underscored the critical importance of robust engineering design in high-risk industries like nuclear energy. In the wake of the disaster, several lessons emerged for engineers and policymakers:\n",
    "\n",
    "- Design for extreme events: Engineering designs must account for extreme, low-probability events, particularly in high-risk industries. The failure to anticipate a tsunami of the magnitude that hit Fukushima was a major oversight, and future designs must incorporate a broader range of disaster scenarios.\n",
    "- Redundancy and resilience: The failure of backup systems at Fukushima highlighted the need for redundant safety systems that are resistant to multiple modes of failure. Emergency power systems, for instance, should be designed to operate even under extreme conditions such as flooding or fire.\n",
    "- Adaptive safety standards: Engineering safety standards must be dynamic and responsive to new information and evolving risks. In the case of Fukushima, warnings about the potential for a large tsunami had been raised years before the disaster, but safety upgrades were not implemented. A more adaptive approach to risk management, where designs are regularly reassessed and updated based on new data, is essential.\n",
    "- Public communication and transparency: The Fukushima disaster also highlighted the importance of clear communication between engineers, policymakers, and the public. Delays in sharing critical information about radiation levels and safety measures contributed to confusion and mistrust among the public. Transparent decision-making processes are crucial in maintaining public confidence during crises.\n",
    "\n",
    "### Conclusion\n",
    "\n",
    "The 2011 TEPCO Fukushima power plant failure continues to serve as a sobering reminder of the deep interconnections between engineering design and public health. The disaster was a consequence of engineering miscalculations, insufficient risk assessment, and a failure to prepare for extreme events, which had profound impacts on the health and well-being of the local population. Going forward, the lessons learned from Fukushima should drive stronger, more resilient designs, more effective risk management, and an unwavering commitment to public safety in the engineering of critical infrastructure."
   ]
  },
  {
   "cell_type": "markdown",
   "metadata": {},
   "source": [
    "## Case Study 2: Broad Street Pump\n",
    "In the mid-19th century, London experienced a devastating cholera outbreak, with thousands of deaths attributed to the waterborne disease. At the time, the prevailing theory blamed miasma, or \"bad air,\" rather than contaminated water. Dr. John Snow, a physician and pioneer in epidemiology, challenged this notion.\n",
    "\n",
    "In 1854, during a severe outbreak in Soho, Snow meticulously mapped cholera cases and identified a significant cluster around the Broad Street pump. He hypothesized that contaminated water from the pump was the source of the outbreak. After persuading local authorities to remove the pump's handle, the number of new cases drastically declined, providing compelling evidence of the link between water quality and public health.\n",
    "\n",
    "Snow's work not only helped curb the outbreak but also laid the groundwork for modern public health practices, emphasizing the importance of clean water and sanitation. His findings ultimately contributed to **major improvements in London's water supply and sewage systems**, significantly **reducing cholera** cases and enhancing public health in the city.\n",
    "\n",
    ":::{admonition} Question \n",
    "\"What **engineering** challenges did you think had to be overcome in this case?\"\n",
    ":::\n",
    "\n",
    "### Background: \n",
    "Historically, poor water quality led to widespread disease.  \n",
    "### Engineering Solution(s): \n",
    "Implementation of filtration, biochemical treatment systems, and disinfection technologies are examples of engineering solutions, which combined with continuous (daily) monitoring greatly improve delivered water quality.\n",
    "### Public Health Outcome(s): \n",
    "Fewer waterborne disease outbreaks"
   ]
  },
  {
   "cell_type": "markdown",
   "metadata": {},
   "source": [
    "## Case Study 3: Urban Transportation \n",
    "\n",
    ":::{warning}\n",
    "This case study is incomplete - the videos are good and worth watching, need narrative then supresses this warning\n",
    ":::\n",
    "\n",
    "### Background: \n",
    "Traffic congestion and accidents as public health issues.  Urban areas often struggle with traffic congestion, which contributes to air pollution and physical inactivity.\n",
    "### Engineering Solutions: \n",
    "- Bike Lanes: Encourage cycling, leading to healthier lifestyles.\n",
    "- Public Transit Improvements: Discuss investments in buses and subways that reduce car dependency and associated emissions.\n",
    "- Pedestrian Infrastructure: Creating walkable neighborhoods fosters community interaction and promotes physical activity.\n",
    "    \n",
    "### Public Health Outcome: \n",
    "Reduced air pollution and improved community health metrics. Reference studies showing reductions in asthma rates and obesity levels in cities that have prioritized active transportation.\n",
    "\n",
    ":::{admonition} Question \n",
    "\"Have you noticed any changes in your local transportation systems that have aimed to improve public health?\"\n",
    ":::\n",
    "\n",
    ":::{note}\n",
    "To do:\n",
    "- Include graphs or images showing the correlation between design decisions and public health outcomes. \n",
    "- Delete this note when completed\n",
    ":::"
   ]
  },
  {
   "cell_type": "markdown",
   "metadata": {},
   "source": [
    "<!--## Practical Steps for Students \n",
    "\n",
    "### Learn and Research\n",
    "Stay informed about public health principles.\n",
    "\n",
    "### Collaborate\n",
    "Work with public health professionals in projects.\n",
    "### Design Thinking\n",
    "Use design thinking to incorporate user feedback and public health needs into your designs.\n",
    "### Advocate: \n",
    "Promote health-focused engineering practices in your communities.\n",
    "\n",
    "## Conclusion \n",
    "\n",
    "\"We’ve seen how engineering decisions affect public health and how you can integrate these considerations into your work.\"\n",
    "\n",
    ":::{admonition} Include documented consideration of public health in your designs\n",
    "\"As you progress in your engineering careers, always remember: the designs you create can lead to healthier communities. Let’s engineer a better future!\"\n",
    ":::-->"
   ]
  },
  {
   "cell_type": "markdown",
   "metadata": {},
   "source": [
    "## End of Section"
   ]
  },
  {
   "cell_type": "markdown",
   "metadata": {},
   "source": []
  }
 ],
 "metadata": {
  "kernelspec": {
   "display_name": "Python 3 (ipykernel)",
   "language": "python",
   "name": "python3"
  },
  "language_info": {
   "codemirror_mode": {
    "name": "ipython",
    "version": 3
   },
   "file_extension": ".py",
   "mimetype": "text/x-python",
   "name": "python",
   "nbconvert_exporter": "python",
   "pygments_lexer": "ipython3",
   "version": "3.10.12"
  }
 },
 "nbformat": 4,
 "nbformat_minor": 4
}