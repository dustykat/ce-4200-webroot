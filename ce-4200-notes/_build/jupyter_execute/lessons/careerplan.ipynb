{
 "cells": [
  {
   "cell_type": "markdown",
   "metadata": {},
   "source": [
    "# DEVELOPING A PERSONAL CAREER PLAN\n",
    "\n",
    "## INTRODUCTION\n",
    "A question frequently asked by graduating senior students is, how do I know what job to choose?  Perhaps now you are not thinking about getting a job.  But imagine that in about 6 months, you find yourself with multiple job offers, as some of our students are doing.  How would you answer this question?  This is actually a misdirected question.  More specifically:\n",
    "- Not a job, but a fit$^*$\n",
    "- Not what others want for you, but what you want for yourself\n",
    "- Not just salary, it’s about personal satisfaction \n",
    "\n",
    ":::{note}\n",
    "$^*$Fit is currently (circa 2022) a trigger word in HR circles.\n",
    ":::\n",
    "\n",
    "## JOB HUNTING 101\n",
    "You are not looking for a job.  You are looking for a good match between your skills, talents, gifts, abilities, interests and needs, and a place/way to express those in the workplace.  In this way, job hunting becomes transformed from a filtered search (numbers game) to a diligent, focused inquiry for information and insight both inward (yourself) and outward (potential employers).  \n",
    "\n",
    "Exercise: What are you good at?  Can you think of a way to express this in the workplace?\n",
    "\n",
    ":::{note}\n",
    "You have to eat, have shelter, and such.  While usually it is better to be a king in hell than a slave in heaven; There will be times in your career when these simple requirements (food, clothing, shelter) will dominate decisions, and that's OK - but have an exit plan.\n",
    ":::\n",
    "\n",
    "## DO YOU HAVE GOALS?\n",
    "It has been said that the happiest time in your life are when you are pursuing a goal.  Aimlessness is not fun. What are your goals?  What about after graduation? Where do you prefer to live? What type of work interests you? Do you plan to save money and grow wealth?  Do you think you will continue your formal education? Want to travel? Want to start a family? \n",
    "Spiritual. Vocational. Educational. Financial. Personal.\n",
    "Your assignment gets into this.\n",
    "\n",
    "## WHAT ABOUT MULTIPLE OFFERS?\n",
    "\n",
    "Learn about the companies that appear interesting to you.  \n",
    "Start with research, and refine your inquiry with the interview and office (or site) visit.  \n",
    "This is not only a great way to make a clear impression that you are deeply interested in the company, but to communicate that you have things personal and unique to offer.\n",
    "\n",
    "- Identify what is important to you. What are the factors?  Categories and subcategories.\n",
    "- Put weighting factors on these (point spread).\n",
    "- Carefully reflect on how you should rank each opportunity.\n",
    "- Sum them up.\n",
    "- Make your decision\n"
   ]
  },
  {
   "cell_type": "code",
   "execution_count": null,
   "metadata": {},
   "outputs": [],
   "source": []
  }
 ],
 "metadata": {
  "kernelspec": {
   "display_name": "Python 3",
   "language": "python",
   "name": "python3"
  },
  "language_info": {
   "codemirror_mode": {
    "name": "ipython",
    "version": 3
   },
   "file_extension": ".py",
   "mimetype": "text/x-python",
   "name": "python",
   "nbconvert_exporter": "python",
   "pygments_lexer": "ipython3",
   "version": "3.8.10"
  }
 },
 "nbformat": 4,
 "nbformat_minor": 4
}