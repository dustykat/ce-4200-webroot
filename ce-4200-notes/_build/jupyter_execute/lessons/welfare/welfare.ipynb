{
 "cells": [
  {
   "cell_type": "markdown",
   "metadata": {},
   "source": [
    "# Evaluation of Welfare Considerations in Engineering Design\n",
    "\n",
    "**This topic is an ABET required topic transferred from CE 4330 to this course**"
   ]
  },
  {
   "cell_type": "markdown",
   "metadata": {},
   "source": [
    "## Introduction (5 minutes)\n",
    "\n",
    "In this chapter, we explore how welfare considerations, grounded in the concept of Pareto optimality, play a critical role in engineering design.\n",
    "        \n",
    ":::{admonition} Welfare Definition \n",
    "In civil engineering the functional definition is maximizing societal benefits without **disproportionately** disadvantaging others.\n",
    "Observe **equity** is not explicitly part of the definition - the definition admits (allows) the consideration of **sacrifice** zones, to achieve societal benefit.  So when we destroy land to extract oil, the lost land is the sacrifice for societal benefit.\n",
    ":::\n",
    "\n",
    "- Relevance to Engineering:\n",
    "  - Welfare considerations influence public works, infrastructure, and large-scale projects.\n",
    "  - Engineers act as stewards of equitable resource allocation, balancing technical feasibility with societal impacts.\n",
    "\n",
    "- Pareto Optimality:\n",
    "  - A state where no individual or group can be made better off without making someone else worse off.\n",
    "  - Emphasize: This concept does not equate to total equity but strives for efficient resource allocation.\n",
    "  \n",
    ":::{note}\n",
    "The Pareto concept is very much like utility ethics discussed elsewhere - and in fact utility could be used interchangeably herein.\n",
    ":::"
   ]
  },
  {
   "cell_type": "markdown",
   "metadata": {},
   "source": []
  },
  {
   "cell_type": "markdown",
   "metadata": {},
   "source": [
    "## Core Concepts (10 minutes)\n",
    "\n",
    "- Pareto Efficiency in Engineering:\n",
    "  - Decisions aim to optimize resources, performance, and societal benefits.\n",
    "  - Example: Designing public transportation to improve access without negatively impacting existing road users.\n",
    "\n",
    "- Welfare Metrics in Engineering:\n",
    "  - Cost-benefit analysis: Evaluates economic trade-offs.\n",
    "  - Social utility functions: Quantifies collective benefits (e.g., environmental impact, accessibility).\n",
    "\n",
    "- Key Challenges:\n",
    "  - Balancing competing interests (e.g., rural vs. urban needs in infrastructure).\n",
    "  - Accounting for non-monetary values (e.g., cultural heritage)."
   ]
  },
  {
   "cell_type": "markdown",
   "metadata": {},
   "source": [
    "## Case Studies and Applications (15 minutes)\n",
    "\n",
    "- Urban Infrastructure:\n",
    "  - Example: Designing a flood management system.\n",
    "  - Goal: Protect urban populations (Pareto gain) without adversely impacting upstream or downstream communities.\n",
    "  - Challenge: Addressing property rights and environmental considerations.\n",
    "\n",
    "- Renewable Energy Projects:\n",
    "  - Example: Wind farm placement.\n",
    "  - Benefits: Clean energy, job creation.\n",
    "  - Challenges: Visual/aesthetic impacts, land use conflicts.\n",
    "\n",
    "- Water Distribution Projects:\n",
    "  - Example: Equitably allocating water in a drought-prone region.\n",
    "  - Strategy: Use multi-objective optimization to balance agricultural, industrial, and residential needs.\n",
    "\n",
    "- Ethical Dilemmas:\n",
    "  - What happens when Pareto efficiency isn’t achievable?\n",
    "  - Example: Highway construction through a low-income neighborhood. Discuss mitigation strategies, like community engagement and compensation."
   ]
  },
  {
   "cell_type": "markdown",
   "metadata": {},
   "source": [
    "## Interactive Component (5 minutes)\n",
    "\n",
    "- Scenario-Based Discussion:\n",
    "  - Present a scenario: A city plans to build a new bridge. How can Pareto-optimal welfare be achieved?\n",
    "  - Encourage students to brainstorm: Stakeholders, trade-offs, and metrics for success."
   ]
  },
  {
   "cell_type": "markdown",
   "metadata": {},
   "source": [
    "## Key Lessons and Strategies (5 minutes)\n",
    "\n",
    "- Systematic Evaluation:\n",
    "  - Use tools like decision matrices and optimization models.\n",
    "  - Example: Incorporate environmental, social, and economic factors in feasibility studies.\n",
    "\n",
    "- Stakeholder Engagement:\n",
    "  - Involve all affected groups early in the design process.\n",
    "  - Example: Public consultations, surveys.\n",
    "\n",
    "- Dynamic Thinking:\n",
    "  - Consider long-term impacts and adaptability.\n",
    "  - Example: Designing infrastructure to accommodate future population growth."
   ]
  },
  {
   "cell_type": "markdown",
   "metadata": {},
   "source": [
    "## Conclusion (5 minutes)\n",
    "\n",
    "- Recap:\n",
    "  - Welfare in engineering is about balancing societal benefits and trade-offs.\n",
    "  - Pareto-optimal solutions provide a framework for efficient, equitable designs.\n",
    "\n",
    "\n",
    "- “As future licensed engineers, you’ll have the responsibility to ensure your designs improve welfare in meaningful ways. Strive for solutions that maximize societal benefit while minimizing harm.”\n",
    "\n"
   ]
  },
  {
   "cell_type": "markdown",
   "metadata": {},
   "source": [
    "## References\n",
    "\n",
    "\n",
    "\n",
    "6. OpenAI (2024). Prompt: \"Can you prepare a short script (for 40 minute presentation) on \"Evaluation of Welfare Considerations\" in the context of engineering design? The audience is engineering students about 4 years away from license eligibility?  Welfare is to be interpreted in the Pareto-optimal sense.\"  ChatGPT-4.0.  URL `https://chatgpt.com/c/673bad08-3510-800d-bfaf-3580a5ce16cd`  \n",
    "\n",
    ":::{note}\n",
    "\"The OpenAI URL provided in references helps retrieve specific content shared, but information is not publicly recoverable unless required by legal obligations.\"\n",
    ":::"
   ]
  },
  {
   "cell_type": "code",
   "execution_count": null,
   "metadata": {},
   "outputs": [],
   "source": []
  }
 ],
 "metadata": {
  "kernelspec": {
   "display_name": "Python 3",
   "language": "python",
   "name": "python3"
  },
  "language_info": {
   "codemirror_mode": {
    "name": "ipython",
    "version": 3
   },
   "file_extension": ".py",
   "mimetype": "text/x-python",
   "name": "python",
   "nbconvert_exporter": "python",
   "pygments_lexer": "ipython3",
   "version": "3.8.10"
  }
 },
 "nbformat": 4,
 "nbformat_minor": 4
}