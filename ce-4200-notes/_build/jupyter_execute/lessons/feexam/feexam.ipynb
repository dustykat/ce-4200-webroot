{
 "cells": [
  {
   "cell_type": "markdown",
   "metadata": {},
   "source": [
    "# 7.1 Fundamentals of Engineering (FE) EXAM\n",
    "\n",
    "**FE review/licensing under revision** \n"
   ]
  },
  {
   "cell_type": "markdown",
   "metadata": {
    "tags": []
   },
   "source": [
    "## References\n",
    "\n",
    "1. [Lawson (2022), *Getting Licensed* Handout to accompany CE 4200, Whitacre College of Engineering, Texas Tech University](http://54.243.252.9/ce-4200-webroot/ce-4200-notes/lessons/licensing/LECTURE5A_GettingLicensed_CE4200_S2022-handout.pdf)\n",
    "\n",
    "2. [Lawson (2022), *Engineering License Application* Handout to accompany CE 4200, Whitacre College of Engineering, Texas Tech University](http://54.243.252.9/ce-4200-webroot/ce-4200-notes/lessons/licensing/LECTURE5B_EngineeringLicensureApplication_CE4200_S2022-handout.pdf)\n",
    "\n",
    "3. [Lawson (2022), *FE Exam* Handout to accompany CE 4200, Whitacre College of Engineering, Texas Tech University](http://54.243.252.9/ce-4200-webroot/ce-4200-webroot/ce-4200-notes/lessons/licensing/LECTURE6_CE4200FEEXAM_S2022-handout.pdf)\n",
    "\n",
    "3. [Environmental Engineering BOK](https://www.aaees.org/assets/docs/publications/EEBodyofKnowledge.pdf)\n",
    "\n",
    "4. [ASCE BOK-2](https://ascelibrary.org/doi/book/10.1061/9780784409657) You will need this for the homework; although BOK-3 may be sufficient.\n",
    "\n",
    "5. [Texas Engineering Practice Act](https://engineers.texas.gov/downloads/enf_pub.pdf)\n",
    "\n",
    "6.  [Lawson (2022), *FE Exam (pptx) * Lecture to accompany CE 4200, Whitacre College of Engineering, Texas Tech University](http://54.243.252.9/ce-4200-webroot/ce-4200-notes/lessons/feexam/LECTURE6_CE4200FEEXAM_S2022.pptx)\n",
    "\n",
    "3. [Lawson (2022), *FE Exam Performance (pptx) * Lecture to accompany CE 4200, Whitacre College of Engineering, Texas Tech University](http://54.243.252.9/ce-4200-webroot/ce-4200-notes/lessons/feexam/LECTURE7_FEPERFORMANCE_CESpecific_S2022.pptx)\n",
    "\n",
    "3. [Lawson (2022), *FE Exam Knowledge (pptx) * Lecture to accompany CE 4200, Whitacre College of Engineering, Texas Tech University](http://54.243.252.9/ce-4200-webroot/ce-4200-notes/lessons/feexam/LECTURE8A_FEEXAMKNOWLEDGE_S2022.pptx)\n",
    "\n",
    "3. [Lawson (2022), *FE Exam Preparation (pptx) * Lecture to accompany CE 4200, Whitacre College of Engineering, Texas Tech University](http://54.243.252.9/ce-4200-webroot/ce-4200-notes/lessons/feexam/LECTURE8A_FEEXAMKNOWLEDGE_S2022.pptx)\n",
    "\n",
    "3. [Lawson (2022), *FE Exam* Handout to accompany CE 4200, Whitacre College of Engineering, Texas Tech University](http://54.243.252.9/ce-4200-webroot/ce-4200-webroot/ce-4200-notes/lessons/feexam/LECTURE6_CE4200FEEXAM_S2022-handout.pdf)\n",
    "\n",
    "3. [Lawson (2022), *FE Exam Performance* Handout to accompany CE 4200, Whitacre College of Engineering, Texas Tech University](http://54.243.252.9/ce-4200-webroot/ce-4200-notes/lessons/feexam/LECTURE7_FEPERFORMANCE_CESpecific_S2022-handout.pdf)\n",
    "\n",
    "3. [Lawson (2022), *FE Exam Knowledge* Handout to accompany CE 4200, Whitacre College of Engineering, Texas Tech University](http://54.243.252.9/ce-4200-webroot/ce-4200-notes/lessons/feexam/LECTURE8A_FEEXAMKNOWLEDGE_S2022-handout.pdf)\n",
    "\n",
    "3. [Lawson (2022), *FE Exam Preparation* Handout to accompany CE 4200, Whitacre College of Engineering, Texas Tech University](http://54.243.252.9/ce-4200-webroot/ce-4200-notes/lessons/feexam/LECTURE8B_FEEXAMPREPARATION_S2022-handout.pdf)\n",
    "\n",
    "4. [CE 4101 (old web pages)](http://54.243.252.9/ce-4200-webroot/ce-4101/) \n",
    "\n",
    "5. [Texas Engineering Practice Act](https://engineers.texas.gov/downloads/enf_pub.pdf)\n",
    "\n",
    "6. [Licensing Video Quiz Preview]()"
   ]
  },
  {
   "cell_type": "markdown",
   "metadata": {},
   "source": [
    "## Videos\n",
    "\n",
    "1. [The Value of the PE License for Engineers](https://www.youtube.com/watch?v=gs4qDo4I8tc)\n",
    "2. [Why become a PE?](https://www.youtube.com/watch?v=C4DxBm0kW_0)\n",
    "3. [Professional Engineering License vs. Project Management Certification](https://www.youtube.com/watch?v=5vvKHMpO7Y8)"
   ]
  },
  {
   "cell_type": "markdown",
   "metadata": {},
   "source": [
    "---\n",
    "\n",
    "## Introduction to the FE Exam\n",
    "\n",
    "The Fundamentals of Engineering (FE) Exam is the first step on your path to becoming a licensed Professional Engineer (PE). It’s a nationally recognized exam administered by NCEES, designed to test your knowledge of fundamental engineering concepts. Passing the FE is a key milestone, demonstrating your readiness to apply engineering principles in real-world practice.\n",
    "\n",
    "For civil engineering students, the FE Exam covers topics ranging from mathematics and fluid mechanics to structural analysis and transportation engineering. While the breadth of material may seem daunting, success comes down to two things: structured preparation and strategic problem-solving. Over the next several weeks, we will break down the key topics, work through practice problems, and develop efficient test-taking strategies to maximize your chances of passing on your first attempt.\n",
    "\n",
    ":::{note}\n",
    "Whether you plan to pursue licensure immediately or later in your career, passing the FE Exam early keeps your options open and sets you apart in the job market.  \n",
    ":::"
   ]
  },
  {
   "cell_type": "markdown",
   "metadata": {},
   "source": [
    "To begin your preparation process you should visit the NCEES website and read about the [FE Exam Contents](https://ncees.org/exams/fe-exam/) and read the [NCEES Examinee Guide](https://ncees.org/examinee-guide/)\n",
    "\n",
    "You will learn useful information like:\n",
    "\n",
    "1. The FE exam is a **computer-based test (CBT)** administered **year-round** at NCEES-approved **Pearson VUE** test centers. A **$225 exam fee** is payable directly to NCEES.  \n",
    "2. The exam consists of **110 questions** covering a broad range of civil engineering topics.  \n",
    "3. The total exam appointment time is **6 hours**, which includes:  \n",
    "   - **Nondisclosure agreement** (2 minutes)  \n",
    "   - **Tutorial** (8 minutes)  \n",
    "   - **Exam** (5 hours and 20 minutes)  \n",
    "   - **Scheduled break** (25 minutes)  \n",
    "4. Registration is available through [NCEES](https://ncees.org/) based on location availability.  \n",
    "5. [Exam specifications (question categories)](https://ncees.org/wp-content/uploads/2022/09/FE-Civil-CBT-specs-1.pdf) outline the topics covered on the FE Civil exam.  \n",
    "6. [Alternative Type Items (AITs)](https://ncees.org/computer-based-testing-cbt/#ait) include multiple-choice, point-and-click, drag-and-drop, and fill-in-the-blank questions—designed to test understanding beyond simple recall.  \n"
   ]
  },
  {
   "cell_type": "markdown",
   "metadata": {},
   "source": [
    "You can also buy a [NCEES Practice Exam (on-line)](https://account.ncees.org/exam-prep/485) for **$50** \n",
    "and/or a [PDF Practice Exam](https://account.ncees.org/exam-prep/431) for **\\$35**"
   ]
  },
  {
   "cell_type": "markdown",
   "metadata": {},
   "source": [
    "Other preparation materials include \n",
    "\n",
    "1. [FE Civil Practice Problems (obsolete, but not useless)](http://54.243.252.9/ce-4200-webroot/3-Readings/FE-Exam-Stuff/dokumen.pub_ppi-fe-civil-practice-comprehensive-practice-for-the-ncees-fe-civil-exam-1.pdf)\n",
    "2. [Curated Training Videos (old CE 4101 web page)](http://54.243.252.9/ce-4200-webroot/ce-4101/)\n",
    "3. [FE Rapid Preparation for Civil Exam (obsolete, but not useless)](http://54.243.252.9ce-4200-webroot/dokumen.pub_fe-civil-review-manual-rapid-preparation-for-the-civil-fundamentals-of-engineering-exam-1nbsped-9781591264392.pdf)\n"
   ]
  },
  {
   "cell_type": "markdown",
   "metadata": {},
   "source": [
    "# FE Review - Testing Preparation\n",
    "\n",
    "1. Set aside time to study each week. A few hours will do. Reviewing information from the review book and practicing problems regularly is important. You need to be able to solve the problems fast, so practice is the only way to develop the requisite speed.\n",
    "2. Review your class notes before your self-study review sessions. Even just reading your notes will help.\n",
    "3. After each self-study session, review the information the next day. This review will reinforce the concepts.\n",
    "4. Work as many problems as possible. use problems from study guides and your old textbooks.\n",
    "6. If possible, form a study group and meet weekly with your group. A group will be able to solve all problems because it is likely that someone in the group will understand how to solve specific problems. It will not always be the same person, so be sure your group has three or four people. Five is probably the largest size that will be effective.  Go easy on beverages - its a study group with a drinking problem, not a drinking group with a study problem.\n",
    "7. Become familiar with the allowed reference materials so you don’t waste time on the exam looking for information."
   ]
  },
  {
   "cell_type": "code",
   "execution_count": null,
   "metadata": {},
   "outputs": [],
   "source": []
  }
 ],
 "metadata": {
  "kernelspec": {
   "display_name": "Python 3 (ipykernel)",
   "language": "python",
   "name": "python3"
  },
  "language_info": {
   "codemirror_mode": {
    "name": "ipython",
    "version": 3
   },
   "file_extension": ".py",
   "mimetype": "text/x-python",
   "name": "python",
   "nbconvert_exporter": "python",
   "pygments_lexer": "ipython3",
   "version": "3.10.12"
  }
 },
 "nbformat": 4,
 "nbformat_minor": 4
}