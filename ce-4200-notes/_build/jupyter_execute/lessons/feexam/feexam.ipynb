{
 "cells": [
  {
   "cell_type": "markdown",
   "metadata": {},
   "source": [
    "# 7.1 Fundamentals of Engineering (FE) EXAM\n",
    "\n",
    "**FE review/licensing under revision** \n"
   ]
  },
  {
   "cell_type": "markdown",
   "metadata": {
    "tags": []
   },
   "source": [
    "## References\n",
    "\n",
    "1. [Lawson (2022), *Getting Licensed* Handout to accompany CE 4200, Whitacre College of Engineering, Texas Tech University](http://54.243.252.9/ce-4200-webroot/ce-4200-notes/lessons/licensing/LECTURE5A_GettingLicensed_CE4200_S2022-handout.pdf)\n",
    "\n",
    "2. [Lawson (2022), *Engineering License Application* Handout to accompany CE 4200, Whitacre College of Engineering, Texas Tech University](http://54.243.252.9/ce-4200-webroot/ce-4200-notes/lessons/licensing/LECTURE5B_EngineeringLicensureApplication_CE4200_S2022-handout.pdf)\n",
    "\n",
    "3. [Lawson (2022), *FE Exam* Handout to accompany CE 4200, Whitacre College of Engineering, Texas Tech University](http://54.243.252.9/ce-4200-webroot/ce-4200-webroot/ce-4200-notes/lessons/licensing/LECTURE6_CE4200FEEXAM_S2022-handout.pdf)\n",
    "\n",
    "3. [Environmental Engineering BOK](https://www.aaees.org/assets/docs/publications/EEBodyofKnowledge.pdf)\n",
    "\n",
    "4. [ASCE BOK-2](https://ascelibrary.org/doi/book/10.1061/9780784409657) You will need this for the homework; although BOK-3 may be sufficient.\n",
    "\n",
    "5. [Texas Engineering Practice Act](https://engineers.texas.gov/downloads/enf_pub.pdf)\n",
    "\n",
    "6.  [Lawson (2022), *FE Exam (pptx) * Lecture to accompany CE 4200, Whitacre College of Engineering, Texas Tech University](http://54.243.252.9/ce-4200-webroot/ce-4200-notes/lessons/feexam/LECTURE6_CE4200FEEXAM_S2022.pptx)\n",
    "\n",
    "3. [Lawson (2022), *FE Exam Performance (pptx) * Lecture to accompany CE 4200, Whitacre College of Engineering, Texas Tech University](http://54.243.252.9/ce-4200-webroot/ce-4200-notes/lessons/feexam/LECTURE7_FEPERFORMANCE_CESpecific_S2022.pptx)\n",
    "\n",
    "3. [Lawson (2022), *FE Exam Knowledge (pptx) * Lecture to accompany CE 4200, Whitacre College of Engineering, Texas Tech University](http://54.243.252.9/ce-4200-webroot/ce-4200-notes/lessons/feexam/LECTURE8A_FEEXAMKNOWLEDGE_S2022.pptx)\n",
    "\n",
    "3. [Lawson (2022), *FE Exam Preparation (pptx) * Lecture to accompany CE 4200, Whitacre College of Engineering, Texas Tech University](http://54.243.252.9/ce-4200-webroot/ce-4200-notes/lessons/feexam/LECTURE8A_FEEXAMKNOWLEDGE_S2022.pptx)\n",
    "\n",
    "3. [Lawson (2022), *FE Exam* Handout to accompany CE 4200, Whitacre College of Engineering, Texas Tech University](http://54.243.252.9/ce-4200-webroot/ce-4200-webroot/ce-4200-notes/lessons/feexam/LECTURE6_CE4200FEEXAM_S2022-handout.pdf)\n",
    "\n",
    "3. [Lawson (2022), *FE Exam Performance* Handout to accompany CE 4200, Whitacre College of Engineering, Texas Tech University](http://54.243.252.9/ce-4200-webroot/ce-4200-notes/lessons/feexam/LECTURE7_FEPERFORMANCE_CESpecific_S2022-handout.pdf)\n",
    "\n",
    "3. [Lawson (2022), *FE Exam Knowledge* Handout to accompany CE 4200, Whitacre College of Engineering, Texas Tech University](http://54.243.252.9/ce-4200-webroot/ce-4200-notes/lessons/feexam/LECTURE8A_FEEXAMKNOWLEDGE_S2022-handout.pdf)\n",
    "\n",
    "3. [Lawson (2022), *FE Exam Preparation* Handout to accompany CE 4200, Whitacre College of Engineering, Texas Tech University](http://54.243.252.9/ce-4200-webroot/ce-4200-notes/lessons/feexam/LECTURE8B_FEEXAMPREPARATION_S2022-handout.pdf)\n",
    "\n",
    "4. [CE 4101 (old web pages)](http://54.243.252.9/ce-4200-webroot/ce-4101/) \n",
    "\n",
    "5. [Texas Engineering Practice Act](https://engineers.texas.gov/downloads/enf_pub.pdf)\n",
    "\n",
    "6. [Licensing Video Quiz Preview]()"
   ]
  },
  {
   "cell_type": "markdown",
   "metadata": {},
   "source": [
    "## Videos\n",
    "\n",
    "1. [The Value of the PE License for Engineers](https://www.youtube.com/watch?v=gs4qDo4I8tc)\n",
    "2. [Why become a PE?](https://www.youtube.com/watch?v=C4DxBm0kW_0)\n",
    "3. [Professional Engineering License vs. Project Management Certification](https://www.youtube.com/watch?v=5vvKHMpO7Y8)"
   ]
  },
  {
   "cell_type": "markdown",
   "metadata": {},
   "source": [
    "---\n",
    "\n",
    "## Introduction to the FE Exam\n",
    "\n",
    "The Fundamentals of Engineering (FE) Exam is the first step on your path to becoming a licensed Professional Engineer (PE). It’s a nationally recognized exam administered by NCEES, designed to test your knowledge of fundamental engineering concepts. Passing the FE is a key milestone, demonstrating your readiness to apply engineering principles in real-world practice.\n",
    "\n",
    "For civil engineering students, the FE Exam covers topics ranging from mathematics and fluid mechanics to structural analysis and transportation engineering. While the breadth of material may seem daunting, success comes down to two things: structured preparation and strategic problem-solving. Over the next several weeks, we will break down the key topics, work through practice problems, and develop efficient test-taking strategies to maximize your chances of passing on your first attempt.\n",
    "\n",
    ":::{note}\n",
    "Whether you plan to pursue licensure immediately or later in your career, passing the FE Exam early keeps your options open and sets you apart in the job market.  \n",
    ":::"
   ]
  },
  {
   "cell_type": "markdown",
   "metadata": {},
   "source": [
    "To begin your preparation process you should visit the NCEES website and read about the [FE Exam Contents](https://ncees.org/exams/fe-exam/) and read the [NCEES Examinee Guide](https://ncees.org/examinee-guide/)\n",
    "\n",
    "You will learn useful information like:\n",
    "\n",
    "1. The FE exam is a **computer-based test (CBT)** administered **year-round** at NCEES-approved **Pearson VUE** test centers. A **$225 exam fee** is payable directly to NCEES.  \n",
    "2. The exam consists of **110 questions** covering a broad range of civil engineering topics.  \n",
    "3. The total exam appointment time is **6 hours**, which includes:  \n",
    "   - **Nondisclosure agreement** (2 minutes)  \n",
    "   - **Tutorial** (8 minutes)  \n",
    "   - **Exam** (5 hours and 20 minutes)  \n",
    "   - **Scheduled break** (25 minutes)\n",
    "   <br> ![](FE-Exam.png)\n",
    "4. Registration is available through [NCEES](https://ncees.org/) based on location availability.  \n",
    "5. [Exam specifications (question categories)](https://ncees.org/wp-content/uploads/2022/09/FE-Civil-CBT-specs-1.pdf) outline the topics covered on the FE Civil exam.  \n",
    "6. [Alternative Type Items (AITs)](https://ncees.org/computer-based-testing-cbt/#ait) include multiple-choice, point-and-click, drag-and-drop, and fill-in-the-blank questions—designed to test understanding beyond simple recall.  \n"
   ]
  },
  {
   "cell_type": "markdown",
   "metadata": {},
   "source": [
    "You can also buy a [NCEES Practice Exam (on-line)](https://account.ncees.org/exam-prep/485) for **$50** \n",
    "and/or a [PDF Practice Exam](https://account.ncees.org/exam-prep/431) for **\\$35**"
   ]
  },
  {
   "cell_type": "markdown",
   "metadata": {},
   "source": [
    "Other preparation materials include \n",
    "\n",
    "1. [FE Civil Practice Problems (obsolete, but not useless)](http://54.243.252.9/ce-4200-webroot/3-Readings/FE-Exam-Stuff/dokumen.pub_ppi-fe-civil-practice-comprehensive-practice-for-the-ncees-fe-civil-exam-1.pdf)\n",
    "2. [Curated Training Videos (old CE 4101 web page)](http://54.243.252.9/ce-4200-webroot/ce-4101/)\n",
    "3. [FE Rapid Preparation for Civil Exam (obsolete, but not useless)](http://54.243.252.9/ce-4200-webroot/dokumen.pub_fe-civil-review-manual-rapid-preparation-for-the-civil-fundamentals-of-engineering-exam-1nbsped-9781591264392.pdf)\n"
   ]
  },
  {
   "cell_type": "markdown",
   "metadata": {},
   "source": [
    "# FE Review - Testing Preparation\n",
    "\n",
    "1. Set aside time to study each week. A few hours will do. Reviewing information from the review book and practicing problems regularly is important. You need to be able to solve the problems fast, so practice is the only way to develop the requisite speed.\n",
    "2. Review your class notes before your self-study review sessions. Even just reading your notes will help.\n",
    "3. After each self-study session, review the information the next day. This review will reinforce the concepts.\n",
    "4. Work as many problems as possible. use problems from study guides and your old textbooks.\n",
    "6. If possible, form a study group and meet weekly with your group. A group will be able to solve all problems because it is likely that someone in the group will understand how to solve specific problems. It will not always be the same person, so be sure your group has three or four people. Five is probably the largest size that will be effective.  Go easy on beverages - its a study group with a drinking problem, not a drinking group with a study problem.\n",
    "7. Become familiar with the allowed reference materials so you don’t waste time on the exam looking for information."
   ]
  },
  {
   "cell_type": "markdown",
   "metadata": {},
   "source": [
    ":::{admonition} Self-Study Tools and Online Courses\n",
    "\n",
    "## Self-study\n",
    "\n",
    "Some self-study tools are:  (many of the links also appear as readings in other lessons).\n",
    "\n",
    "- Lindeburg Manuals A collection of training manuals. (PAID; kind of expensive.  There are older free editions on the web and Internet Archive)  These used to be gold standard, but are not keeping up with computer adaptive testing.  [Amazon Link](https://www.amazon.com/s?k=fe+review+manual)  Last revision about 2021\n",
    "\n",
    "- Marshall University; keyed to Lindberg review manual.  Considered a good suppliment. A curated list of links is at [http://54.243.252.9/ce-4200-webroot/ce-4101/](http://54.243.252.9/ce-4200-webroot/ce-4101/)  Circa 2019 and older\n",
    "\n",
    "- SUNY Utica;  an entire review course (about 20 hours of video + advertisments) all presented by Mark Mattson, PE at SUNY Polytechnical (Utica NY Campus). Each video has supporting notes and worksheets at [https://sites.google.com/view/markmattsonpe/home](https://sites.google.com/view/markmattsonpe/home)\n",
    "A curated list of links is at [http://54.243.252.9/ce-4200-webroot/ce-4101/](http://54.243.252.9/ce-4200-webroot/ce-4101/)  (look at the right column near the top)  Circa 2022.\n",
    "\n",
    "## Online Courses\n",
    "\n",
    "- Coursera.org (MOLC massive on-line learning course FREE) https://www.coursera.org/learn/fe-exam#modules  Coursera is a legitimate learning venue; It is used by individuals and companies (Chevron-Phillips, Exxon, and others) to train in special skills. Last revision ???\n",
    "\n",
    "- PrepFE (A commercial on-line learning course PAID) [https://www.prepfe.com/](https://www.prepfe.com/?utm_source=prepfe_blog&utm_medium=organic&utm_campaign=top_fe_prep_services)  This is a legitimate competitor to PPI (below) and probably more up to date.  Circa 2024\n",
    "\n",
    "- GeniePrep (A commercial on-line learning course PAID; Expensive) https://genieprep.com/courses/free-masterclass/  They have some free lessons on YouTube - the presentations are quite good for a couple of kids that put this together then started a company as a side-hustle.  They seem to be keeping up to date, with a 2024 revision.\n",
    "\n",
    "- PPI (A commerical on-line learining course PAID; Expensive) https://ppi2pass.com/fe-exam/civil  This was a gold standard training company.  Last revision ????\n",
    "\n",
    ":::"
   ]
  },
  {
   "attachments": {},
   "cell_type": "markdown",
   "metadata": {},
   "source": [
    "## FE Exam Topics \n",
    "\n",
    "The table below is a topic list which accounts for 100 questions.\n",
    "\n",
    "|Category|Topic(s)                                             |Typical Number of Questions|\n",
    "|--------|-----------------------------------------------------|---------------------------|\n",
    "|Mathematics and Statistics|- Analytic geometry<br>- Single-variable calculus<br>- Vector operations<br>- Probability :distributions, mean, median, mode, standard deviation<br> - Statistics: confidence interval, regression and curve fitting|8|\t\t\t\t\n",
    "|Ethics and Professional Practice|- Codes of ethics (professional and technical societies)<br>- Professional liability<br>- Licensure\t<br>- Contracts and contract law|4|\t\t\t\t\n",
    "|Engineering Economics\t|- Time value of money<br>- Equivalence, present worth, equivalent annual worth, <br>- Future worth, rate of return<br>- Costs: fixed, variable, direct and indirect labor <br>- Costs: incremental, average, sunk<br>- Analyses: breakeven, benefit-cost, life cycle <br>- Analyses: sustainability, renewable energy <br>- Uncertainty: expected value and risk|5|\t\t\t\t\n",
    "|Statics| -\tResultants of force systems<br>- Equivalent force systems<br>- Equilibrium of rigid bodies<br>- Frames and trusses<br>- Centroid of area<br>- Area moments of inertia<br>- Static friction|8|\t\t\t\n",
    "|Dynamics| - Kinematics (e.g., particles, rigid bodies)<br>- Mass moments of inertia<br>- Force acceleration (e.g., particles, rigid bodies)<br>- Work, energy, and power (e.g., particles, rigid bodies)|4|\n",
    "|Mechanics of Materials| - Shear and moment diagrams<br>- Stresses and strain: diagrams, axial, torsion<br>- Stress and strain: bending, shear, thermal<br>- Deformations (e.g., axial, torsion, bending, thermal)<br>- Combined stresses, principal stresses, and Mohr's circle<br>- Elastic and plastic deformations|7|\t\t\t\t\n",
    "|Materials|\t- Mix design of concrete and asphalt<br>- Test methods and specifications: metals, concrete, aggregates<br>- Test methods and specifications: asphalt, and wood<br>- Physical/mechanical properties: metals, concrete, aggregates<br>- Physical/mechanical properties: asphalt, and wood|5|\t\t\t\t\n",
    "|Fluid Mechanics| - Flow measurement<br>- Fluid properties<br>- Fluid statics<br>- Energy, impulse, and momentum of fluids\t\t|6|\t\t\t\n",
    "|Surveying| - Angles, distances, and trigonometry<br>- Area computations<br>- Earthwork and volume computations<br>- Coordinate systems (state plane, lat/lon)<br>- Leveling: differential, elevations, % grades|6|\t\t\t\n",
    "|Water Resources and Environmental Engineering|\t- Basic hydrology: infiltration, rainfall, runoff, watersheds)<br>- Basic hydraulics: Manning & Bernoulli, open-channel flow<br>- Pumps<br>- Water distribution systems<br>- Flood control: dams, routing, spillways<br>- Stormwater: detention, routing, quality<br>- Collection systems: wastewater, stormwater<br>- Groundwater: flow, wells, drawdown<br>- Water quality: ground and surface, water chemistry<br>- Testing and standards: water, wastewater, air, noise<br>- Water and wastewater treatment: biological processes, softening<br>- Water treatment: drinking water treatment|10|\t\t\t\t\n",
    "|Structural Engineering| - Analysis of statically determinant beams, columns, <br>- trusses, and frames<br>- Deflection of statically determinant beams, trusses, frames<br>- Column analysis: buckling, boundary conditions<br>- Structural determinacy<br>- Stability analysis of beams, trusses, and frames<br>- Elementary statically indeterminate structures<br>- Loads, load combinations<br>- Load paths: dead, live, lateral, influence lines<br>- Load paths: moving loads, tributary areas<br>- Design of steel components beams, columns, tension members, connections<br>- Design of reinforced concrete components <br>- Codes and design philosophies, beams, columns|10|\n",
    "|Geotechnical Engineering|-\tIndex properties and soil classifications<br>- Phase relations<br>- Laboratory and field tests<br>- Effective stress<br>- Stability of retaining structures (e.g., active/passive/at-rest pressure)<br>- Shear strength<br>- Bearing capacity<br>- Foundation types (e.g., spread footings, deep foundations, wall footings, mats)<br>- Consolidation and differential settlement<br>- Slope stability (e.g., fills, embankments, cuts, dams)<br>- Soil stabilization (e.g., chemical additives, geosynthetics)|10|\n",
    "|Transportation Engineering|- Geometric design: streets, highways, intersections)<br>- Pavement system design: thickness, subgrade, drainage, rehabilitation<br>- Traffic capacity and flow theory<br>- Traffic control devices<br>- Transportation planning: travel forecast modeling, safety, trip generation|9|\t\t\t\t\n",
    "|Construction Engineering|- Project administration: documents, management, procurement, project delivery methods<br>- Construction operations and methods: safety, equipment, productivity analysis, temporary erosion control<br>- Project controls: earned value, scheduling, allocation of resources, activity relationships<br>- Construction estimating<br>- Interpretation of engineering drawings|8|"
   ]
  },
  {
   "cell_type": "markdown",
   "metadata": {},
   "source": [
    "## Training Tracker\n",
    "\n",
    "The spreadsheet linked below is a blank training tracker.  You will populate it with your initial confidence level by topic, then track your training during the class, and submit the revised checklist with yur final exam.\n",
    "\n",
    "- [CE4200-FE-Topics-Tracker.xlsx](http://54.243.252.9/ce-4200-webroot/ce-4200-notes/lessons/feexam/CE4200-FE-Topics-Tracker.xlsx)"
   ]
  },
  {
   "cell_type": "markdown",
   "metadata": {},
   "source": [
    "# PE (Principles and Practices) Exam\n",
    "\n",
    "The PE exam tests your ability to practice competently in a particular engineering discipline. It is designed for engineers who have gained at least **four years' post-college** work experience in their chosen engineering discipline.\n",
    "\n",
    "A Texas policy that decouples the PE Exam from the experience requirement allows an EIT to take the PE exam prior to applying for PE licensure or earning the necessary four years of experience. The rules for [decoupling](https://pels.texas.gov/decoupling.html) were put in place on May 2, 2016. The only requirement to be eligible for the decoupling process is to be a Texas EIT. So, if you are a Texas EIT right now, you were eligible as of May 2, 2016. For further information, refer to the Decoupling Webpage.\n",
    "\n",
    "Examinees must have approval to sit for the exam in Texas. Current Texas EITs that have not previously taken a PE Exam will be automatically approved. All approved examinees will have specific limitations on the number of exam attempts remaining and the time period allowed in which to take them. When you register for the PE Exam, the NCEES system will temporarily display your status as \"pending Board approval\" until an automated confirmation is received from Texas. \n",
    "\n",
    "## About the exam\n",
    "\n",
    "The NCEES PE Civil exam is a CBT, closed-book exam in which you will work both a breadth section and one of the five depth modules. The breadth section contains questions from the five areas of civil engineering, while the depth section focuses on a single area of practice. \n",
    "\n",
    "The PE Civil exam consists of five divisions: Construction, Geotechnical, Structural, Transportation, and Water Resources and Environmental. Examinees must choose a division that most closely reflects their experience and/or career goals.\n",
    "\n",
    "The exam is 9 hours long, including a scheduled break, and consists of 80 questions total. The exam contains multiple-choice questions and alternative item types (AITs).\n",
    "\n",
    "Courses similar to FE Review courses are available from a variety of vendors such as:\n",
    "\n",
    "1. [ASCE Discipline Specific Courses (~22 hrs, \\$700)](https://www.asce.org/education-and-events/explore-education/exam-preparation?utm_medium=email&utm_source=rasa_io&utm_campaign=CESource-20251001-newsletter)\n",
    "2. [PPI price varies depending on chosen modality lowest price is \\$600-ish](https://ppi2pass.com/pe-exam/civil)\n",
    "3. [PrepPE](https://www.preppe.com/) under development expect at least \\$700-ish\n"
   ]
  },
  {
   "cell_type": "markdown",
   "metadata": {},
   "source": [
    ":::{note}\n",
    "Add links to worked P&P problems from selected sources\n",
    ":::\n",
    "\n",
    "## Section End"
   ]
  },
  {
   "cell_type": "code",
   "execution_count": null,
   "metadata": {},
   "outputs": [],
   "source": []
  }
 ],
 "metadata": {
  "kernelspec": {
   "display_name": "Python 3 (ipykernel)",
   "language": "python",
   "name": "python3"
  },
  "language_info": {
   "codemirror_mode": {
    "name": "ipython",
    "version": 3
   },
   "file_extension": ".py",
   "mimetype": "text/x-python",
   "name": "python",
   "nbconvert_exporter": "python",
   "pygments_lexer": "ipython3",
   "version": "3.10.12"
  }
 },
 "nbformat": 4,
 "nbformat_minor": 4
}