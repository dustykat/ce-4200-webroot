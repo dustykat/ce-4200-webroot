{
 "cells": [
  {
   "cell_type": "markdown",
   "metadata": {},
   "source": [
    "# Evaluation of Cultural Considerations \n",
    "\n",
    "**This topic is an ABET required topic transferred from CE 4330 to this course**\n",
    "\n"
   ]
  },
  {
   "cell_type": "markdown",
   "metadata": {},
   "source": [
    "## Why Cultural Considerations Matter in Engineering\n",
    "\n",
    "\n",
    ":::{admonition} Discussion \n",
    "\"Can anyone think of a recent engineering project that had a direct impact on public health?\"\n",
    ":::"
   ]
  },
  {
   "cell_type": "markdown",
   "metadata": {},
   "source": [
    "## Key Cultural Considerations Considerations in Design \n",
    "\n"
   ]
  },
  {
   "cell_type": "markdown",
   "metadata": {},
   "source": [
    "## Case Study: sumthin'\n",
    "\n",
    "\n",
    "### Key engineering failures included:\n",
    "\n",
    "\n",
    "\n",
    "### Engineering Design Lessons and Reforms\n",
    "\n",
    "\n",
    "\n",
    "### Conclusion\n",
    "\n"
   ]
  },
  {
   "cell_type": "markdown",
   "metadata": {},
   "source": [
    "## Practical Steps for Students \n",
    "\n",
    "### Learn and Research\n",
    "\n",
    "\n",
    "### Collaborate\n",
    "\n",
    "### Design Thinking\n",
    "\n",
    "### Advocate: \n",
    "\n",
    "\n",
    "## Conclusion \n",
    "\n",
    ":::{admonition} Include documented consideration of cultural considerations in your designs\n",
    "\"As you progress in your engineering careers, always remember: the designs you create can lead to ...\"\n",
    ":::"
   ]
  },
  {
   "cell_type": "markdown",
   "metadata": {},
   "source": [
    "## References\n",
    "\n",
    "1. Placeholder\n",
    "\n",
    "6. OpenAI (2024). Prompt: \"Can you help me prepare a short script (for 40 minute presentation) on \"Evaluation of Public Health Considerations\" in the context of engineering design? The audience is engineering students about 4 years away from license eligibility?\".  ChatGPT-4.0.  URL `https://chatgpt.com/c/66e1f0a5-21cc-800d-8b5a-ee9d9e8d2835`  \n",
    "\n",
    ":::{note}\n",
    "\"The OpenAI URL provided in references helps retrieve specific content shared, but information is not publicly recoverable unless required by legal obligations.\"\n",
    ":::"
   ]
  },
  {
   "cell_type": "markdown",
   "metadata": {},
   "source": []
  }
 ],
 "metadata": {
  "kernelspec": {
   "display_name": "Python 3",
   "language": "python",
   "name": "python3"
  },
  "language_info": {
   "codemirror_mode": {
    "name": "ipython",
    "version": 3
   },
   "file_extension": ".py",
   "mimetype": "text/x-python",
   "name": "python",
   "nbconvert_exporter": "python",
   "pygments_lexer": "ipython3",
   "version": "3.8.10"
  }
 },
 "nbformat": 4,
 "nbformat_minor": 4
}