{
 "cells": [
  {
   "cell_type": "markdown",
   "metadata": {},
   "source": [
    "# Post Project Auditing\n",
    "\n",
    "Identify failure and causes of failure (from a PM sense - not a technical failure, thats a different issue)\n",
    "\n",
    "**Page(s) under development** \n",
    "\n",
    "Use link below to older lecture notes\n"
   ]
  },
  {
   "cell_type": "markdown",
   "metadata": {
    "tags": []
   },
   "source": [
    "## References\n",
    "\n",
    "1. [Lawson (2022), *Project Management - Lessons Learned* Lecture to accompany CE 4200, Whitacre College of Engineering, Texas Tech University](http://54.243.252.9/ce-4200-webroot/ce-4200-notes/lessons/PM/LECTURE18_ProjectManagementLESSONSLEARNED_S2022.pdf)\n"
   ]
  },
  {
   "cell_type": "code",
   "execution_count": null,
   "metadata": {},
   "outputs": [],
   "source": []
  }
 ],
 "metadata": {
  "kernelspec": {
   "display_name": "Python 3 (ipykernel)",
   "language": "python",
   "name": "python3"
  },
  "language_info": {
   "codemirror_mode": {
    "name": "ipython",
    "version": 3
   },
   "file_extension": ".py",
   "mimetype": "text/x-python",
   "name": "python",
   "nbconvert_exporter": "python",
   "pygments_lexer": "ipython3",
   "version": "3.10.12"
  }
 },
 "nbformat": 4,
 "nbformat_minor": 4
}