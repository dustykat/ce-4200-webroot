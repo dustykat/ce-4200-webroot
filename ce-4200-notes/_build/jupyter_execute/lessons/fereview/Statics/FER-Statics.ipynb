{
 "cells": [
  {
   "cell_type": "code",
   "execution_count": null,
   "id": "ba867f89-2ae0-4b10-9405-fa640a3842fa",
   "metadata": {},
   "outputs": [],
   "source": []
  },
  {
   "cell_type": "markdown",
   "id": "5d060a07-8544-4450-8906-cb7da5d79287",
   "metadata": {},
   "source": [
    "# 11. FER - Statics\n",
    "\n",
    ":::{note}\n",
    "Usually an actual subject expert would give the review but no-one could be forced at the time of this writing.  So this is a YOYO topic.\n",
    ":::"
   ]
  },
  {
   "cell_type": "markdown",
   "id": "78bf35d7-282f-4e68-ba9b-fb4b98a40276",
   "metadata": {},
   "source": [
    "## Readings\n",
    "\n",
    "\n",
    "1. [Example Statics Training Quiz.pdf](http://54.243.252.9/ce-4200-webroot/ce-4200-notes/lessons/fereview/Statics/StaticsTrainingQuiz.pdf)\n",
    "\n",
    "## Videos\n",
    "\n",
    "1. [FE Exam Review: Statics, Dynamics, Mechanics of Deformable Bodies YouTube Video by Gregory Michaelson - Marshall University](https://www.youtube.com/watch?v=SuH8F-X5enE)\n",
    "\n",
    "## Outline"
   ]
  },
  {
   "cell_type": "code",
   "execution_count": null,
   "id": "f2617157-48d7-45f4-97b2-307d01425ff7",
   "metadata": {},
   "outputs": [],
   "source": []
  }
 ],
 "metadata": {
  "kernelspec": {
   "display_name": "Python Common Environment",
   "language": "python",
   "name": "python-my-env"
  },
  "language_info": {
   "codemirror_mode": {
    "name": "ipython",
    "version": 3
   },
   "file_extension": ".py",
   "mimetype": "text/x-python",
   "name": "python",
   "nbconvert_exporter": "python",
   "pygments_lexer": "ipython3",
   "version": "3.10.12"
  }
 },
 "nbformat": 4,
 "nbformat_minor": 5
}