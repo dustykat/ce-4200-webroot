{
 "cells": [
  {
   "cell_type": "markdown",
   "metadata": {},
   "source": [
    "# 8.1 FE Review - Mathematics"
   ]
  },
  {
   "cell_type": "markdown",
   "metadata": {},
   "source": [
    "## Readings\n",
    "\n",
    "\n",
    "1. [FE Exam Review: Environmental (UC Boulder circa 2014)](https://www.colorado.edu/ceae/sites/default/files/attached-files/EVEN-FE-review-Spring-2014.pdf)\n",
    "2. [FE Civil Practice Mathematics (PPI Excerpt - Circa 2010)](http://54.243.252.9/ce-4200-webroot/ce-4200-notes/lessons/fereview/Mathematics/2CivilPracticeMathematics.pdf)\n",
    "3. [NCEES Practice Problems (No Solutions - Circa 2017)](http://54.243.252.9/ce-4200-webroot/ce-4200-notes/lessons/fereview/Mathematics/NCEES_FE_Civil_Practice_Exam_MATHEMATICS.pdf)\n",
    "4. [Mock FE Exam Worked Examples (circa 2017)](http://54.243.252.9/ce-4200-webroot/ce-4200-notes/lessons/fereview/Mathematics/MFE_EXAM+SOLNS_Mathematics.pdf)\n",
    "## Videos\n",
    "1. [FE Exam Review: Exam Logistics & Mathematics (2019.08.28)](https://www.youtube.com/watch?v=5Jh1tReptjE&list=PLCV9OyAY5K-UcIC4udMF2OA3FyG1uyo_U)\n",
    "2. [FE Exam Review: Mathematics *cont'd* (2019.09.04)](https://www.youtube.com/watch?v=csW8XBkrsbM&list=PLCV9OyAY5K-UcIC4udMF2OA3FyG1uyo_U&index=2)\n",
    "1. [FE Environmental Exam Prep: MATHEMATICS - Part 1](https://www.youtube.com/watch?v=m6Qp9HbwoUs)\n",
    "2. [FE Environmental Exam Prep: MATHEMATICS - Part 2](https://www.youtube.com/watch?v=EB1XPqiwCf8&t=26s)\n",
    "3. [FE Environmental Exam Prep: MATHEMATICS - Part 3](https://www.youtube.com/watch?v=NmHSk7Y97pg)\n",
    "4. [FE Environmental Exam Prep: MATHEMATICS - Part 4](https://www.youtube.com/watch?v=ASDukN_gBCI)\n",
    "\n",
    "---"
   ]
  },
  {
   "cell_type": "markdown",
   "metadata": {},
   "source": [
    "## Example 3\n",
    "\n",
    "Select all the root(s) in $f(x)=x^2−4x−3$.\n",
    "\n",
    "- A. $4+\\sqrt{3}$\n",
    "- B. $2+\\sqrt{7}$\n",
    "- C. $2−\\sqrt{7}$\n",
    "- D. $4−\\sqrt{3}$\n",
    "\n",
    "---\n",
    "\n",
    "## Work it out\n",
    "\n",
    "To find the roots of an equation, first set $f(x)$ to 0.\n",
    "\n",
    "$x^2−4x−3=0$\n",
    "\n",
    "For simple equations, you can factor them by hand, but this equation does not factor easily. 3 can be factored into 1 and 3. However, one must be negative and one positive for their multiple to be -3. There is no way to sum those to get -4. Instead simply use the quadratic formula (a.k.a. the quadratic equation) if the equation can't be factored easily or if you are unsure. A quadratic equation is of the form:\n",
    "\n",
    "$ax^2+bx+c=0$\n",
    "\n",
    "So we have $a=1$, $b=−4$, and $c=−3$. The quadratic formula is: \n",
    "\n",
    "$x= \\frac{-b \\pm \\sqrt{b^2-4ac}}{2a}$\n",
    "\n",
    "Substitute and solve as\n",
    "\n",
    "$x= \\frac{-(-4) \\pm \\sqrt{(-4)^2-4(1)(-3)}}{2(1)} = 2 \\pm \\sqrt{7}$\n",
    "\n",
    "Choose **B** and **C**\n",
    "\n",
    "---"
   ]
  },
  {
   "cell_type": "markdown",
   "metadata": {},
   "source": [
    "## Section End\n",
    "\n",
    "[Mathematics and Probability Quiz Preview](http://54.243.252.9/ce-4200-webroot/ce-4200-notes/lessons/fereview/Mathematics/MathAndStatsPreview.pdf)"
   ]
  },
  {
   "cell_type": "code",
   "execution_count": null,
   "metadata": {},
   "outputs": [],
   "source": []
  }
 ],
 "metadata": {
  "kernelspec": {
   "display_name": "Python 3 (ipykernel)",
   "language": "python",
   "name": "python3"
  },
  "language_info": {
   "codemirror_mode": {
    "name": "ipython",
    "version": 3
   },
   "file_extension": ".py",
   "mimetype": "text/x-python",
   "name": "python",
   "nbconvert_exporter": "python",
   "pygments_lexer": "ipython3",
   "version": "3.10.12"
  }
 },
 "nbformat": 4,
 "nbformat_minor": 4
}