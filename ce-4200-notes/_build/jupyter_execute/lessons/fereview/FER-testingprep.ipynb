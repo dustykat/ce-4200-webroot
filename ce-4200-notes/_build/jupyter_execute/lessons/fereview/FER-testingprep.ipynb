{
 "cells": [
  {
   "cell_type": "markdown",
   "metadata": {},
   "source": [
    "# FE Review - Testing Preparation\n",
    "\n",
    "1. Set aside time to study each week. A few hours will do. Reviewing information from the review book and practicing problems regularly is important. You need to be able to solve the problems fast, so practice is the only way to develop the requisite speed.\n",
    "2. Review your class notes before your self-study review sessions. Even just reading your notes will help.\n",
    "3. After each self-study session, review the information the next day. This review will reinforce the concepts.\n",
    "4. Work as many problems as possible. use problems from study guides and your old textbooks.\n",
    "6. If possible, form a study group and meet weekly with your group. A group will be able to solve all problems because it is likely that someone in the group will understand how to solve specific problems. It will not always be the same person, so be sure your group has three or four people. Five is probably the largest size that will be effective.  Go easy on beverages - its a study group with a drinking problem, not a drinking group with a study problem.\n",
    "7. Become familiar with the allowed reference materials so you don’t waste time on the exam looking for information."
   ]
  },
  {
   "cell_type": "code",
   "execution_count": null,
   "metadata": {},
   "outputs": [],
   "source": []
  }
 ],
 "metadata": {
  "kernelspec": {
   "display_name": "Python 3",
   "language": "python",
   "name": "python3"
  },
  "language_info": {
   "codemirror_mode": {
    "name": "ipython",
    "version": 3
   },
   "file_extension": ".py",
   "mimetype": "text/x-python",
   "name": "python",
   "nbconvert_exporter": "python",
   "pygments_lexer": "ipython3",
   "version": "3.10.12"
  }
 },
 "nbformat": 4,
 "nbformat_minor": 4
}