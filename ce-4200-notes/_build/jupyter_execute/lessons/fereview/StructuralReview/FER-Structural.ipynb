{
 "cells": [
  {
   "cell_type": "markdown",
   "metadata": {},
   "source": [
    "# 19 FER - Structural\n",
    "\n",
    ":::{admonition}  Contributors\n",
    "The slide deck embedded in the Jupyter notes was contributed by Dr. Sunghyun Park (sunghyun.park@ttu.edu)\n",
    ":::\n",
    "\n",
    ":::{warning}\n",
    "Fall 2025 no Structural SME to participate\n",
    ":::\n"
   ]
  },
  {
   "cell_type": "markdown",
   "metadata": {},
   "source": [
    "## Readings\n",
    "\n",
    "## Videos\n",
    "\n",
    "\n",
    "## Structural Engineering Topics on FE\n",
    "\n",
    "Approximately 10 questions covering:\n",
    "- Analysis of statically determinant beams, columns\n",
    "- trusses, and frames\n",
    "- Deflection of statically determinant beams, trusses, frames\n",
    "- Column analysis: buckling, boundary conditions\n",
    "- Structural determinacy\n",
    "- Stability analysis of beams, trusses, and frames\n",
    "- Elementary statically indeterminate structures\n",
    "- Loads, load combinations\n",
    "- Load paths: dead, live, lateral, influence lines\n",
    "- Load paths: moving loads, tributary areas\n",
    "- Design of steel components beams, columns, tension members, connections\n",
    "- Design of reinforced concrete components \n",
    "- Codes and design philosophies, beams, columns"
   ]
  },
  {
   "cell_type": "markdown",
   "metadata": {},
   "source": [
    "## Example 1\n",
    "\n",
    "![](example1.png)\n",
    "\n",
    "If sum is zero, system is stable and determinate.\n",
    "\n",
    "B"
   ]
  },
  {
   "cell_type": "markdown",
   "metadata": {},
   "source": [
    "## Example 2\n",
    "\n",
    "![](example2.png)\n",
    "\n",
    "3"
   ]
  },
  {
   "cell_type": "markdown",
   "metadata": {},
   "source": [
    "## Example 3\n",
    "\n",
    "![](example3.png)\n",
    "\n",
    "9"
   ]
  },
  {
   "cell_type": "markdown",
   "metadata": {},
   "source": [
    "## Example 4\n",
    "\n",
    "![](example4.png)\n",
    "\n",
    "0"
   ]
  },
  {
   "cell_type": "markdown",
   "metadata": {},
   "source": [
    "## Example 5\n",
    "\n",
    "![](example5.png)\n",
    "\n",
    "-1"
   ]
  },
  {
   "cell_type": "markdown",
   "metadata": {},
   "source": [
    "## Example 6\n",
    "\n",
    "![](example6.png)\n",
    "\n",
    "3"
   ]
  },
  {
   "cell_type": "markdown",
   "metadata": {},
   "source": [
    "## Example 7\n",
    "\n",
    "![](example7.png)\n",
    "\n"
   ]
  },
  {
   "cell_type": "markdown",
   "metadata": {},
   "source": [
    "## Example 8\n",
    "\n",
    "![](example8-1.png)\n",
    "\n",
    "![](example8-2.png)"
   ]
  },
  {
   "cell_type": "markdown",
   "metadata": {},
   "source": [
    "## Example 9\n",
    "\n",
    "![](example9.png)\n",
    "\n",
    "0.215 inches"
   ]
  },
  {
   "cell_type": "markdown",
   "metadata": {},
   "source": [
    "## Example 10\n",
    "\n",
    "![](example10.png)\n",
    "\n",
    "B"
   ]
  },
  {
   "cell_type": "markdown",
   "metadata": {},
   "source": [
    "## Example 11\n",
    "\n",
    "![](example11.png)\n",
    "\n",
    "B"
   ]
  },
  {
   "cell_type": "markdown",
   "metadata": {},
   "source": [
    "## Example 12\n",
    "\n",
    "![](example12.png)"
   ]
  },
  {
   "cell_type": "markdown",
   "metadata": {},
   "source": [
    "## Example 13\n",
    "\n",
    "![](example13.png)"
   ]
  },
  {
   "cell_type": "markdown",
   "metadata": {},
   "source": [
    "## Example 14\n",
    "\n",
    "![](example14.png)\n",
    "\n",
    "D"
   ]
  },
  {
   "cell_type": "markdown",
   "metadata": {},
   "source": [
    "## Section End\n",
    "\n",
    "[Structural Quiz Preview](http://54.243.252.9/ce-4200-webroot/ce-4200-notes/lessons/fereview/StructuralReview/StructuralPreview.pdf)"
   ]
  },
  {
   "cell_type": "code",
   "execution_count": null,
   "metadata": {},
   "outputs": [],
   "source": []
  }
 ],
 "metadata": {
  "kernelspec": {
   "display_name": "Python 3 (ipykernel)",
   "language": "python",
   "name": "python3"
  },
  "language_info": {
   "codemirror_mode": {
    "name": "ipython",
    "version": 3
   },
   "file_extension": ".py",
   "mimetype": "text/x-python",
   "name": "python",
   "nbconvert_exporter": "python",
   "pygments_lexer": "ipython3",
   "version": "3.10.12"
  }
 },
 "nbformat": 4,
 "nbformat_minor": 4
}