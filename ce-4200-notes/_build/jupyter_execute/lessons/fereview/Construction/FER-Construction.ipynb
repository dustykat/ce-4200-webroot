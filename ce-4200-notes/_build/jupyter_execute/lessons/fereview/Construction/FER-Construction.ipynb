{
 "cells": [
  {
   "cell_type": "markdown",
   "id": "4ba9c8ae-9c1a-4152-8ded-b878628bc874",
   "metadata": {},
   "source": [
    "# 22. FER - Construction Engineering\n",
    "\n",
    ":::{note}\n",
    "Usually an actual subject expert would give the review but no-one could be forced at the time of this writing.  So this is a YOYO topic.\n",
    ":::"
   ]
  },
  {
   "cell_type": "markdown",
   "id": "6de47fa3-70c4-46f0-a287-080a7dbd0867",
   "metadata": {},
   "source": [
    "## Readings\n",
    "\n",
    "1. [FER-MechMatls-1.pdf](http://54.243.252.9/ce-4200-webroot/ce-4200-notes/lessons/fereview/MechanicsMaterials/FER-MechMatls-1.pdf)\n",
    "2. [FER-MechMatls-2.pdf](http://54.243.252.9/ce-4200-webroot/ce-4200-notes/lessons/fereview/MechanicsMaterials/FER-MechMatls-2.pdf)\n",
    "3. [Mechanics-annotated.pdf](http://54.243.252.9/ce-4200-webroot/ce-4200-notes/lessons/fereview/MechanicsMaterials/Mechanics-annotated.pdf)\n",
    "4. [Mohr'sCircle.pdf](http://54.243.252.9/ce-4200-webroot/ce-4200-notes/lessons/fereview/MechanicsMaterials/Mohr'sCircle.pdf)\n",
    "\n",
    "## Videos\n",
    "\n",
    "1. [Mechanics of Materials YouTube Video by Mark Mattson, PE - SUNY Polytechnical (Utica NY Campus)](https://www.youtube.com/watch?v=FF7-VOutTwM&list=PLWbyCDWU1A_iBDKyOeIcPDwH0IOnEwG3h&index=5)\n",
    "2. [FE Exam Review: Statics, Dynamics, Mechanics of Deformable Bodies YouTube Video by Gregory Michaelson - Marshall University (Go to 1:00:05 time stamp to view the Mechanics of Materials portion)](https://www.youtube.com/watch?v=SuH8F-X5enE)\n",
    "\n",
    "## Outline"
   ]
  }
 ],
 "metadata": {
  "kernelspec": {
   "display_name": "Python Common Environment",
   "language": "python",
   "name": "python-my-env"
  },
  "language_info": {
   "codemirror_mode": {
    "name": "ipython",
    "version": 3
   },
   "file_extension": ".py",
   "mimetype": "text/x-python",
   "name": "python",
   "nbconvert_exporter": "python",
   "pygments_lexer": "ipython3",
   "version": "3.10.12"
  }
 },
 "nbformat": 4,
 "nbformat_minor": 5
}