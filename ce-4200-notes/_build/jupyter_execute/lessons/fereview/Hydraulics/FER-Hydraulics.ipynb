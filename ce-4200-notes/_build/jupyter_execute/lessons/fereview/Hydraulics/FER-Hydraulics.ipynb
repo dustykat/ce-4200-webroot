{
 "cells": [
  {
   "cell_type": "markdown",
   "id": "41b7f7d3-70fb-4413-8c81-81e01385ac10",
   "metadata": {},
   "source": [
    "# 17. FER - Hydraulics (Pipes and Pumps)\n",
    "\n",
    ":::{note}\n",
    "Usually an actual subject expert would give the review but no-one could be forced at the time of this writing.  So this is a YOYO topic.\n",
    ":::"
   ]
  },
  {
   "cell_type": "markdown",
   "id": "2e2b15a5-a7a3-4118-b447-f494a4d4574c",
   "metadata": {},
   "source": [
    "## Readings\n",
    "\n",
    "1. [FER-HydraulicsReviewPPIExcerpt.pdf](http://54.243.252.9/ce-4200-webroot/ce-4200-notes/lessons/fereview/Hydraulics/FER-HydraulicsReviewExcerpt.pdf)\n",
    "2. [FER-HydraulicsReviewPPISupplement.pdf](http://54.243.252.9/ce-4200-webroot/ce-4200-notes/lessons/fereview/Hydraulics/FER-HydraulicsSupplimentExcerpt.pdf)\n",
    "3. **[FE-HydraulicsExamples.pdf](http://54.243.252.9/ce-4200-webroot/ce-4200-notes/lessons/fereview/Hydraulics/hydraulics1.pdf) Participants should print and bring as a Workbook**\n",
    "4. [Mohr'sCircle.pdf](http://54.243.252.9/ce-4200-webroot/ce-4200-notes/lessons/fereview/MechanicsMaterials/Mohr'sCircle.pdf)\n",
    "\n",
    "## Videos\n",
    "\n",
    "1. [FE Water Resources Engineering Review Session 2022; YouTube Video by Mark Mattson, PE - SUNY Polytechnical (Utica NY Campus)](https://www.youtube.com/watch?v=-M2hNo1RC98&list=PLWbyCDWU1A_iBDKyOeIcPDwH0IOnEwG3h)\n",
    "2. [FE Review - Water/Wastewater & Hydraulics](https://www.youtube.com/watch?v=NALgo-8ZdlY)\n",
    "3. [FE Review - Water Resources (Basic Hydraulics) - Head Loss in Circular Conduits](https://www.youtube.com/watch?v=jUUGb2633e8)\n",
    "4. [FE Review - Water Resources - Manning's Equation](https://www.youtube.com/watch?v=6WQ6Dhv6vU4)\n",
    "5. [FE Exam Review - Hydrology and Hydraulics](https://www.youtube.com/watch?v=tJWV_Uxv-jM)\n",
    "6. [Hydraulics FE Review Spring 2021 (Purdue University Chi Epsilon)](https://www.youtube.com/watch?v=loYuo_bA8mw)\n",
    "7. [FE Exam Prep - Video Review - PPI - Hydraulics and Hydrologic Systems](https://www.youtube.com/watch?v=XVJPcraS2WY)\n",
    "8. [FE Environmental Exam Prep: HYDRAULICS - Part 2](https://www.youtube.com/watch?v=6ePV1oNsdzY)\n",
    "9. [FE Review - Water Resources - Pumps](https://www.youtube.com/watch?v=fOcKMfuJ8I4)\n",
    "\n",
    "## Outline"
   ]
  },
  {
   "cell_type": "markdown",
   "id": "01c9c536-5a89-4ac0-9678-a9558bdaf98f",
   "metadata": {},
   "source": [
    "## Head Loss Models\n",
    "\n",
    "### 1. Louis XVI (also the Marie Antionette model) Eqn.\n",
    "\n",
    "![](louis16-headloss.png)\n",
    "\n",
    "**A Historical perspective**"
   ]
  },
  {
   "cell_type": "markdown",
   "id": "e28f9639-b0c3-4bd9-9881-9447607e0dec",
   "metadata": {},
   "source": [
    "### 2.  Darcy-Weisbach Eqn.\n",
    "\n",
    "![](darcy_wiseass.png)\n",
    "\n",
    "**FE Handbook 10 Edition pg. 183**"
   ]
  },
  {
   "cell_type": "markdown",
   "id": "6531d8df-f671-4028-8783-bd423e2ef52f",
   "metadata": {},
   "source": [
    "### 3. Manning's and Hazen-Williams Eqns.\n",
    "\n",
    "![](mannings.png)\n",
    "\n",
    "**FE Handbook 10 Edition pg. 191**\n",
    "\n",
    "### Hazen-Williams (Pipes)\n",
    "\n",
    "![](headlossPressure.png)\n",
    "\n",
    "**FE Handbook 10 Edition pg. 297**"
   ]
  },
  {
   "cell_type": "markdown",
   "id": "3f2790ee-f048-4de1-bdfa-845cd4a1460d",
   "metadata": {},
   "source": [
    "## Useful Charts\n",
    "\n",
    "### Moody-Stanton Chart\n",
    "\n",
    "![](moody-blues.png)\n",
    "\n",
    "**FE Handbook 10 Edition pg. 201**\n",
    "\n",
    "### Hydraulic Elements Chart (Circular Conduit)\n",
    "\n",
    "![](hydraulic-elements.png)\n",
    "\n",
    "**FE Handbook 10 Edition pg. 294**"
   ]
  },
  {
   "cell_type": "markdown",
   "id": "5300651a-8c58-44bb-8354-9c1fb76ae941",
   "metadata": {},
   "source": [
    "[Hydraulics Annotated 2025-1028](http://54.243.252.9/ce-4200-webroot/ce-4200-notes/lessons/fereview/Hydraulics/hydraulics1-annotated.pdf)"
   ]
  },
  {
   "cell_type": "raw",
   "id": "079a057d-d1ef-4e86-8832-223ef136769e",
   "metadata": {},
   "source": [
    "! pdflatex hydraulics1.tex"
   ]
  },
  {
   "cell_type": "code",
   "execution_count": null,
   "id": "7869e2e6-d75e-4edb-a867-dee9779f9a60",
   "metadata": {},
   "outputs": [],
   "source": []
  }
 ],
 "metadata": {
  "kernelspec": {
   "display_name": "Python Common Environment",
   "language": "python",
   "name": "python-my-env"
  },
  "language_info": {
   "codemirror_mode": {
    "name": "ipython",
    "version": 3
   },
   "file_extension": ".py",
   "mimetype": "text/x-python",
   "name": "python",
   "nbconvert_exporter": "python",
   "pygments_lexer": "ipython3",
   "version": "3.10.12"
  }
 },
 "nbformat": 4,
 "nbformat_minor": 5
}