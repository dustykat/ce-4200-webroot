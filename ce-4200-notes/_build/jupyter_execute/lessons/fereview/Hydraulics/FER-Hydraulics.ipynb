{
 "cells": [
  {
   "cell_type": "markdown",
   "id": "41b7f7d3-70fb-4413-8c81-81e01385ac10",
   "metadata": {},
   "source": [
    "# 17. FER - Hydraulics (Pipes and Pumps)\n",
    "\n",
    ":::{note}\n",
    "Usually an actual subject expert would give the review but no-one could be forced at the time of this writing.  So this is a YOYO topic.\n",
    ":::"
   ]
  },
  {
   "cell_type": "markdown",
   "id": "2e2b15a5-a7a3-4118-b447-f494a4d4574c",
   "metadata": {},
   "source": [
    "## Readings\n",
    "\n",
    "1. [FER-MechMatls-1.pdf](http://54.243.252.9/ce-4200-webroot/ce-4200-notes/lessons/fereview/MechanicsMaterials/FER-MechMatls-1.pdf)\n",
    "2. [FER-MechMatls-2.pdf](http://54.243.252.9/ce-4200-webroot/ce-4200-notes/lessons/fereview/MechanicsMaterials/FER-MechMatls-2.pdf)\n",
    "3. [Mechanics-annotated.pdf](http://54.243.252.9/ce-4200-webroot/ce-4200-notes/lessons/fereview/MechanicsMaterials/Mechanics-annotated.pdf)\n",
    "4. [Mohr'sCircle.pdf](http://54.243.252.9/ce-4200-webroot/ce-4200-notes/lessons/fereview/MechanicsMaterials/Mohr'sCircle.pdf)\n",
    "\n",
    "## Videos\n",
    "\n",
    "1. [Mechanics of Materials YouTube Video by Mark Mattson, PE - SUNY Polytechnical (Utica NY Campus)](https://www.youtube.com/watch?v=FF7-VOutTwM&list=PLWbyCDWU1A_iBDKyOeIcPDwH0IOnEwG3h&index=5)\n",
    "2. [FE Exam Review: Statics, Dynamics, Mechanics of Deformable Bodies YouTube Video by Gregory Michaelson - Marshall University (Go to 1:00:05 time stamp to view the Mechanics of Materials portion)](https://www.youtube.com/watch?v=SuH8F-X5enE)\n",
    "\n",
    "## Outline"
   ]
  }
 ],
 "metadata": {
  "kernelspec": {
   "display_name": "Python Common Environment",
   "language": "python",
   "name": "python-my-env"
  },
  "language_info": {
   "codemirror_mode": {
    "name": "ipython",
    "version": 3
   },
   "file_extension": ".py",
   "mimetype": "text/x-python",
   "name": "python",
   "nbconvert_exporter": "python",
   "pygments_lexer": "ipython3",
   "version": "3.10.12"
  }
 },
 "nbformat": 4,
 "nbformat_minor": 5
}