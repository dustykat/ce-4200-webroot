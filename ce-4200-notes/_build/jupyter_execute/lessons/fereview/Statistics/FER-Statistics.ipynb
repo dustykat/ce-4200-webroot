{
 "cells": [
  {
   "cell_type": "markdown",
   "metadata": {},
   "source": [
    "# 9. Engineering Probability and Statistics"
   ]
  },
  {
   "cell_type": "markdown",
   "metadata": {},
   "source": [
    "## Readings\n",
    "\n",
    "\n",
    "1. [placeholder](dummy)\n",
    "\n",
    "## Videos\n",
    "1. [FE Exam Review: Probability & Statistics (2019.11.13)](https://www.youtube.com/watch?v=MuYMbkwyDkM&list=PLCV9OyAY5K-UcIC4udMF2OA3FyG1uyo_U&index=11)\n",
    "\n",
    "---"
   ]
  },
  {
   "cell_type": "markdown",
   "metadata": {},
   "source": [
    "## Section End\n",
    "\n",
    "[Statistics Quiz Preview](dummy) NO QUIZ PROGRAMMED"
   ]
  },
  {
   "cell_type": "code",
   "execution_count": null,
   "metadata": {},
   "outputs": [],
   "source": []
  }
 ],
 "metadata": {
  "kernelspec": {
   "display_name": "Python 3 (ipykernel)",
   "language": "python",
   "name": "python3"
  },
  "language_info": {
   "codemirror_mode": {
    "name": "ipython",
    "version": 3
   },
   "file_extension": ".py",
   "mimetype": "text/x-python",
   "name": "python",
   "nbconvert_exporter": "python",
   "pygments_lexer": "ipython3",
   "version": "3.10.12"
  }
 },
 "nbformat": 4,
 "nbformat_minor": 4
}