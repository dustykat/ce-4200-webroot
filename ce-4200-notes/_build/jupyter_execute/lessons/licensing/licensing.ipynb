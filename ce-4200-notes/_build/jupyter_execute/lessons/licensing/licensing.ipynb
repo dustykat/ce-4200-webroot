{
 "cells": [
  {
   "cell_type": "markdown",
   "metadata": {},
   "source": [
    "# Engineering Licensing\n",
    "\n",
    "**Under development** \n",
    "\n",
    "## Practice of Engineering\n",
    "\n",
    "The practice of engineering means the performance of or an offer or attempt to perform any public or private service or creative work, the adequate performance of which requires **engineering education**, training, and **experience** in applying special knowledge or *judgment* of the mathematical, physical, or engineering sciences to that service or creative work.\n",
    "\n",
    "The practice of engineering includes:\n",
    "\n",
    "1. consultation, investigation, evaluation, analysis, planning, engineering for program management, providing an expert engineering opinion or testimony, engineering for testing or evaluating materials for construction or other engineering use, and mapping;\n",
    "2. design, conceptual design, or conceptual design coordination of engineering works or systems;\n",
    "3. development or optimization of plans and specifications for engineering works or systems;\n",
    "4. planning the use or alteration of land or water or the design or analysis of works or systems for the use or alteration of land or water;\n",
    "5. responsible charge of engineering teaching or the teaching of engineering;\n",
    "6. performing an engineering survey or study;\n",
    "7. engineering for construction, alteration, or repair of real property;\n",
    "8. engineering for preparation of an operating or maintenance manual;\n",
    "9. engineering for review of the construction or installation of engineered works to monitor compliance with drawings or specifications;\n",
    "10. a service, design, analysis, or other work performed for a public or private entity in connection with a utility, structure, building, machine, equipment, process,system, work, project, or industrial or consumer product or equipment of a mechanical, electrical, electronic, chemical, hydraulic, pneumatic, geotechnical, or thermal nature; or\n",
    "11. providing an engineering opinion or analysis related to a certificate of merit under Chapter 150, Civil Practice and Remedies Code; or\n",
    "12. any other professional service necessary for the planning, progress, or completion of an engineering service\n",
    "\n",
    "\n",
    "## Texas Engineering Practice Act\n",
    "\n",
    "The TEPA is the legislative construct that oversees engineering and establishes what it is, is not, who can participate, and issues licenses through the Texas Board of Professional Engineers.\n",
    "\n",
    "[Texas Engineering Practice Act (go to pg 2)](https://engineers.texas.gov/downloads/enf_pub.pdf)\n",
    "\n",
    "\n",
    "## Education\n",
    "\n",
    "Graduate of ABET accredited program:\n",
    "\n",
    "![](graduateengineer.png)\n",
    "\n",
    "[Texas Engineering Practice Act (go to pg 10)](https://engineers.texas.gov/downloads/enf_pub.pdf)\n",
    "\n",
    "\n",
    "\n",
    "## FE/EIT \n",
    "\n",
    "![](EIT.png)\n",
    "\n",
    "[Texas Engineering Practice Act (go to pg 15)](https://engineers.texas.gov/downloads/enf_pub.pdf)\n",
    "\n",
    "\n",
    "\n",
    "## PE Exam\n",
    "\n",
    "[Basic Requirements](https://pels.texas.gov/lic_basic.htm)\n",
    "\n",
    "No specific reference in TEPA, but by reference to Board. [TBPE](https://pels.texas.gov/)\n",
    "\n",
    "## SER\n",
    "\n",
    "Supplimentary experience record, a requited part of the application.\n",
    "\n",
    "[Example SER](https://pels.texas.gov/downloads/serinfo.pdf)\n",
    "\n"
   ]
  },
  {
   "cell_type": "markdown",
   "metadata": {},
   "source": [
    "## References\n",
    "\n",
    "1. [Lawson (2022), *Getting Licensed* Handout to accompany CE 4200, Whitacre College of Engineering, Texas Tech University](http://54.243.252.9/ce-4200-webroot/ce-4200-notes/lessons/licensing/LECTURE5A_GettingLicensed_CE4200_S2022-handout.pdf)\n",
    "\n",
    "2. [Lawson (2022), *Engineering License Application* Handout to accompany CE 4200, Whitacre College of Engineering, Texas Tech University](http://54.243.252.9/ce-4200-webroot/ce-4200-notes/lessons/licensing/LECTURE5B_EngineeringLicensureApplication_CE4200_S2022-handout.pdf)\n",
    "\n",
    "3. [Lawson (2022), *FE Exam* Handout to accompany CE 4200, Whitacre College of Engineering, Texas Tech University](http://54.243.252.9/ce-4200-webroot/ce-4200-webroot/ce-4200-notes/lessons/licensing/LECTURE6_CE4200FEEXAM_S2022-handout.pdf)\n",
    "\n",
    "3. [Environmental Engineering BOK](https://www.aaees.org/assets/docs/publications/EEBodyofKnowledge.pdf)\n",
    "\n",
    "4. [ASCE BOK-2](https://ascelibrary.org/doi/book/10.1061/9780784409657) You will need this for the homework; although BOK-3 may be sufficient.\n",
    "\n",
    "5. [Texas Engineering Practice Act](https://engineers.texas.gov/downloads/enf_pub.pdf)"
   ]
  },
  {
   "cell_type": "code",
   "execution_count": null,
   "metadata": {},
   "outputs": [],
   "source": []
  }
 ],
 "metadata": {
  "kernelspec": {
   "display_name": "Python 3",
   "language": "python",
   "name": "python3"
  },
  "language_info": {
   "codemirror_mode": {
    "name": "ipython",
    "version": 3
   },
   "file_extension": ".py",
   "mimetype": "text/x-python",
   "name": "python",
   "nbconvert_exporter": "python",
   "pygments_lexer": "ipython3",
   "version": "3.8.10"
  }
 },
 "nbformat": 4,
 "nbformat_minor": 4
}