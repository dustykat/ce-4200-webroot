{
 "cells": [
  {
   "cell_type": "markdown",
   "metadata": {},
   "source": [
    "# 1. Introduction\n"
   ]
  },
  {
   "cell_type": "markdown",
   "metadata": {},
   "source": [
    "## Syllabus/Schedule\n",
    "\n",
    "[Syllabus@http://54.243.252.9/ce-4200-webroot/0-Syllabus/syllabus.ce4200-2025-1.pdf](http://54.243.252.9/ce-4200-webroot/0-Syllabus/syllabus.ce4200-2025-1.pdf)"
   ]
  },
  {
   "cell_type": "markdown",
   "metadata": {},
   "source": [
    "## Textbooks\n",
    "\n",
    "1. [CEBOK (Free)](https://ascelibrary.org/doi/book/10.1061/9780784415221)\n",
    "2. [NCEES Supplied Reference (Free)](https://help.ncees.org/article/87-ncees-exam-reference-handbooks)\n",
    "3. [PPI FE Civil Review (~\\$29.99)](https://a2ztextbook.com/products/ppi-fe-civil-practice-comprehensive-practice-for-the-ncees-fe-civil-exam-first-edition?variant=41620050903226&currency=USD&utm_medium=product_sync&utm_source=google&utm_content=sag_organic&utm_campaign=sag_organic) Full price is \\$160-ish, don't pay full price, you should be able to find one at the reduced price\n",
    "4. [PPI Online Training Exams (~\\$38)](https://app.ppehq.com/learn/FE-Civil-Exam-2022) You need to complete an entire exam package by the last day of class. Submit a screen capture of the completion diagnostic score to recieve credit for this portion of the class."
   ]
  },
  {
   "cell_type": "markdown",
   "metadata": {},
   "source": [
    ":::{admonition} Course Website \n",
    "http://54.243.252.9/ce-4200-webroot/ \n",
    ":::\n",
    "\n",
    "## Readings/References\n",
    "\n",
    "1. [Introduction Lecture *Lawson 2022*](http://54.243.252.9/ce-4200-webroot/ce-4200-notes/LECTURE-SOURCE/01-LECTURE_1_CE4200IntroLecture-S2022.pdf)\n",
    "\n",
    "1. [Bloom, B. S., Engelhart, M. D., Furst, E. J., Hill, W. H., & Krathwohl, D. R. (1956) *Taxonomy of Educational Objectives: The Classification of Educational Goals. Handbook I: Cognitive Domain.*](https://eclass.uoa.gr/modules/document/file.php/PPP242/Benjamin%20S.%20Bloom%20-%20Taxonomy%20of%20Educational%20Objectives%2C%20Handbook%201_%20Cognitive%20Domain-Addison%20Wesley%20Publishing%20Company%20%281956%29.pdf); The seminal work that introduced the taxonomy.\n",
    "\n",
    "2. [Anderson, L. W., & Krathwohl, D. R. (Eds.) (2001) *A Taxonomy for Learning, Teaching, and Assessing: A Revision of Bloom's Taxonomy of Educational Objectives.*](https://quincycollege.edu/wp-content/uploads/Anderson-and-Krathwohl_Revised-Blooms-Taxonomy.pdf); Updated version reflecting new insights and terminology.\n",
    "\n",
    "3. [Krathwohl, D. R. (2002) *A Revision of Bloom's Taxonomy: An Overview.* Theory into Practice*, 41(4), 212–218.](https://cmapspublic2.ihmc.us/rid%3D1Q2PTM7HL-26LTFBX-9YN8/Krathwohl%202002.pdf); Provides a concise explanation of the revised taxonomy.\n",
    "\n",
    "4. [Biggs, J., & Tang, C. (2011) *Teaching for Quality Learning at University: What the Student Does.*](https://cetl.ppu.edu/sites/default/files/publications/-John_Biggs_and_Catherine_Tang-_Teaching_for_Quali-BookFiorg-.pdf)\n",
    "   - Discusses practical applications of Bloom's Taxonomy in higher education.\n",
    "\n",
    "5. [Marzano, R. J., & Kendall, J. S. (2007) *The New Taxonomy of Educational Objectives.*](https://www.gbl.uzh.ch/quartz/references/Marzano-and-Kendall-(2007)); Proposes an alternative to Bloom's model.\n",
    "\n",
    "6. [Lawson (2022), *Critical Thinking - A Case Study* Lecture to accompany CE 4200, Whitacre College of Engineering, Texas Tech University](http://54.243.252.9/ce-4200-webroot/ce-4200-notes/lessons/criticalthinking/LECTURE23_CriticalThinkingCASESTUDY-gkmine-S2022.pdf)\n",
    "\n",
    "7. [Reyes, Englevert & Blanco, Ron & Doroon, Defanee & Limana, Jay & Torcende, Ana. (2021). Feynman Technique as a Heutagogical Learning Strategy for Independent and Remote Learning. Recoletos Multidisciplinary Research Journal. 9. 1-13.](http://54.243.252.9/ce-4200-webroot/ce-4200-notes/lessons/lifelonglearning/958-ArticleText-5090-2-10-20220129.pdf)\n",
    "\n",
    "8. [Field Manual 7-0 \"Training The Force\" Headquarters Department of the Army Washington, DC, 22 October 2002](http://54.243.252.9/ce-4200-webroot/ce-4200-notes/lessons/lifelonglearning/FM7-0(02).pdf)\n",
    "\n",
    "3. [Training Fact Sheet \"Leveraging training environments to maximize training value\" Training Management Directorate: Combined Arms Center-Training February 23, 2023](https://www.army.mil/article/264228/training_fact_sheet_leveraging_training_environments_to_maximize_training_value)\n",
    "\n",
    "## Videos\n",
    "\n",
    "1. [placeholder](#dummy)"
   ]
  },
  {
   "cell_type": "code",
   "execution_count": null,
   "metadata": {},
   "outputs": [],
   "source": []
  },
  {
   "cell_type": "markdown",
   "metadata": {},
   "source": []
  },
  {
   "cell_type": "markdown",
   "metadata": {},
   "source": [
    "## Learning Methods\n",
    "\n",
    "- Bloom's Taxonomy (and related methods)\n",
    "- Feynman Technique\n",
    "- US Army Method of Learning"
   ]
  },
  {
   "cell_type": "markdown",
   "metadata": {},
   "source": [
    "**ABET emphasized outcome** it is included herein to motivate students to read the references included in the various sections (lectures) to follow.  \n",
    "\n",
    "In your chosen field of engineering, lifelong learning is not just an option—it’s a necessity. The ability to adapt to new tools, technologies, and methodologies is key to remaining relevant and innovative (and employed!) throughout your career. For engineers, lifelong learning involves more than just mastering technical skills; it also requires cultivating the ability to synthesize diverse ideas, approaches, and solutions from a range of disciplines. By developing effective lifelong learning strategies, engineers can better navigate complex challenges and continue to grow both professionally and intellectually.\n",
    "\n",
    "Taxonomies, often developed by Ed.D. researchers, provide structured frameworks for categorizing learning methods, offering valuable tools for understanding and improving educational practices.\n",
    "\n",
    ":::{note}\n",
    "While both Ed.D. and Ph.D. programs cultivate advanced expertise, the Ed.D. focuses on applying research to solve practical problems in educational settings, often emphasizing leadership and policy implementation, whereas the Ph.D. prioritizes the generation of new theoretical knowledge through rigorous academic research. Together, these degrees underscore complementary approaches to advancing learning—one through practice and the other through scholarly inquiry.\n",
    ":::\n",
    "\n",
    "One highly effective strategy is the Feynman Technique, which emphasizes breaking down complex concepts into simple explanations. Engineers can apply this method by continually practicing how to explain newly acquired knowledge in the simplest possible terms. This forces deeper understanding and reveals gaps in comprehension. By engaging in peer discussions, teaching others, or even creating their own knowledge documentation, engineers can reinforce their learning, ensuring they truly grasp the material they are studying.\n",
    "\n",
    "Another proven strategy is the Army’s Method of Learning Concept (MOLC). This method focuses on immersive, structured learning environments where engineers progressively refine their understanding through repetition and iteration. The MOLC approach encourages engineers to engage deeply with the subject matter and learn through practical application. By repeating key concepts in different contexts and applying them in real-world situations, engineers build confidence in their problem-solving abilities while continuously improving their skills.\n",
    "\n",
    "In addition to these methods, engineers should embrace reading and synthesizing research papers, technical reports, and case studies. This strategy goes beyond acquiring specific technical knowledge to develop the skills of critical thinking, cross-disciplinary integration, and innovation. By reading widely across engineering domains and distilling key insights, engineers can build a toolkit of ideas and approaches that can be applied to unique challenges throughout their careers. Incorporating lessons from different fields not covered in the standard curriculum encourages creativity and flexibility, essential traits in a rapidly advancing profession.\n",
    "\n",
    "Many of the **ABET emphasized outcomes** are well referenced, and you should embrace reading the references and develop your own tools for learning the various topics.  Expertise is not expected, but awareness is vital.\n"
   ]
  },
  {
   "cell_type": "markdown",
   "metadata": {},
   "source": [
    "## Bloom's Taxonomy: A Framework for Learning\n",
    "\n",
    "Bloom's Taxonomy is a structured way to think about learning, applicable to any discipline.\n",
    "The key idea is that Bloom's Taxonomy helps us understand the progression from basic knowledge to advanced problem-solving and creativity.\n",
    "\n",
    "### The Six Levels of Bloom's Taxonomy \n",
    "\n",
    "1. **Remembering**: \n",
    "   - **Definition**: Recalling facts and basic concepts.\n",
    "   - **Examples**: Memorizing formulas, definitions, or steps in a process.\n",
    "   \n",
    "2. **Understanding**: \n",
    "   - **Definition**: Explaining ideas or concepts.\n",
    "   - **Examples**: Summarizing a scientific article or interpreting a graph.\n",
    "\n",
    "3. **Applying**: \n",
    "   - **Definition**: Using information in new situations.\n",
    "   - **Examples**: Solving a problem using a learned method.\n",
    "\n",
    "4. **Analyzing**: \n",
    "   - **Definition**: Breaking information into parts to explore relationships.\n",
    "   - **Examples**: Comparing different solutions to a design problem.\n",
    "\n",
    "5. **Evaluating**: \n",
    "   - **Definition**: Justifying decisions or solutions.\n",
    "   - **Examples**: Critiquing a project plan or assessing an experiment's results.\n",
    "\n",
    "6. **Creating**: \n",
    "   - **Definition**: Producing new or original work.\n",
    "   - **Examples**: Designing an innovative device or developing a novel research question.\n",
    "\n",
    "---\n",
    "\n",
    "### Why Bloom’s Taxonomy Matters\n",
    "\n",
    "- **Learning Progression**:\n",
    "  - Encourages moving beyond rote memorization to higher-order thinking.\n",
    "- **Practical Applications**:\n",
    "  - Helps identify the type of thinking required in tasks (e.g., exams, projects, workplace problems).\n",
    "- **Cross-Disciplinary Value**:\n",
    "  - Demonstrates how learning concepts are universal, whether in engineering, sciences, or arts.\n",
    "\n",
    "### How to Use Bloom's Taxonomy \n",
    "- **For Studying**:\n",
    "  - Tailor study techniques to match different levels (e.g., flashcards for remembering, practice problems for applying).\n",
    "- **For Projects**:\n",
    "  - Structure work to progress from analysis to creation.\n",
    "- **For Self-Assessment**:\n",
    "  - Use it to gauge whether you’re developing higher-order skills in your discipline.\n",
    "\n",
    "### Summary\n",
    "\n",
    "- **Key Takeaway**: Bloom’s Taxonomy is a powerful tool for understanding and improving how you learn and apply knowledge in any field.\n",
    "- **Call to Action**: Reflect on your learning process and aim to reach higher levels of thinking in your academic and professional work.\n",
    "\n"
   ]
  },
  {
   "cell_type": "markdown",
   "metadata": {
    "jp-MarkdownHeadingCollapsed": true
   },
   "source": [
    "## Feynman Learning Technique\n",
    "\n",
    "The Feynman Technique is a learning strategy named after the famous physicist Richard Feynman, who was known for his ability to explain complex concepts in simple, easy-to-understand terms. This technique emphasizes understanding through simplification and self-explanation. It consists of four key steps designed to help you deeply understand a topic and identify any gaps in your knowledge. Here’s how it works:\n",
    "\n",
    "1. **Choose a Concept:** Start by selecting the topic or concept you want to learn. It could be anything from a scientific principle to a technical skill or a theory. The idea is to focus on something specific that you wish to master.\n",
    "\n",
    "2. **Teach it to the President (aka Child):** Pretend you're teaching the concept to someone who has no background knowledge, such as a child. The goal is to break the concept down into the simplest possible terms. Avoid jargon or overly technical language. By doing this, you force yourself to clarify your understanding. If you can explain a complex idea in simple language, it's a sign you truly understand it.\n",
    "\n",
    "3. **Identify Gaps and Go Back to the Source:** As you attempt to explain the concept, you may discover areas where your explanation feels incomplete or confusing. These are the gaps in your understanding. When you find them, return to the source material—books, notes, or any reference—and review the sections you don't fully grasp. The key is to refine your understanding by identifying and filling these gaps.\n",
    "\n",
    "4. **Simplify and Use Analogies:** Once you’ve filled the gaps, simplify your explanation again, but this time refine it by making it even clearer. Use analogies and comparisons to make the concept easier to understand. Analogies are powerful tools that help relate complex ideas to familiar concepts, making them more accessible.\n",
    "\n",
    "### Why the Feynman Technique Works:\n",
    "\n",
    "- Active Learning: This technique encourages active engagement with the material rather than passive consumption. You are not just reading or listening—you are breaking down, teaching, and critically analyzing the concept.\n",
    "- Understanding vs. Memorization: The Feynman Technique forces you to truly understand a concept rather than memorize it. If you can’t explain it simply, it shows you haven’t fully grasped it yet.\n",
    "- Identification of Weaknesses: By trying to explain the topic in simple terms, you quickly uncover any parts of the material that you don’t understand well.\n",
    "- Effective Communication: The technique not only helps you learn but also improves your ability to communicate ideas clearly to others, a skill valuable in teaching, leadership, and many professional fields.\n",
    "\n",
    "Example:\n",
    "\n",
    "Suppose you’re trying to learn Newton's First Law of Motion. Using the Feynman Technique, you would start by writing out the law in your own words as if explaining it to a child: “Objects keep moving or stay still unless something pushes or pulls them.” If you struggle with this simplification, you would go back to the material to clarify your understanding, then return and explain it more clearly.\n",
    "\n",
    "The Feynman Technique is a practical, powerful method for mastering difficult subjects and can be applied to almost any area of study. \n",
    "\n",
    ":::{note}\n",
    "When I was a drill sergeant in the U.S. Army, we used a doctrine at the time called \"Method of Learning Concept\", which is essentially the same thing - outcomes were easier to define (Mission Accomplishmet and Retention of Assets (aka not becoming unalive in the process of mission accomplishment).\n",
    ":::"
   ]
  },
  {
   "cell_type": "markdown",
   "metadata": {},
   "source": [
    "## U.S. Army’s Method of Learning \n",
    "\n",
    "The U.S. Army’s Method of Learning (also called Crawl-Walk-Run method) is designed to train soldiers for the practical application of skills and knowledge in real-world scenarios. The focus is on incremental learning through experience and repetition, combined with immediate feedback. It is a structured approach often used in the military and emphasizes action-based learning in phases:\n",
    "\n",
    "- Crawl Phase (Basic Learning): Introduce the material, concept, or skill in a simplified form. Soldiers receive theoretical knowledge, often through briefings, instruction, or reading materials. Learning is foundational, focused on understanding the basics before moving on to more complex elements.\n",
    "\n",
    "- Walk Phase (Hands-On Practice): Transition to practical application and drills. Soldiers practice skills or apply knowledge under controlled conditions. Mistakes are expected, and learning happens through hands-on experience with increasing difficulty. Instructors provide feedback and correct errors as they happen.\n",
    "\n",
    "- Run Phase (Full Application): Apply the learned skills or knowledge in real-time, high-pressure environments (simulated combat or field exercises). Soldiers must demonstrate competence and adaptability. The goal is to prepare them for real-world scenarios where the learned concepts will be applied under stress.\n",
    "\n",
    "### Comparison\n",
    "\n",
    "|Aspect|Feynman Technique|U.S. Army’s Method of Learning Concept|\n",
    "|---|---|---|\n",
    "|Focus|Conceptual clarity by simplifying and teaching complex ideas in a way that anyone can understand.|Practical skills and readiness, learning through phased progression and real-world application.|\n",
    "|Learning Style|Self-directed, with an emphasis on self-explanation and refining understanding by teaching others or oneself.|Instructor-led, action-based with structured phases: basic learning, practical application, and real-world simulation.|\n",
    "|Application|Best suited for mastering intellectual, academic, or technical knowledge by focusing on why and how something works.|Designed for learning skills and procedures in a stepwise fashion, with increasing complexity, leading to readiness for real-world execution (e.g., military or high-stakes environments).|\n",
    "|Feedback Mechanism|Feedback occurs when learners identify gaps in their own understanding during the teaching process.|Immediate, instructor-provided feedback during hands-on practice. Mistakes are corrected as they occur.|\n",
    "|Learning Pace|Flexible, with learners progressing at their own pace by revisiting material as needed.|Structured, with clear progression through phases (crawl-walk-run), often tied to a timeline or mission readiness.|\n",
    "|Learning Outcome|Learners can explain concepts clearly and simply, which signifies true mastery of the topic.|Learners can apply skills effectively in stressful or practical situations, often preparing for real-world action.|\n",
    "|Key Strength|Identifying gaps in knowledge through the act of teaching, leading to deep understanding.|Building practical competence by transitioning from theory to real-world application under pressure.|\n",
    "\n",
    "Which is Better for Learning?\n",
    "\n",
    "- The Feynman Technique is particularly useful for academic and intellectual fields where deep understanding and explanation of complex ideas are necessary. It’s excellent for self-learners or people studying theoretical or technical subjects.\n",
    "\n",
    "- The Army’s Method is designed for learning practical, hands-on skills in high-stakes environments. It ensures that the learner can execute tasks effectively in real-world conditions, which is critical for fields requiring physical performance, such as military, engineering operations, or emergency response.\n",
    "\n",
    "Summary\n",
    "\n",
    "The Feynman Technique is more suited for learning abstract or conceptual material, where explaining and teaching lead to deeper understanding. In contrast, the U.S. Army’s Method emphasizes skill acquisition and real-world application through incremental practice, feedback, and full-speed execution. Both methods are powerful, but their effectiveness depends on the type of learning goal—whether you're trying to understand a concept intellectually or master a skill through action."
   ]
  },
  {
   "cell_type": "markdown",
   "metadata": {},
   "source": [
    ":::{admonition} Critique of the Taxonomy \"Methods\"\n",
    "Notice the taxonomy methods are a little weak on technique, whereas the Feynman, and Army methods are strictlty technique.  Also notice that a few of the taxonomy levels are exactly replicated in Feynman's and the Army's methods.  Keep this in mind for the next lesson where we examine the ASCE Body of Knowledge using the Taxonomy layouts.\n",
    ":::"
   ]
  },
  {
   "attachments": {},
   "cell_type": "markdown",
   "metadata": {},
   "source": [
    "\n",
    "\n"
   ]
  },
  {
   "cell_type": "markdown",
   "metadata": {},
   "source": [
    "## Learning Domains\n",
    "When we think about learning, it’s essential to recognize that it encompasses more than just acquiring knowledge. Learning engages various aspects of our being—our minds, emotions, and physical actions. To better understand and facilitate this multifaceted process, educators and researchers have categorized learning into three primary domains: cognitive, affective, and psychomotor. These domains help clarify how we process, internalize, and apply what we learn across different contexts, making them invaluable for developing comprehensive educational approaches. Below is an exploration of each domain and its unique contributions to the learning process.\n",
    "\n",
    "- Cognitive Domain. The cognitive domain (Bloom, 1956) focuses on knowledge and the development of intellectual skills. This domain involves the mental processes of acquiring, organizing, and applying information. It includes recalling specific facts, understanding procedural patterns, and synthesizing concepts to solve problems or make decisions. For example, in engineering, students might use the cognitive domain to learn and apply the principles of mechanics to design a bridge. This domain is often considered foundational to learning, as it equips individuals with the critical thinking and problem-solving abilities essential in both academic and professional settings.\n",
    "  \n",
    "- Affective Domain: The affective domain (Krathwohl, Bloom, and Masia, 1973), addresses the emotional aspects of learning. It includes how individuals feel about, value, and engage with their learning experiences. This domain encompasses attitudes, motivations, and emotions such as enthusiasm, frustration, or even resilience in the face of challenges. For instance, a student who values sustainability may be more motivated to learn about green engineering practices. Understanding the affective domain is crucial for educators and leaders, as emotional engagement often determines how deeply students connect with and retain knowledge.\n",
    "\n",
    "- Psychomotor Domain: The psychomotor domain emphasizes the physical aspects of learning, including movement, coordination, and motor skills. This domain is particularly relevant in fields requiring hands-on practice and precision, such as laboratory work, surgery, or athletics. Skills in this domain are developed through repeated practice and measured by attributes like speed, accuracy, and technique. For example, an engineering student learning to use a theodolite must practice aligning and measuring angles to master the instrument’s use effectively. Mastery in the psychomotor domain often complements the cognitive domain, as understanding principles enhances physical execution."
   ]
  },
  {
   "cell_type": "markdown",
   "metadata": {},
   "source": [
    "## End of Section"
   ]
  }
 ],
 "metadata": {
  "kernelspec": {
   "display_name": "Python 3 (ipykernel)",
   "language": "python",
   "name": "python3"
  },
  "language_info": {
   "codemirror_mode": {
    "name": "ipython",
    "version": 3
   },
   "file_extension": ".py",
   "mimetype": "text/x-python",
   "name": "python",
   "nbconvert_exporter": "python",
   "pygments_lexer": "ipython3",
   "version": "3.10.12"
  }
 },
 "nbformat": 4,
 "nbformat_minor": 4
}