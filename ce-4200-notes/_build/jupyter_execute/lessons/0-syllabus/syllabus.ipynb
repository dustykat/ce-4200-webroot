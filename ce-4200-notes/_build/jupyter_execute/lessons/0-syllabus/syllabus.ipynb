{
 "cells": [
  {
   "cell_type": "markdown",
   "id": "1c6d87a5-ba33-4030-bcbb-b38f3ab9e65a",
   "metadata": {},
   "source": [
    "# Syllabus "
   ]
  },
  {
   "cell_type": "code",
   "execution_count": 1,
   "id": "f56480dc-1d73-4d65-a388-c115c3bb534d",
   "metadata": {
    "jupyter": {
     "source_hidden": true
    }
   },
   "outputs": [
    {
     "data": {
      "text/html": [
       "<style> table {margin-left: 0 !important;} </style>\n"
      ],
      "text/plain": [
       "<IPython.core.display.HTML object>"
      ]
     },
     "metadata": {},
     "output_type": "display_data"
    }
   ],
   "source": [
    "%%html\n",
    "<style> table {margin-left: 0 !important;} </style>"
   ]
  },
  {
   "cell_type": "markdown",
   "id": "e8adc79c-5f4d-4cd3-9f0a-f0d07e128910",
   "metadata": {},
   "source": [
    "## Catalog Description\n",
    "\n",
    "CE 4200 Professional Engineering Practice Issues (2:2:0). A study of engineering body of knowledge topics to prepare students for engineering practice: topics include the FE Exam, licensure, leadership, ethics, and others.\n",
    "\n",
    "## Prerequisites: \n",
    "\n",
    "Must be within two long semesters of graduation.\n",
    "\n",
    "## Course Sections (in this syllabus)\n",
    "\n",
    "Lesson time, days, and location: \n",
    "<br>CE 4200 Section 001; CRN xxxx; 2000-2050 T,TH ; CE 205\n",
    "\n",
    "## Course Instructor:\n",
    "\n",
    "Instructor: Theodore G. Cleveland, Ph.D., P.E., M. ASCE, F. EWRI<br>Email: theodore.cleveland@ttu.edu  (put 4200 in subject line)<br>Office location: CE 203F<br>Office hours: TBD\n",
    "\n",
    "## Teaching assistants:\n",
    "\n",
    "Assistant: none <br>Email : NA<br>Office location: NA<br>Office hours: NA"
   ]
  },
  {
   "cell_type": "markdown",
   "id": "249b230f-625b-4a7b-b443-3ac6fa892951",
   "metadata": {},
   "source": [
    "## Required Reading(s)\n",
    "\n",
    "- ASCE (2019). Civil Engineering Body of Knowledge for the 21st Century: Preparing the Civil Engineer for the Future. Third Edition. DRAFT. American Society of Civil Engineers (ASCE), Reston, VA. ISBN (PDF): 9780784481974 (Free to download from ASCE) [Local Copy (this server)](http://54.243.252.9/ce-4200-webroot/3-Readings/BOK3_9780784415221.pdf)\n",
    "\n",
    "- [Cleveland, T. G. 2025. Instructor's Notes to accompany CE-4200, Department of Civil, Environmental, and Construction Engineering, Whitacre College of Engineering](http://54.243.252.9/ce-4200-webroot/)\n",
    "\n",
    "- NCEES (2018). FE Supplied-Reference Handbook, Edition 9.5, Version for Computer-Based Testing. National Council of Examiners for Engineering and Surveying (NCEES), Clemson, SC. Fifth Printing June 2018.\n",
    "\n",
    "- NCEES (2020). FE Reference Handbook, Edition 10.0.1. National Council of Examiners for Engineering and Surveying (NCEES), Clemson, SC. Third Printing July 2021. ISBN: 978-1-947801-11-0. [https://account.ncees.org/exam‐prep/416](https://account.ncees.org/exam‐prep/416) or [Local Copy (this server)](http://54.243.252.9/ce-4200-webroot/3-Readings/fe-handbook-10-1_F2021.pdf)\n",
    "\n",
    "- Lindeburg, Michael R. (2017). FE Civil Review. Professional Publications, Inc., Belmont,\n",
    "CA. ISBN: 978-1-59126-529-0. [https://ppi2pass.com/](https://ppi2pass.com/)\n"
   ]
  },
  {
   "cell_type": "markdown",
   "id": "2b46a901-ef04-4872-9475-84bebd1cdbae",
   "metadata": {},
   "source": [
    "## Course Description: \n",
    "\n",
    "This required course is to addresses selected civil engineering body of knowledge topics  including preparation for the NCEES Fundamentals of Engineering (FE) Exam, the importance of licensure, leadership and management, public policy, business aspects of engineering, and others. It integrates technical, professional, and social issues and contributes to the preparation of senior BSCE students to enter professional practice.\n",
    "\n",
    "During this course the student will\n",
    "- Explain the purpose, scope, and current nature of the NCEES FE Exam as it relates\n",
    "to licensure\n",
    "- Apply resources and strategies to prepare for the FE Exam\n",
    "- Work FE Exam-like questions in selected morning and afternoon session topics\n",
    "using the FE Supplied Reference Handbook and similar tools\n",
    "- Explain key concepts and processes associated with selected civil and\n",
    "environmental engineering body of knowledge topics such as leadership, business\n",
    "and public administration, and public policy\n",
    "\n",
    "## ABET Program Outcomes \n",
    "This course specifically addresses the outcomes listed below.  Only the **primary outcome** is assessed as part of the CECE Continuous Improvement Program.\n",
    "\n",
    "### Primary Outcomes\n",
    "- (2.)an ability to apply engineering design to produce solutions that meet specified needs\n",
    "with consideration of public health, safety, and welfare, as well as global, cultural, social,\n",
    "environmental, and economic factors.\\footnote{This course address the generic \"consideration of ...\" of the listed topics. A specific design is not a course product}\n",
    "- (4.) an ability to recognize ethical and professional responsibilities in engineering\n",
    "situations and make informed judgments, which must consider the impact of\n",
    "engineering solutions in global, economic, environmental, and societal contexts\n",
    "- (7.) An ability to acquire and apply new knowledge as needed, using appropriate learning strategies.\n",
    "\n",
    "### Secondary Outcomes\n",
    "\n",
    "- *none*\n",
    "\n",
    "## About ABET EAC Criteria\n",
    "\n",
    "The outcomes above (primary and secondary) are a subset of those prescribed in ABET EAC General Criteria for Bacculerate Programs as described in  [ABET (2024) Criteria for Accrediting ENGINEERING PROGRAMS. ABET, 415 North Charles St., Baltimore, MD 21201](https://www.abet.org/wp-content/uploads/2023/03/23-24-EAC-Criteria_FINAL2.pdf)\n",
    "\n",
    "> **Criteria 3, Student Outcomes**: The program must have documented student outcomes that support the program educational objectives. Attainment of these outcomes prepares graduates to enter the professional practice of engineering. Student outcomes are outcomes (1) through (7), plus any additional outcomes that may be articulated by the program.\n",
    "\n",
    "The primary outcomes (above) are assessed as part of the CECE Continuous Improvement Program that is prescribed in ABET EAC General Criteria for Bacculerate Programs as described in [ABET (2024) Criteria for Accrediting ENGINEERING PROGRAMS. ABET, 415 North Charles St., Baltimore, MD 21201](https://www.abet.org/wp-content/uploads/2023/03/23-24-EAC-Criteria_FINAL2.pdf)\n",
    "\n",
    "> **Criteria 4, Continuous Improvement**: The program must regularly use appropriate, documented processes for assessing and evaluating the extent to which the student outcomes are being attained. The results of these evaluations must be systematically utilized as input for the program’s continuous improvement actions. Other available information may also be used to assist in the continuous improvement of the program."
   ]
  },
  {
   "cell_type": "markdown",
   "id": "135c765c-4f04-4fcc-8fd5-088b1c07a888",
   "metadata": {},
   "source": [
    "## Brief List of Topics\n",
    "1. Selected body of knowledge topics from the foundational, technical, and professional areas of civil engineering\n",
    "2. Engineering licensure requirements\n",
    "3. FE Exam specifications and format\n",
    "4. Selected FE Exam general (Morning) session topics from mathematics, engineering probability and statistics, computational tools, ethics and professional practice, engineering economics, statics, dynamics, mechanics of materials, fluid mechanics\n",
    "5. Selected FE Exam civil discipline specific (Afternoon) session topics from surveying, hydraulics and hydrologic systems, geotechnical engineering, environmental engineering, transportation engineering, structural analysis, structural design, construction, materials"
   ]
  },
  {
   "cell_type": "markdown",
   "id": "89ea999b-7b1f-4420-9e05-296c054e02d8",
   "metadata": {},
   "source": [
    "## ADA Statement: \n",
    "Any student who, because of a disability, may require special arrangements in order to meet the course requirements should contact the instructor as soon as possible to make necessary arrangements.  Students must present appropriate verification from Student Disability Services during the instructor's office hours.  Please note that instructors are not allowed to provide classroom accommodation to a student until appropriate verification from Student Disability Services has been provided.  For additional information, please contact Student Disability Services \n",
    "office in 335 West Hall or call 806.742.2405.\n",
    "\n",
    "## Academic Integrity Statement:\n",
    "Academic integrity is taking responsibility for one’s own class and/or course work, being individually accountable, and demonstrating intellectual honesty and ethical behavior.  Academic integrity is a personal choice to abide by the standards of intellectual honesty and responsibility.  Because education is a shared effort to achieve learning through the exchange of ideas, students, faculty, and staff have the collective responsibility to build mutual trust and respect.  Ethical behavior and independent thought are essential for the highest level of academic achievement, which then must be measured.  Academic achievement includes scholarship, teaching, and learning, all of which are shared endeavors.  Grades are a device used to quantify the successful accumulation of knowledge through learning.  Adhering to the standards of academic integrity ensures grades are earned honestly.  Academic integrity is the foundation upon which students, faculty, and staff build their educational and professional careers.  [Texas Tech University (“University”) Quality Enhancement Plan, Academic Integrity Task Force, 2010].\n",
    "\n",
    "## Religious Holy Day Statement: \n",
    "“Religious holy day” means a holy day observed by a religion whose places of worship are exempt from property taxation under Texas Tax Code §11.20.  A student who intends to observe a religious holy day should make that intention known to the instructor prior to the absence.  A student who is absent from classes for the observance of a religious holy day shall be allowed to take an examination or complete an assignment scheduled for that day within a reasonable time after the absence.  A student who is excused may not be penalized for the absence; however, the instructor may respond appropriately if the student fails to complete the assignment satisfactorily.\n",
    "\n",
    "## Ethical Conduct Policy:\n",
    "Cheating is prohibited, and the representation of the work of another person as your own will be grounds for receiving a failing grade in the course.  Use of [Large Language Generative Models](https://www.depts.ttu.edu/tlpdc/AIUSeAllowedwithDisclosureUpdated.pdf) is acceptable\n",
    "- [Ethical Principles (link to policy statement)](www.depts.ttu.edu/ethics/matadorchallenge/ethicalprinciples.php)\n",
    "  \n",
    "## Discrimination, Harassment, and Sexual Violence Statement\n",
    "Texas Tech University is committed to providing and strengthening an educational, working, and living environment where students, faculty, staff, and visitors are free from gender and/or sex discrimination of any kind. Sexual assault, discrimination, harassment, and other Title IX violations are not tolerated by the University. Report any incidents to the Office for Student Rights \\& Resolution, (806)-742-SAFE (7233) or file a report online at \\url{titleix.ttu.edu/students}. Faculty and staff members at TTU are committed to connecting you to resources on campus. Some of these available resources are: \n",
    "- [TTU Student Counseling Center, 806-742-3674](https://www.depts.ttu.edu/scc/)(Provides confidential support on campus.) \n",
    "- TTU 24-hour Crisis Helpline, 806-742-5555, (Assists students who are experiencing a mental health or interpersonal violence crisis. If you call the helpline, you will speak with a mental health counselor.) \n",
    "- [Voice of Hope Lubbock Rape Crisis Center, 806-763-7273](voiceofhopelubbock.org) (24-hour hotline that provides support for survivors of sexual violence.) \n",
    "- [The Risk, Intervention, Safety and Education (RISE) Office, 806-742-2110](https://www.depts.ttu.edu/rise/) (Provides a range of resources and support options focused on prevention education and student wellness.) \n",
    "- [Texas Tech Police Department, 806-742-3931 (non-emergency)](http://www.depts.ttu.edu/ttpd/) (To report criminal activity that occurs on or near Texas Tech campus.)\n",
    "- [Discrimination, Harassment, and Sexual Violence (link to policy statement)](https://www.depts.ttu.edu/tlpdc/DiscriminationHarrasmentSexualViolenceStatement.pdf)\n",
    "\n",
    "## Civility in the Classroom Statement\n",
    "Texas Tech University is a community of faculty, students, and staff that enjoys an expectation of cooperation, professionalism, and civility during the conduct of all forms of university business, including the conduct of student–student and student–faculty interactions in and out of the classroom. Further, the classroom is a setting in which an exchange of ideas and creative thinking should be encouraged and where intellectual growth and development are fostered. Students who disrupt this classroom mission by rude, sarcastic, threatening, abusive or obscene language and/or behavior will be subject to appropriate sanctions according to university policy. Likewise, faculty members are expected to maintain the highest standards of professionalism in all interactions with all constituents of the university.\n",
    "- [Civility in the Classroom (link to policy statement)](https://www.depts.ttu.edu/tlpdc/CivilityInTheClassroomStatement.pdf)\n",
    "\n",
    "\n",
    "## Student Support Statement\n",
    "The Office of Campus Access and Engagement works across Texas Tech University to foster, affirm, celebrate, engage, and strengthen all student communities. For more information about services, opportunities for participation, and ways in which Texas Tech can support your success in college, please contact (806) 742-7025.\n",
    "- [Student Support (link to policy statement)](https://www.depts.ttu.edu/tlpdc/StudentSupportStatement.pdf)\n",
    "\n",
    "## Statement About Food Insecurity\n",
    "\n",
    "Any student who faces challenges securing their food or housing and believes this may affect their performance in the course is urged to contact the Dean of Students for support. Furthermore, please notify the professor if you are comfortable in doing so. Raider Red's Food Pantry (located in Doak 117) supplies personal care items and a selection of nonperishable food to students. The Raider Relief Advocacy and Resource Center (RR- ARC) is a centralized hub of resources and support for students facing hardships with their basic needs. Through a comprehensive network of campus and community partnerships, we strive to alleviate the burden of financial, physical, and emotional hardships and promote the well-being and academic success of all students. \n",
    "- [Food Insecurity (link to policy statement)](https://www.depts.ttu.edu/tlpdc/FoodInsecurityStatement.pdf)\n",
    "- [Raider Relief](https://www.depts.ttu.edu/raiderrelief/)\n",
    "   \n",
    "## Statement of Accomodation for Pregnant Students:\n",
    "To support the academic success of pregnant and parenting students and students with pregnancy related conditions, the University offers reasonable modifications based on the student's particular needs. Any student who is pregnant or parenting a child up to age 18 or has conditions related to pregnancy may contact Alex Faris, the Texas Tech University designated Pregnancy and Parenting Liaison, to discuss support available through the University. The Liaison can be reached by emailing alfaris@ttu.edu. Should a student communicate with the instructor that they are pregnant or have a pregnancy related condition or may need additional resources related to pregnancy or parenting, the instructor will communicate that student's information to the Title IX Coordinator, who will work with the student and others, as needed, to ensure equal access to the University's education program or activity. \n",
    "\n",
    "For more information regarding supportive measures, please contact pregnancy \\& parenting liaison Alex Faris (alfaris@ttu.edu : 806-834-3420) or visit [https://www.depts.ttu.edu/titleix/PregnacnyandParenting/index.php](https://www.depts.ttu.edu/titleix/PregnacnyandParenting/index.php).\n"
   ]
  },
  {
   "cell_type": "markdown",
   "id": "741bc193-9e13-4390-909d-92c3d504529b",
   "metadata": {},
   "source": [
    "- [Required Syllabus Statements (link to policy statement(s))](https://www.depts.ttu.edu/tlpdc/RequiredSyllabusStatements.php)\n",
    "- [Recomended/Optional Syllabus Statements (link to policy statement(s))](\\url{https://www.depts.ttu.edu/tlpdc/RecommendedSyllabusStatements.php)"
   ]
  },
  {
   "cell_type": "markdown",
   "id": "8d850d60-4be3-4f5b-8e78-fd5c809d297e",
   "metadata": {},
   "source": [
    "## Course Assessment and Grading Criteria:\n",
    "There will be multiple quizzes and one final exam for the course.  \n",
    "<strong>Late</strong> assignments will not be graded.  \n",
    "\n",
    "Grades will be based on the following components; weighting is approximate:\n",
    "\n",
    "|Assessment Instrument|Weight(%)|\n",
    "|---|---:|\n",
    "|Attendance|10|\n",
    "|Homework|20|\n",
    "|Quizzes|30|\n",
    "|Exam|40|\n",
    "|Overall total|100|100|\n",
    "\n",
    "Letter grades will be assigned using the following proportions:\n",
    "\n",
    "|Normalized Score Range|Letter Grade|\n",
    "|:-|---:|\n",
    "|≥ 90|A|\n",
    "|80-89|B|\n",
    "|70-79|C|\n",
    "|55-69|D|\n",
    "|< 55|F|"
   ]
  },
  {
   "cell_type": "markdown",
   "id": "11b5eb6f-814c-472e-9bf1-36ea065935b6",
   "metadata": {},
   "source": [
    "# Schedule\n",
    "|date|topic|presenter|homework|\n",
    "|:---|:---|:---|:---|\n",
    "|26 Aug 2025|Introduction <br> - [Syllabus](dummy) <br> - [Career Planning](http://54.243.252.9/ce-4200-webroot/ce-4200-notes/_build/html/lessons/8.1-careerplan/careerplan.html)|Dr. Cleveland||\n",
    "|28 Aug 2025|Framing the Profession: <br> - [Knowledge Expectations](http://54.243.252.9/ce-4200-webroot/ce-4200-notes/_build/html/lessons/7-futureexpectations/futureengineer.html) <br> - [ABET Breadth and Depth](http://54.243.252.9/ce-4200-webroot/ce-4200-notes/_build/html/lessons/3-abetbreath/abetbreath.html) <br> - [ACSE BOK](http://54.243.252.9/ce-4200-webroot/ce-4200-notes/_build/html/lessons/2-ascebok/ascebok.html) |Dr. Cleveland|| \\\\NEED A QUIZ\n",
    "|02 sep 2025|Beyond the Technical: <br> - [Public Health Considerations in Engineering Design](http://54.243.252.9/ce-4200-webroot/ce-4200-notes/_build/html/lessons/4-publichealth/publichealth.html) <br> -  [Evaluation of Safety Considerations in Engineering Design](http://54.243.252.9/ce-4200-webroot/ce-4200-notes/_build/html/lessons/5-safety/safety.html)|Dr. Cleveland|| \\\\quiz programmed\n",
    "|04 Sep 2025|Beyond the Technical: <br> - [Evaluation of Welfare Considerations in Engineering Design](http://54.243.252.9/ce-4200-webroot/ce-4200-notes/_build/html/lessons/6-welfare/welfare.html) <br> - [Evaluation of Social Considerations in Engineering Design](http://54.243.252.9/ce-4200-webroot/ce-4200-notes/_build/html/lessons/11-social/social.html)|Dr. Cleveland|| \\\\quiz programmed\n",
    "|09 Sep 2025|Beyond the Technical: <br> - [Global Considerations in Engineering Design and Project Delivery](http://54.243.252.9/ce-4200-webroot/ce-4200-notes/_build/html/lessons/9-global/global.html) <br> - [Evaluation of Cultural Considerations in Engineering Design](http://54.243.252.9/ce-4200-webroot/ce-4200-notes/_build/html/lessons/10-cultural/cultural.html)|Dr. Cleveland|| \\\\quiz programmed\n",
    "|11 Sep 2025|Beyond the Technical: <br> - [Evaluation of Sustainability Considerations in Engineering Design](http://54.243.252.9/ce-4200-webroot/ce-4200-notes/_build/html/lessons/14-sustainability/sustainability.html) <br> - [Evaluation of Environmental Considerations in Engineering Design](http://54.243.252.9/ce-4200-webroot/ce-4200-notes/_build/html/lessons/12-environmental/environmental.html)|Dr. Cleveland|| \\\\quiz programmed\n",
    "|16 Sep 2025|<font color=\"green\">No Class (Job Fairy)</font>|||\n",
    "|18 Sep 2025|Licensure and FE Exam Preparation: <br> - [Engineering Licensing](http://54.243.252.9/ce-4200-webroot/ce-4200-notes/_build/html/lessons/17-licensing/licensing.html) <br> - [FE Exam Overview](http://54.243.252.9/ce-4200-webroot/ce-4200-notes/_build/html/lessons/feexam/feexam.html)|Dr. Cleveland|| \\\\quiz programmed\n",
    "|23 Sep 2025|Licensure and FE Exam Preparation: <br> - Ethics (Video Lesson)|Dr. Cleveland|| \\\\FMLA\n",
    "|25 Sep 2025|Licensure and FE Exam Preparation: <br> - Economics (Video Lesson)|Dr. Cleveland|| \\\\FMLA\n",
    "|30 Sep 2025|Licensure and FE Exam Preparation: <br> - [Mathematics](http://54.243.252.9/ce-4200-webroot/ce-4200-notes/_build/html/lessons/fereview/Mathematics/FER-Math.html)|Dr. Fei|| \\\\quiz programmed\n",
    "|02 Oct 2025|Licensure and FE Exam Preparation: <br> - [Statistics](http://54.243.252.9/ce-4200-webroot/ce-4200-notes/_build/html/lessons/fereview/Statistics/FER-Statistics.html)|Dr. Fei|| \\\\ quiz programmed\n",
    "|07 Oct 2025|Licensure and FE Exam Preparation: <br> - Surveying ||| \\\\NEED A QUIZ\n",
    "|09 Oct 2025|Licensure and FE Exam Preparation: <br> - [Statics](http://54.243.252.9/ce-4200-webroot/ce-4200-notes/_build/html/lessons/fereview/Statics/FER-Statics.html)|Mr. Spears|| \\\\quiz programmed\n",
    "|14 Oct 2025|Licensure and FE Exam Preparation: <br> - [Dynamics](http://54.243.252.9/ce-4200-webroot/ce-4200-notes/_build/html/lessons/fereview/Dynamics/FER-Dynamics.html)||| \\\\quiz programmed\n",
    "|16 Oct 2025|Licensure and FE Exam Preparation: <br> - [Mechanics of Materials (Solids)](http://54.243.252.9/ce-4200-webroot/ce-4200-notes/_build/html/lessons/fereview/MechanicsMaterials/FER-MechanicsMaterials.html) |Mr. Spears|| \\\\quiz programmed\n",
    "|21 Oct 2025|Licensure and FE Exam Preparation: <br> - [Structural Engineering](http://54.243.252.9/ce-4200-webroot/ce-4200-notes/_build/html/lessons/fereview/StructuralReview/FER-Structural.html)||| \\\\quiz programmed\n",
    "|23 Oct 2025|Licensure and FE Exam Preparation: <br> - [Fluid Mechanics](http://54.243.252.9/ce-4200-webroot/ce-4200-notes/_build/html/lessons/fereview/FluidMechanics/FER-Fluids.html#fluid-dynamics)|Ms. Gurley|| \\\\quiz programmed\n",
    "|28 Oct 2025|Licensure and FE Exam Preparation: <br> - Hydraulics (Pipes and Pumps) |Dr. Cleveland|| \\\\NEED A QUIZ\n",
    "|30 Oct 2025|Licensure and FE Exam Preparation: <br> - Hydrology (Runoff and Seepage)|Dr. Cleveland|| \\\\NEED A QUIZ\n",
    "|04 Nov 2025|Licensure and FE Exam Preparation: <br> - Water Quality, Testing, and Treatment (Environmental) ||| \\\\NEED A QUIZ (environmental)\n",
    "|06 Nov 2025|Licensure and FE Exam Preparation: <br> - Materials Science ||| \\\\quiz programmed \n",
    "|11 Nov 2025|Licensure and FE Exam Preparation: <br> - [Geotechnical Engineering](http://54.243.252.9/ce-4200-webroot/ce-4200-notes/_build/html/lessons/fereview/Geotech/FER-Geotech.html)|Dr. Lu|| \\\\quiz programmed \n",
    "|13 Nov 2025|Licensure and FE Exam Preparation: <br> - [Transportation Engineering](http://54.243.252.9/ce-4200-webroot/ce-4200-notes/_build/html/lessons/fereview/Transportation/FER-Transportation.html)||| \\quiz programmed\n",
    "|18 Nov 2025|Licensure and FE Exam Preparation: <br> - Construction Engineering||| \\\\quiz programmed\n",
    "|20 Nov 2025|TBA||| \\\\environmental\n",
    "|25 Nov 2025|<font color=\"green\">No Class (Self-study)</font>|||\n",
    "|02 Dec 2025|Review|Dr. Cleveland|| \\\\ or some bullshit topic\n",
    "|08 Dec 2025|<font color=\"red\">Final Exam (on Canvas)</font>|||"
   ]
  },
  {
   "cell_type": "markdown",
   "id": "3cf4d979-a94e-413a-beb2-6c7173eef061",
   "metadata": {},
   "source": [
    "## Section End\n",
    "\n",
    "[Syllabus Quiz Preview](dummy)"
   ]
  },
  {
   "cell_type": "code",
   "execution_count": null,
   "id": "c4c08735-9472-4c79-910d-79bbeaa99af4",
   "metadata": {},
   "outputs": [],
   "source": []
  }
 ],
 "metadata": {
  "kernelspec": {
   "display_name": "Python Common Environment",
   "language": "python",
   "name": "python-my-env"
  },
  "language_info": {
   "codemirror_mode": {
    "name": "ipython",
    "version": 3
   },
   "file_extension": ".py",
   "mimetype": "text/x-python",
   "name": "python",
   "nbconvert_exporter": "python",
   "pygments_lexer": "ipython3",
   "version": "3.10.12"
  }
 },
 "nbformat": 4,
 "nbformat_minor": 5
}