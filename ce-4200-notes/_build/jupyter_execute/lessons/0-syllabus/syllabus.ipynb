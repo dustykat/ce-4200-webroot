{
 "cells": [
  {
   "cell_type": "code",
   "execution_count": 4,
   "id": "f56480dc-1d73-4d65-a388-c115c3bb534d",
   "metadata": {},
   "outputs": [
    {
     "data": {
      "text/html": [
       "<style> table {margin-left: 0 !important;} </style>\n"
      ],
      "text/plain": [
       "<IPython.core.display.HTML object>"
      ]
     },
     "metadata": {},
     "output_type": "display_data"
    }
   ],
   "source": [
    "%%html\n",
    "<style> table {margin-left: 0 !important;} </style>"
   ]
  },
  {
   "cell_type": "code",
   "execution_count": 5,
   "id": "b35f9767-544e-4f77-bd80-09f6b60e5880",
   "metadata": {},
   "outputs": [
    {
     "name": "stdout",
     "output_type": "stream",
     "text": [
      "ip-172-26-5-168\n",
      "sensei\n",
      "/opt/jupyterhub/bin/python3\n",
      "3.10.12 (main, May 27 2025, 17:12:29) [GCC 11.4.0]\n",
      "sys.version_info(major=3, minor=10, micro=12, releaselevel='final', serial=0)\n"
     ]
    }
   ],
   "source": [
    "# Preamble script block to identify host, user, and kernel\n",
    "import sys\n",
    "! hostname\n",
    "! whoami\n",
    "print(sys.executable)\n",
    "print(sys.version)\n",
    "print(sys.version_info)"
   ]
  },
  {
   "cell_type": "code",
   "execution_count": null,
   "id": "8f8de776-82f4-4109-a26d-e0adcbb15ebe",
   "metadata": {},
   "outputs": [],
   "source": []
  },
  {
   "cell_type": "markdown",
   "id": "45380cdc-bdcf-4ab4-96c0-563d843272fb",
   "metadata": {},
   "source": [
    "# Schedule\n",
    "|date|topic|readings|homework|\n",
    "|:---|:---|:---|:---|\n",
    "|26 Aug 2025|Introduction <br> - Career Planning|||\n",
    "|28 Aug 2025|Framing the Profession: <br> - [Knowledge Expectations](http://54.243.252.9/ce-4200-webroot/ce-4200-notes/_build/html/lessons/7-futureexpectations/futureengineer.html) <br> - [ABET Breadth and Depth](http://54.243.252.9/ce-4200-webroot/ce-4200-notes/_build/html/lessons/3-abetbreath/abetbreath.html) <br> - [ACSE BOK](http://54.243.252.9/ce-4200-webroot/ce-4200-notes/_build/html/lessons/2-ascebok/ascebok.html) ||| \\\\NEED A QUIZ\n",
    "|02 sep 2025|Beyond the Technical: <br> - [Public Health Considerations in Engineering Design](http://54.243.252.9/ce-4200-webroot/ce-4200-notes/_build/html/lessons/4-publichealth/publichealth.html) <br> -  [Evaluation of Safety Considerations in Engineering Design](http://54.243.252.9/ce-4200-webroot/ce-4200-notes/_build/html/lessons/5-safety/safety.html)||| \\\\quiz programmed\n",
    "|04 Sep 2025|Beyond the Technical: <br> - [Evaluation of Welfare Considerations in Engineering Design](http://54.243.252.9/ce-4200-webroot/ce-4200-notes/_build/html/lessons/6-welfare/welfare.html) <br> - Evaluation of Social Considerations in Engineering Design||| \\\\quiz programmed\n",
    "|09 Sep 2025|Beyond the Technical: <br> - Global Considerations in Engineering Design and Project Delivery <br> - Evaluation of Cultural Considerations in Engineering Design||| \\\\quiz programmed\n",
    "|11 Sep 2025|Beyond the Technical: <br> - Evaluation of Sustainability Considerations in Engineering Design <br> - Evaluation of Environmental Considerations in Engineering Design||| \\\\quiz programmed\n",
    "|16 Sep 2025|<font color=\"green\">No Class (Job Fairy)</font>|||\n",
    "|18 Sep 2025|Licensure and FE Exam Preparation: <br> - [Engineering Licensing](http://54.243.252.9/ce-4200-webroot/ce-4200-notes/_build/html/lessons/17-licensing/licensing.html) <br> - [FE Exam Overview](http://54.243.252.9/ce-4200-webroot/ce-4200-notes/_build/html/lessons/feexam/feexam.html)||| \\\\quiz programmed\n",
    "|23 Sep 2025|||| \\\\FMLA\n",
    "|25 Sep 2025|||| \\\\FMLA\n",
    "|30 Sep 2025|Licensure and FE Exam Preparation: <br> - Ethics and Professional Practice||| \\\\quiz programmed\n",
    "|02 Oct 2025|Licensure and FE Exam Preparation: <br> - Mathematics and Statistics||| \\\\ quiz programmed\n",
    "|07 Oct 2025|Licensure and FE Exam Preparation: <br> - Surveying ||| \\\\NEED A QUIZ\n",
    "|09 Oct 2025|Licensure and FE Exam Preparation: <br> - [Statics](http://54.243.252.9/ce-4200-webroot/ce-4200-notes/_build/html/lessons/fereview/Statics/FER-Statics.html)||| \\\\quiz programmed\n",
    "|14 Oct 2025|Licensure and FE Exam Preparation: <br> - [Dynamics](http://54.243.252.9/ce-4200-webroot/ce-4200-notes/_build/html/lessons/fereview/Dynamics/FER-Dynamics.html)||| \\\\quiz programmed\n",
    "|16 Oct 2025|Licensure and FE Exam Preparation: <br> - Mechanics of Materials (Solids) ||| \\\\quiz programmed\n",
    "|21 Oct 2025|Licensure and FE Exam Preparation: <br> - Structural Engineering||| \\\\quiz programmed\n",
    "|23 Oct 2025|Licensure and FE Exam Preparation: <br> - Fluid Mechanics||| \\\\quiz programmed\n",
    "|28 Oct 2025|Licensure and FE Exam Preparation: <br> - Hydraulics (Pipes and Pumps) ||| \\\\NEED A QUIZ\n",
    "|30 Oct 2025|Licensure and FE Exam Preparation: <br> - Hydrology (Runoff and Seepage)||| \\\\NEED A QUIZ\n",
    "|04 Nov 2025|Licensure and FE Exam Preparation: <br> - Water Quality, Testing, and Treatment (Environmental) ||| \\\\NEED A QUIZ (envionrmental)\n",
    "|06 Nov 2025|Licensure and FE Exam Preparation: <br> - Materials Science ||| \\\\quiz programmed \n",
    "|11 Nov 2025|Licensure and FE Exam Preparation: <br> - Geotechnical Engineering||| \\\\quiz programmed \n",
    "|13 Nov 2025|Licensure and FE Exam Preparation: <br> - Transportation Engineering||| \\quiz programmed\n",
    "|18 Nov 2025|Licensure and FE Exam Preparation: <br> - Construction Engineering||| \\\\quiz programmed\n",
    "|20 Nov 2025|||| \\\\environmental\n",
    "|25 Nov 2025|<font color=\"green\">No Class (Self-study)</font>|||\n",
    "|02 Dec 2025|Review||| \\\\ or some bullshit topic\n",
    "|08 Dec 2025|<font color=\"red\">Final Exam (on Canvas)</font>|||"
   ]
  },
  {
   "cell_type": "code",
   "execution_count": null,
   "id": "4b16ed06-368b-4548-88d5-14bbdd773a90",
   "metadata": {},
   "outputs": [],
   "source": []
  }
 ],
 "metadata": {
  "kernelspec": {
   "display_name": "Python Common Environment",
   "language": "python",
   "name": "python-my-env"
  },
  "language_info": {
   "codemirror_mode": {
    "name": "ipython",
    "version": 3
   },
   "file_extension": ".py",
   "mimetype": "text/x-python",
   "name": "python",
   "nbconvert_exporter": "python",
   "pygments_lexer": "ipython3",
   "version": "3.10.12"
  }
 },
 "nbformat": 4,
 "nbformat_minor": 5
}