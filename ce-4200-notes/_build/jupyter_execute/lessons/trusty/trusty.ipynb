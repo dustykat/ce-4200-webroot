{
 "cells": [
  {
   "cell_type": "markdown",
   "metadata": {},
   "source": [
    "# Trust and Trustworthiness\n",
    "\n",
    "** Transfer notes below into Jupyter{Book} format and formal typeset.**\n",
    "\n",
    "Review notes by Dr. Lawson at [Trust and Trustworthiness (.pdf notes)](http://54.243.252.9/ce-4200-webroot/ce-4200-notes/LECTURE-SOURCE/LECTURE_2_OK-GEOINST_PRES_Trust&Trustworthiness.pdf)\n",
    "## Trust Model(s)\n",
    "Trust in engineering - why does it matter?\n",
    "\n",
    "## Zero-Trust Model(s)\n",
    "\n",
    "How does this relate to professional engineering?\n",
    "\n",
    "[Zero-Trust Model (browser search of the mighty internet)](https://www.akamai.com/our-thinking/zero-trust/zero-trust-security-model?gclid=EAIaIQobChMIl9bQhKHj_AIVFBTUAR1FwQjNEAAYBCAAEgL6qPD_BwE&utm_source=google&utm_medium=cpc&utm_campaign=F-MC-57661&utm_term=zero%20trust&utm_content=US&ef_id=EAIaIQobChMIl9bQhKHj_AIVFBTUAR1FwQjNEAAYBCAAEgL6qPD_BwE:G:s&s_kwcid=AL!5241!3!587547811179!e!!g!!zero%20trust%20model!16563846121!131400992781)\n",
    "\n",
    "[Zero-Trust Model (IBM)](https://www.ibm.com/topics/zero-trust)\n",
    "\n",
    "  What do design codes and manuals of practice do for us?\n",
    "\n",
    "## References\n",
    "\n",
    "1. [Handout Trust and Trustworthiness](http://54.243.252.9/ce-4200-webroot/ce-4200-notes/LECTURE-SOURCE/LECTURE_2_OK-GEOINST_PRES_Trust&Trustworthiness-handout.pdf)\n",
    "2. [Trust and Trustworthiness (pptx) source file](http://54.243.252.9/ce-4200-webroot/ce-4200-notes/LECTURE-SOURCE/LECTURE_2_OK-GEOINST_PRES_Trust&Trustworthiness.pptx)"
   ]
  },
  {
   "cell_type": "code",
   "execution_count": null,
   "metadata": {},
   "outputs": [],
   "source": []
  }
 ],
 "metadata": {
  "kernelspec": {
   "display_name": "Python 3",
   "language": "python",
   "name": "python3"
  },
  "language_info": {
   "codemirror_mode": {
    "name": "ipython",
    "version": 3
   },
   "file_extension": ".py",
   "mimetype": "text/x-python",
   "name": "python",
   "nbconvert_exporter": "python",
   "pygments_lexer": "ipython3",
   "version": "3.10.12"
  }
 },
 "nbformat": 4,
 "nbformat_minor": 4
}