{
 "cells": [
  {
   "cell_type": "code",
   "execution_count": 1,
   "metadata": {},
   "outputs": [
    {
     "name": "stdout",
     "output_type": "stream",
     "text": [
      "Strain 4.77e-05\n",
      "Initial length : 146.608  inches\n"
     ]
    }
   ],
   "source": [
    "import math\n",
    "# input values\n",
    "elastic_modulus = 10.0e06 #psi\n",
    "diameter = 2.0 #inches\n",
    "axial_load = 1500 #lbf\n",
    "delta_L = 0.007 #inches\n",
    "# calculated values\n",
    "epsilon = (4.0*axial_load)/(elastic_modulus*math.pi*diameter**2)\n",
    "initial_length=delta_L/epsilon\n",
    "# result\n",
    "print(\"Strain\",round(epsilon,7))\n",
    "print(\"Initial length :\",round(initial_length,3),\" inches\")"
   ]
  },
  {
   "cell_type": "code",
   "execution_count": 2,
   "metadata": {},
   "outputs": [
    {
     "name": "stdout",
     "output_type": "stream",
     "text": [
      "Radius change : -1.58e-05  inches\n"
     ]
    }
   ],
   "source": [
    "poisson_ratio = 0.33\n",
    "deltaR = -poisson_ratio*epsilon*(0.5*diameter)\n",
    "print(\"Radius change :\",round(deltaR,7),\" inches\")"
   ]
  }
 ],
 "metadata": {
  "kernelspec": {
   "display_name": "Python 3",
   "language": "python",
   "name": "python3"
  },
  "language_info": {
   "codemirror_mode": {
    "name": "ipython",
    "version": 3
   },
   "file_extension": ".py",
   "mimetype": "text/x-python",
   "name": "python",
   "nbconvert_exporter": "python",
   "pygments_lexer": "ipython3",
   "version": "3.8.10"
  }
 },
 "nbformat": 4,
 "nbformat_minor": 4
}