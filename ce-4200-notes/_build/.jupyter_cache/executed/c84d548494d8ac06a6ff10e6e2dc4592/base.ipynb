{
 "cells": [
  {
   "cell_type": "code",
   "execution_count": 1,
   "metadata": {},
   "outputs": [
    {
     "name": "stdout",
     "output_type": "stream",
     "text": [
      "Strain 4.77e-05\n",
      "Initial length : 146.608  inches\n"
     ]
    }
   ],
   "source": [
    "import math\n",
    "# input values\n",
    "elastic_modulus = 10.0e06 #psi\n",
    "diameter = 2.0 #inches\n",
    "axial_load = 1500 #lbf\n",
    "delta_L = 0.007 #inches\n",
    "# calculated values\n",
    "epsilon = (4.0*axial_load)/(elastic_modulus*math.pi*diameter**2)\n",
    "initial_length=delta_L/epsilon\n",
    "# result\n",
    "print(\"Strain\",round(epsilon,7))\n",
    "print(\"Initial length :\",round(initial_length,3),\" inches\")"
   ]
  },
  {
   "cell_type": "code",
   "execution_count": 2,
   "metadata": {},
   "outputs": [
    {
     "name": "stdout",
     "output_type": "stream",
     "text": [
      "Radius change : -1.58e-05  inches\n"
     ]
    }
   ],
   "source": [
    "poisson_ratio = 0.33\n",
    "deltaR = -poisson_ratio*epsilon*(0.5*diameter)\n",
    "print(\"Radius change :\",round(deltaR,7),\" inches\")"
   ]
  },
  {
   "cell_type": "code",
   "execution_count": 3,
   "metadata": {},
   "outputs": [
    {
     "name": "stdout",
     "output_type": "stream",
     "text": [
      "sigma_min 33.82\n",
      "sigma_max 56.18\n",
      "tau_max 11.18\n"
     ]
    }
   ],
   "source": [
    "sigma_x = 40\n",
    "sigma_y = 50\n",
    "tau_xy = 10\n",
    "import math\n",
    "sigma_min = 0.5*(sigma_x+sigma_y)-math.sqrt((0.5*(sigma_x-sigma_y))**2 + tau_xy**2)\n",
    "sigma_max = 0.5*(sigma_x+sigma_y)+math.sqrt((0.5*(sigma_x-sigma_y))**2 + tau_xy**2)\n",
    "tau_max = math.sqrt((0.5*(sigma_x-sigma_y))**2 + tau_xy**2)\n",
    "print(\"sigma_min\",round(sigma_min,3))\n",
    "print(\"sigma_max\",round(sigma_max,3))\n",
    "print(\"tau_max\",round(tau_max,3))"
   ]
  },
  {
   "cell_type": "code",
   "execution_count": 4,
   "metadata": {},
   "outputs": [
    {
     "name": "stdout",
     "output_type": "stream",
     "text": [
      "sigma_min -166.89\n",
      "sigma_max 231.89\n",
      "tau_max 199.39\n"
     ]
    }
   ],
   "source": [
    "sigma_x = -140\n",
    "sigma_y = 205\n",
    "tau_xy = 100\n",
    "import math\n",
    "sigma_min = 0.5*(sigma_x+sigma_y)-math.sqrt((0.5*(sigma_x-sigma_y))**2 + tau_xy**2)\n",
    "sigma_max = 0.5*(sigma_x+sigma_y)+math.sqrt((0.5*(sigma_x-sigma_y))**2 + tau_xy**2)\n",
    "tau_max = math.sqrt((0.5*(sigma_x-sigma_y))**2 + tau_xy**2)\n",
    "print(\"sigma_min\",round(sigma_min,3))\n",
    "print(\"sigma_max\",round(sigma_max,3))\n",
    "print(\"tau_max\",round(tau_max,3))"
   ]
  },
  {
   "cell_type": "code",
   "execution_count": 5,
   "metadata": {},
   "outputs": [
    {
     "name": "stdout",
     "output_type": "stream",
     "text": [
      "sigma_min -166.89\n",
      "sigma_max 231.89\n",
      "tau_max 199.39\n"
     ]
    }
   ],
   "source": [
    "sigma_x = -140\n",
    "sigma_y = 205\n",
    "tau_xy = 100\n",
    "import math\n",
    "sigma_min = 0.5*(sigma_x+sigma_y)-math.sqrt((0.5*(sigma_x-sigma_y))**2 + tau_xy**2)\n",
    "sigma_max = 0.5*(sigma_x+sigma_y)+math.sqrt((0.5*(sigma_x-sigma_y))**2 + tau_xy**2)\n",
    "tau_max = math.sqrt((0.5*(sigma_x-sigma_y))**2 + tau_xy**2)\n",
    "print(\"sigma_min\",round(sigma_min,3))\n",
    "print(\"sigma_max\",round(sigma_max,3))\n",
    "print(\"tau_max\",round(tau_max,3))"
   ]
  },
  {
   "cell_type": "code",
   "execution_count": 6,
   "metadata": {},
   "outputs": [
    {
     "name": "stdout",
     "output_type": "stream",
     "text": [
      "Theta_1 -15.051\n",
      "Theta_2 74.949\n"
     ]
    }
   ],
   "source": [
    "sigma_x = -140\n",
    "sigma_y = 205\n",
    "tau_xy = 100\n",
    "import math\n",
    "tan2theta=2*tau_xy/(sigma_x-sigma_y)\n",
    "two_theta=math.atan(tan2theta)\n",
    "two_theta=two_theta*(180/math.pi)\n",
    "one_theta=two_theta/2\n",
    "print(\"Theta_1\",round(one_theta,3))\n",
    "print(\"Theta_2\",round(one_theta+90,3))\n"
   ]
  }
 ],
 "metadata": {
  "kernelspec": {
   "display_name": "Python 3 (ipykernel)",
   "language": "python",
   "name": "python3"
  },
  "language_info": {
   "codemirror_mode": {
    "name": "ipython",
    "version": 3
   },
   "file_extension": ".py",
   "mimetype": "text/x-python",
   "name": "python",
   "nbconvert_exporter": "python",
   "pygments_lexer": "ipython3",
   "version": "3.10.12"
  }
 },
 "nbformat": 4,
 "nbformat_minor": 4
}