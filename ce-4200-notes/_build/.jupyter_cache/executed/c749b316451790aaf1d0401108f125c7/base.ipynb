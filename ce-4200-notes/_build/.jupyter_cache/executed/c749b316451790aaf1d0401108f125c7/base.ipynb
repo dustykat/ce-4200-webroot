{
 "cells": [
  {
   "cell_type": "code",
   "execution_count": 1,
   "id": "f56480dc-1d73-4d65-a388-c115c3bb534d",
   "metadata": {},
   "outputs": [
    {
     "data": {
      "text/html": [
       "<style> table {margin-left: 0 !important;} </style>\n"
      ],
      "text/plain": [
       "<IPython.core.display.HTML object>"
      ]
     },
     "metadata": {},
     "output_type": "display_data"
    }
   ],
   "source": [
    "%%html\n",
    "<style> table {margin-left: 0 !important;} </style>"
   ]
  },
  {
   "cell_type": "code",
   "execution_count": 2,
   "id": "9828543e-0d42-4dd2-bbf8-8cc9c5020664",
   "metadata": {
    "scrolled": true
   },
   "outputs": [
    {
     "name": "stdout",
     "output_type": "stream",
     "text": [
      "Hostname: ip-172-26-5-168\n",
      "User: sensei\n",
      "Python Executable: /opt/jupyterhub/bin/python3\n",
      "Python Version: 3.10.12 (main, Aug 15 2025, 14:32:43) [GCC 11.4.0]\n",
      "Python Version Info: sys.version_info(major=3, minor=10, micro=12, releaselevel='final', serial=0)\n"
     ]
    }
   ],
   "source": [
    "import sys, subprocess; hostname = subprocess.check_output(\"hostname\", shell=True, text=True).strip(); username = subprocess.check_output(\"whoami\", shell=True, text=True).strip(); python_executable = sys.executable; python_version = sys.version; python_version_info = sys.version_info; print(f\"Hostname: {hostname}\\n\" f\"User: {username}\\n\" f\"Python Executable: {python_executable}\\n\" f\"Python Version: {python_version}\\n\" f\"Python Version Info: {python_version_info}\")"
   ]
  }
 ],
 "metadata": {
  "kernelspec": {
   "display_name": "Python Common Environment",
   "language": "python",
   "name": "python-my-env"
  },
  "language_info": {
   "codemirror_mode": {
    "name": "ipython",
    "version": 3
   },
   "file_extension": ".py",
   "mimetype": "text/x-python",
   "name": "python",
   "nbconvert_exporter": "python",
   "pygments_lexer": "ipython3",
   "version": "3.10.12"
  }
 },
 "nbformat": 4,
 "nbformat_minor": 5
}