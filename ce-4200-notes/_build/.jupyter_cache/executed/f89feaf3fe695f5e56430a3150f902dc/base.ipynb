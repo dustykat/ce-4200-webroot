{
 "cells": [
  {
   "cell_type": "code",
   "execution_count": 1,
   "id": "b2cc3034-1b9e-4cc6-84a7-874f33cf352f",
   "metadata": {},
   "outputs": [
    {
     "name": "stdout",
     "output_type": "stream",
     "text": [
      "0 17500.0 8500.0\n",
      "1 20000.0 16000.0\n",
      "2 5000.0 15000.0\n",
      "3 5000.0 15000.0\n",
      "4 5000.0 15000.0\n",
      "5 5000.0 15000.0\n",
      "6 5000.0 15000.0\n",
      "7 5000.0 15000.0\n",
      "8 5000.0 15000.0\n",
      "9 5000.0 15000.0\n",
      "10 5000.0 15000.0\n",
      "11 5000.0 15000.0\n",
      "12 5000.0 15000.0\n",
      "13 5000.0 15000.0\n",
      "14 5000.0 15000.0\n"
     ]
    }
   ],
   "source": [
    "machine_cost = 15000 # given\n",
    "cpu_machine = 0.50 # given\n",
    "hand_tools = 1000 # given\n",
    "cpu_hand = 1.50\n",
    "units = 5000\n",
    "\n",
    "annual_cost_machine = [0 for i in range(15)] #prepopulate a list with 0, for 15 years\n",
    "accum_cost_machine = [0 for i in range(15)]\n",
    "annual_cost_hand = [0 for i in range(15)] #prepopulate a list with 0, for 15 years\n",
    "accum_cost_hand = [0 for i in range(15)]\n",
    "# year 0\n",
    "annual_cost_machine[0] = machine_cost+cpu_machine*units\n",
    "annual_cost_hand[0] = hand_tools+cpu_hand*units\n",
    "accum_cost_machine[0]=annual_cost_machine[0]\n",
    "accum_cost_hand[0]=annual_cost_hand[0]\n",
    "\n",
    "for year in range(1,15):\n",
    "    annual_cost_machine[year]=cpu_machine*units\n",
    "    annual_cost_hand[year]=cpu_hand*units\n",
    "    accum_cost_machine[year]=annual_cost_machine[year-1]+cpu_machine*units\n",
    "    accum_cost_hand[year]=annual_cost_hand[year-1]+cpu_hand*units\n",
    "\n",
    "for year in range(15):\n",
    "    print(year,accum_cost_machine[year],accum_cost_hand[year])"
   ]
  }
 ],
 "metadata": {
  "kernelspec": {
   "display_name": "Python Common Environment",
   "language": "python",
   "name": "python-my-env"
  },
  "language_info": {
   "codemirror_mode": {
    "name": "ipython",
    "version": 3
   },
   "file_extension": ".py",
   "mimetype": "text/x-python",
   "name": "python",
   "nbconvert_exporter": "python",
   "pygments_lexer": "ipython3",
   "version": "3.10.12"
  }
 },
 "nbformat": 4,
 "nbformat_minor": 5
}