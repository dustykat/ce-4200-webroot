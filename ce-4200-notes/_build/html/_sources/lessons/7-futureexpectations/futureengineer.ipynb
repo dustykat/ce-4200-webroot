{
 "cells": [
  {
   "cell_type": "markdown",
   "metadata": {},
   "source": [
    "# 2.0 Expectations of an Engineer\n",
    "\n",
    ":::{admonition} Course Website \n",
    "http://54.243.252.9/ce-4200-webroot/ \n",
    ":::"
   ]
  },
  {
   "cell_type": "markdown",
   "metadata": {},
   "source": [
    "## Readings\n",
    "\n",
    "1. [Lawson (2022), *Early Career Guidance* Lecture to accompany CE 4200, Whitacre College of Engineering, Texas Tech University](http://54.243.252.9/ce-4200-webroot/ce-4200-notes/LECTURE-SOURCE/LECTURE4_CE4200EarlyCareerGuidance-S2022.pdf)\n",
    "\n",
    "2. [Lawson (2022), *Early Career Guidance* Handout to accompany CE 4200, Whitacre College of Engineering, Texas Tech University](http://54.243.252.9/ce-4200-webroot/ce-4200-notes/LECTURE-SOURCE/LECTURE4_CE4200EarlyCareerGuidance-S2022-handout.pdf)\n",
    "\n",
    "3. [Environmental Engineering BOK](https://www.aaees.org/assets/docs/publications/EEBodyofKnowledge.pdf)\n",
    "\n"
   ]
  },
  {
   "cell_type": "markdown",
   "metadata": {},
   "source": [
    "## Videos\n",
    "1. [7 Most Important Skills for a Civil Engineer to Succeed (updated)](https://youtu.be/HAx7E3Bu7gA)\n",
    "<!--2. [Civil Engineering: Reality vs Expectations](https://youtu.be/FNzgEo01Zk4/)-->\n",
    "3. [What Do Civil Engineers Do? ](https://youtu.be/FssJcjOIB7A)\n",
    "4. [Pros and Cons of of being a Civil Engineer](https://youtu.be/kYEhKzBJUqo)\n",
    "5. [Highest Paying Countries for Civil Engineer (Civil Engineering)](https://youtu.be/v46cZM7iDio)"
   ]
  },
  {
   "cell_type": "markdown",
   "metadata": {},
   "source": [
    "## Future Expectations of a Civil Engineer\n",
    "\n",
    "The role of a civil engineer has always been pivotal in shaping the infrastructure and urban landscapes we rely on daily. As we move further into the 21st century, the expectations for civil engineers are rapidly evolving, driven by technological advancements, environmental challenges, and the need for sustainable development.\n",
    "\n",
    "**Technological Integration**\n",
    "\n",
    "One of the most significant expectations for future civil engineers is the integration of cutting-edge technology into their work. With the advent of smart cities, engineers are now expected to be proficient in using digital tools like **Building Information Modeling (BIM)**, **Geographic Information Systems (GIS)**, and **artificial intelligence (AI)**. These technologies allow for more efficient design, construction, and maintenance processes, reducing costs and improving the overall quality of projects. Engineers will need to continually update their skills to keep pace with these technological changes.\n",
    "\n",
    "<!--One of the most significant expectations for future civil engineers is the integration of cutting-edge technology into their work. With the advent of smart cities, engineers are now expected to be proficient in using digital tools like Building Information Modeling (BIM), Geographic Information Systems (GIS), and artificial intelligence. These technologies allow for more efficient design, construction, and maintenance processes, reducing costs and improving the overall quality of projects. Engineers will need to continually update their skills to keep pace with these technological changes.-->\n",
    "\n",
    "**Sustainability and Environmental Stewardship**\n",
    "\n",
    "Another critical expectation is the focus on **sustainability**. As the world grapples with climate change and resource depletion, civil engineers are expected to design and construct infrastructure that minimizes environmental impact. This includes:\n",
    "- Utilizing **green building materials**.\n",
    "- Designing **energy-efficient structures**.\n",
    "- Incorporating **renewable energy sources** into projects.\n",
    "\n",
    "Future civil engineers will also play a key role in developing **resilient infrastructure** that can withstand extreme weather events, ensuring safety and longevity in the built environment.\n",
    "\n",
    "<!--Another critical expectation is the focus on sustainability. As the world grapples with climate change and resource depletion, civil engineers are expected to design and construct infrastructure that minimizes environmental impact. This includes utilizing green building materials, designing energy-efficient structures, and incorporating renewable energy sources into their projects. Future civil engineers will also play a key role in developing resilient infrastructure that can withstand the effects of extreme weather events, ensuring the safety and longevity of the built environment.-->\n",
    "\n",
    "**Global and Cultural Awareness**\n",
    "\n",
    "As the world becomes more interconnected, civil engineers must develop a **global perspective**. Projects often span multiple countries and require an understanding of diverse cultural, regulatory, and environmental contexts. Engineers are expected to:\n",
    "- Be adaptable and work effectively in multicultural teams.\n",
    "- Communicate across cultural and linguistic barriers.\n",
    "\n",
    "This global awareness is essential for managing international projects and ensuring infrastructure development aligns with local needs and values.\n",
    "\n",
    "\n",
    "<!--As the world becomes more interconnected, civil engineers must also develop a global perspective. Projects often span multiple countries and require an understanding of diverse cultural, regulatory, and environmental contexts. Engineers are expected to be adaptable, working effectively in multicultural teams and communicating across different cultural and linguistic barriers. This global awareness is essential for successfully managing international projects and ensuring that infrastructure development aligns with local needs and values.-->\n",
    "\n",
    "**Ethical Responsibility and Public Welfare**\n",
    "\n",
    "Ethics and public welfare have always been at the core of civil engineering, but these expectations are intensifying. Engineers are expected to:\n",
    "- Address social issues such as **affordable housing**, **access to clean water**, and **equitable infrastructure development**.\n",
    "- Navigate complex ethical dilemmas, balancing the needs of stakeholders while upholding public safety and welfare.\n",
    "\n",
    "A strong commitment to ethical principles and a deep understanding of the societal impact of engineering decisions are now indispensable.\n",
    "\n",
    "<!--Ethics and public welfare have always been at the core of civil engineering, but the expectations in this area are intensifying. Engineers are now expected to be proactive in addressing social issues such as affordable housing, access to clean water, and equitable infrastructure development. They must also navigate complex ethical dilemmas, balancing the needs of various stakeholders while upholding the safety, health, and welfare of the public. This requires a strong commitment to ethical principles and a deep understanding of the societal impact of engineering decisions.-->\n",
    "\n",
    "**Lifelong Learning and Professional Development**\n",
    "\n",
    "Finally, future civil engineers are expected to embrace **lifelong learning**. The rapid pace of technological innovation, evolving environmental challenges, and shifting societal needs mean engineers must continuously update their knowledge and skills. Strategies include:\n",
    "- Pursuing ongoing education and certifications.\n",
    "- Participating in industry organizations.\n",
    "- Staying informed about emerging trends.\n",
    "\n",
    "\n",
    "<!--Finally, the future civil engineer is expected to embrace lifelong learning. The rapid pace of technological innovation, evolving environmental challenges, and shifting societal needs mean that engineers must continuously update their knowledge and skills. Professional development, through ongoing education, certifications, and participation in industry organizations, will be crucial for staying relevant and effective in the field.-->\n",
    "\n",
    "<!--In conclusion, the future expectations of a civil engineer are vast and multifaceted. They encompass technological proficiency, sustainability, global awareness, ethical responsibility, and a commitment to lifelong learning. Meeting these expectations will not only ensure the success of individual engineers but also contribute to the advancement of society as a whole.\n",
    "-->\n",
    "\n",
    ":::{admonition} Digest\n",
    "The future expectations of a civil engineer are vast and multifaceted. They encompass **technological proficiency**, **sustainability**, **global awareness**, **ethical responsibility**, and a commitment to **lifelong learning**. Meeting these expectations will not only your success but also contribute to the advancement of society.\n",
    ":::"
   ]
  },
  {
   "cell_type": "markdown",
   "metadata": {},
   "source": [
    "## Discussion\n",
    "- Are any of these expectations described in the ASCE BOK? If yes where?\n",
    "- What do you think about the essay above? Does it coincide with your expectations and aspirations as an engineer?  What's missing?\n",
    "\n",
    "## End of Section\n",
    "\n",
    "1. [Future Engineer Expectations Quiz Preview](http://54.243.252.9/ce-4200-webroot/ce-4200-notes/lessons/7-futureexpectations/FutureExpectations.pdf)"
   ]
  }
 ],
 "metadata": {
  "kernelspec": {
   "display_name": "Python 3 (ipykernel)",
   "language": "python",
   "name": "python3"
  },
  "language_info": {
   "codemirror_mode": {
    "name": "ipython",
    "version": 3
   },
   "file_extension": ".py",
   "mimetype": "text/x-python",
   "name": "python",
   "nbconvert_exporter": "python",
   "pygments_lexer": "ipython3",
   "version": "3.10.12"
  }
 },
 "nbformat": 4,
 "nbformat_minor": 4
}
