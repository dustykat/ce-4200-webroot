{
 "cells": [
  {
   "cell_type": "markdown",
   "metadata": {},
   "source": [
    "# 3.1 Evaluation of Safety Considerations \n",
    "Safety is addressed directly in your laboratory classes, but safety itself is a broader topic.  It is largely the management of uncertainty - more uncertain, more effort at mitigation.  Here we quickly review safety considerations.  "
   ]
  },
  {
   "attachments": {},
   "cell_type": "markdown",
   "metadata": {},
   "source": [
    ":::{admonition} Course Website \n",
    "http://54.243.252.9/ce-4200-webroot/ \n",
    ":::\n",
    "\n",
    "## Readings/References\n",
    "\n",
    "<!--1. OpenAI (2024). Prompt: \"Can you prepare a short script outline (for 40 minute presentation) on \"Evaluation of Public Health Considerations\" in the context of engineering design? The audience is engineering students about 4 years away from license eligibility\".  ChatGPT-4.0.  URL `https://chatgpt.com/c/66e1f0a5-21cc-800d-8b5a-ee9d9e8d2835`  \n",
    "\n",
    ":::{note}\n",
    "\"The OpenAI URL provided in references helps retrieve specific content shared, but information is not publicly recoverable unless required by legal obligations.\"\n",
    ":::\n",
    "-->\n",
    "\n",
    "1. [Design of blast-resistant buildings in petrochemical facilities / prepared by Task Committee on Blast- Resistant Design of the Petrochemical Committee of the Energy Division of the American Society of Civil Engineers. -- 2nd ed.](http://54.243.252.9/ce-4200-webroot/ce-4200-notes/lessons/5-safety/Design_of_Blast-Resistant_Buildings_in_Petrochemical_Facilities_V2.pdf)\n",
    "\n",
    "2. [Investigation of Wind-Rain-Induced Cable-Stay Vibrations on Cable-Stayed Bridges, Final Report TX-0-1400-1, R.S. Phelan, K.C. Mehta, P.P. Sarkar & L. Chen, , Texas Tech University, Department of Civil Engineering. (2005)](https://library.ctr.utexas.edu/digitized/texasarchive/phase1/1400-1.pdf)\n",
    "\n",
    "## Videos\n",
    "\n",
    "1. [none](#)"
   ]
  },
  {
   "cell_type": "markdown",
   "metadata": {},
   "source": [
    "## Why Safety Matters in Engineering Design\n",
    "\n",
    "As engineers, we are tasked with solving problems, but those solutions must also be safe for users, the environment, and the general public.\n",
    "\n",
    "Key Points:\n",
    "\n",
    "- Public Safety: Engineering designs must ensure public safety and minimize risks. For example, bridges must support weight under various conditions, electrical systems must prevent fires, and products should not harm users.\n",
    "- Regulatory Compliance: Engineers must meet safety standards set by industry and governmental agencies, like OSHA or the National Institute of Standards and Technology (NIST).\n",
    "- Professional Responsibility: According to the NSPE Code of Ethics, engineers must hold paramount the safety, health, and welfare of the public. This is non-negotiable in any project."
   ]
  },
  {
   "cell_type": "markdown",
   "metadata": {},
   "source": [
    "## Risk Assessment and Hazard Identification\n",
    "\n",
    "The first step in ensuring safety is to identify potential hazards and assess the risks they pose. This is often done through methods like Hazard Analysis or Failure Mode and Effects Analysis (FMEA).\n",
    "\n",
    "Key Points:\n",
    "\n",
    "- Risk Assessment: Involves identifying potential failure modes, estimating their likelihood, and evaluating their impact.\n",
    "- Types of Hazards: Hazards can be physical (mechanical failures), chemical (toxic releases), environmental (natural disasters), or human-related (operator errors).\n",
    "- Design Phase Considerations: Safety assessments must be built into the design phase, not after. If you find and address hazards early, you can design them out of the system.\n",
    "\n",
    ":::{admonition} Choosing the right materials, and using enough \n",
    "Examples that epitomize the safety-influenced principle of \"**Choosing the right materials, and using enough**\":\n",
    "\n",
    "1. Designing Structural Foundations: Foundations are critical to safely transfer building loads to the soil. Choosing the appropriate material (e.g., reinforced concrete, steel piles, or geosynthetics) ensures strength, durability, and resistance to environmental factors like frost heave or expansive soils. Insufficient materials or using unsuitable types (e.g., unreinforced concrete in unstable soils) can lead to settlement or failure.\n",
    "\n",
    "2. Pavement Design and Construction: In designing roadways, selecting the right mix of asphalt, concrete, or stabilized aggregates ensures durability under traffic loads. Using the correct thickness for each layer (subgrade, base, and surface) prevents premature cracking and deformation. Under-designed pavements or subpar material choices lead to potholes, rutting, and costly repairs.\n",
    "\n",
    "3. Building Bridges: Bridge construction demands materials like high-strength concrete, steel, or composite materials. Factors such as span length, load, and environmental conditions influence these choices. Insufficient materials (e.g., inadequate reinforcement or wrong steel grade) or corrosion-susceptible choices can compromise safety and longevity.\n",
    "\n",
    "4. Dams and Water Retention Structures: Materials for dams must resist hydraulic pressure and weathering. Clay for cores, rock fill for stability, or reinforced concrete for spillways are common choices. Incorrect or insufficient materials can result in seepage, structural failure, or catastrophic flooding.\n",
    "\n",
    "5. Retaining Walls: Retaining walls require careful material selection, such as reinforced concrete, masonry blocks, or geotextiles, depending on the height and backfill pressure. Sufficient reinforcement and appropriate wall thickness are crucial. Poor material selection or inadequate reinforcement leads to wall overturning, sliding, or collapse.\n",
    "\n",
    "All these examples have a common theme; resisting huge forces (and/or huge accelerations).\n",
    ":::"
   ]
  },
  {
   "cell_type": "markdown",
   "metadata": {},
   "source": [
    "### Understanding Uncertainty in Engineering Design\n",
    "\n",
    "Uncertainty comes from a variety of sources. It can stem from:\n",
    "\n",
    "1. Inherent Variability: Natural systems, like the weather, water flow, or soil conditions, are not perfectly predictable. For example, in structural design, the load variability from wind, earthquakes, or traffic introduces uncertainty into our calculations.\n",
    "\n",
    "2. Lack of Knowledge:When dealing with new technologies or materials, we often lack complete information about how they will perform over time. In emerging fields like renewable energy, for instance, engineers must consider the uncertainties in long-term performance data for materials like solar panels or batteries.\n",
    "\n",
    "3. Modeling Limitations: The models we use to simulate behavior often make assumptions that introduce uncertainty. Simplified models may fail to capture complex interactions between different factors, such as in fluid dynamics or thermal simulations.\n",
    "\n",
    "4. Human Factors: Uncertainty also arises from human error—whether it's operational mistakes, maintenance lapses, or incorrect assumptions during design and construction(therefore encompassing \"lack of knowledge\" and \"model limitations\" as human error).\n",
    "\n",
    "In each of these cases, engineers manage uncertainty by adopting risk mitigation strategies. As uncertainty increases, so should our efforts to ensure safety.\n",
    "\n",
    "### Uncertainty and Safety Effort—A Proportional Relationship\n",
    "\n",
    "A key principle: The greater the uncertainty, the greater the effort required to mitigate risk.  Strategies include:\n",
    "\n",
    "1. Conservative Design: When uncertainty is high, we must design conservatively by increasing safety margins. This means designing structures to withstand conditions far beyond what we expect, just in case something unpredictable happens. Example: In earthquake-prone areas, buildings are often designed to handle seismic forces that are much higher than the most severe quake on record, accounting for the uncertainty in predicting future events.\n",
    "\n",
    "2. Redundancy: In situations with high uncertainty, engineers often use redundant systems to add layers of safety. Redundancy ensures that if one system fails, others can take over.  Example: In aviation, where uncertainty is high due to changing weather and complex mechanical systems, airplanes are designed with multiple engines, backup controls, and emergency systems.\n",
    "\n",
    "3. Advanced Monitoring and Feedback: One way to deal with uncertainty is by using real-time monitoring systems to gather data and adjust operations based on current conditions. Example: Large infrastructure projects, like dams and bridges, are equipped with sensors that monitor structural health, giving engineers critical information about how the system is performing under real-world conditions.\n",
    "\n",
    "4. Worst-Case Scenario Planning: When uncertainty is significant, engineers must evaluate worst-case scenarios and design systems that can handle extreme but possible conditions. Example: In chemical engineering, plants are designed to withstand potential explosions or hazardous material releases, even if the likelihood of such events is low. "
   ]
  },
  {
   "cell_type": "markdown",
   "metadata": {},
   "source": [
    "### Case Study: Uncertainty in the Management of Flood Risks\n",
    "\n",
    "Consider the real-world example of managing uncertainty in flood risk. Flood events are inherently uncertain—weather patterns, changes in land use, and climate change make it difficult to predict when or how severely flooding will occur.\n",
    "\n",
    "Key Points:\n",
    "\n",
    "- Designing for Uncertain Conditions: Engineers often design levees, dams, and stormwater systems with higher-than-expected flood levels in mind, based on historical data and future projections. However, with climate change, the uncertainty has grown, making it essential to consider extreme weather events.\n",
    "- Mitigation Strategies: To mitigate the uncertainty of flooding, flood-prone areas are often equipped with early-warning systems and emergency plans. Additionally, floodwalls and drainage systems are designed with multiple layers of protection.\n",
    "\n",
    "The more uncertain the future flood risk, the more effort must be put into designing robust infrastructure, establishing early warning systems, and creating contingency plans."
   ]
  },
  {
   "cell_type": "markdown",
   "metadata": {},
   "source": [
    "### Safety Considerations in Uncertain Environments\n",
    "\n",
    "Speaker: When uncertainty is present, safety is about managing risk proactively. Here are some strategies to consider:\n",
    "\n",
    "- Probabilistic Risk Assessment (PRA): Instead of assuming fixed outcomes, PRA quantifies uncertainty by assessing the probability of various outcomes and their potential impact. It’s used in high-risk industries like nuclear energy or aerospace.\n",
    "\n",
    "- Design for Flexibility: Design systems that can adapt to changes or unknown factors over time. For example, a bridge might be designed with expansion joints that allow for movement in response to unexpected loads or shifts in the earth.\n",
    "\n",
    "- Robust Design: Ensure that the system can withstand a range of conditions without failure. A robust design doesn’t just perform well under expected conditions; it holds up under the unexpected as well.\n",
    "\n",
    "- Iterative Testing: With high uncertainty, engineers often perform multiple rounds of testing and simulation. Each test reduces uncertainty by providing more data, leading to refinements in the design."
   ]
  },
  {
   "cell_type": "markdown",
   "metadata": {},
   "source": [
    "### Mitigating Uncertainty to Ensure Safety\n",
    "\n",
    "In summary, safety considerations become even more critical when there is uncertainty. The higher the uncertainty, the more effort is needed to ensure that our designs can withstand unpredictable conditions. Whether through conservative design, redundancy, or worst-case scenario planning, we must proactively address uncertainty to protect public safety.\n",
    "\n",
    ":::{important}\n",
    "Remember, as future engineers, it’s not about eliminating uncertainty—it’s about managing it effectively so that, even in the face of the unknown, the systems we design remain safe and reliable.\n",
    ":::"
   ]
  },
  {
   "cell_type": "markdown",
   "metadata": {},
   "source": [
    "## Designing for Safety—Key Strategies\n",
    "\n",
    "Strategies to incorporate safety into engineering designs include:\n",
    "\n",
    "1. Redundancy: Incorporating redundant systems means that if one part fails, another system can take over to prevent disaster. For example, airplanes have multiple engines, and electrical systems often have backup power sources.\n",
    "\n",
    "2. Fail-Safe Designs: Fail-safes are mechanisms that automatically bring a system to a safe state in the event of a failure. An example is a circuit breaker in electrical systems, which cuts power when a fault is detected.\n",
    "\n",
    "3. Safety Margins: Engineers use safety margins to ensure that structures or systems can withstand conditions beyond what they’re designed for. For example, a bridge may be designed to carry twice the maximum expected load to account for unforeseen stresses. (\"When in doubt built it stout!\")\n",
    "\n",
    "4. Ergonomics and Human Factors: Designs must also account for human error. Equipment, interfaces, and systems should be intuitive and designed with the user in mind to minimize the chance of misuse.  \n",
    "\n",
    ":::{admonition} Example: \n",
    "In machinery design, adding guards or automatic shut-offs to protect operators from injury is an essential safety measure.\n",
    ":::"
   ]
  },
  {
   "cell_type": "markdown",
   "metadata": {},
   "source": [
    "## Case Study: The 2010 Deepwater Horizon Incident\n",
    "\n",
    "To illustrate the importance of safety considerations, let’s briefly discuss the [Deepwater Horizon oil spill in 2010](https://www.youtube.com/watch?v=VfZlaa3VHaw). One of the largest environmental disasters in history, it was caused in part by design failures in safety systems.\n",
    "\n",
    "Key Lessons:\n",
    "\n",
    "- Poor Risk Assessment: Safety measures were either insufficient or bypassed, particularly with the blowout preventer, which failed to contain the well.\n",
    "- Lack of Redundancy: Critical systems lacked adequate backup, meaning that once one safety mechanism failed, there was no alternative in place.\n",
    "- Pressure to Cut Costs: Financial and time constraints led to shortcuts being taken with safety procedures, showing the danger of prioritizing profits over safety.\n",
    "\n",
    "This case emphasizes the importance of thorough risk assessment and ensuring that safety systems are robust and effective."
   ]
  },
  {
   "cell_type": "markdown",
   "metadata": {},
   "source": [
    "## Safety Standards and Regulations\n",
    "\n",
    "Every engineering discipline is guided by safety standards that must be adhered to. These standards are set by industry organizations, governmental bodies, and international agencies.\n",
    "\n",
    "Key Points:\n",
    "\n",
    "- ISO and ANSI Standards: Many industries are governed by ISO or ANSI standards that ensure products and processes meet minimum safety requirements.\n",
    "- Industry-Specific Standards: Fields like civil, electrical, and mechanical engineering have their own specific safety guidelines, such as building codes, electrical safety standards (NFPA 70), and machinery safety (ISO 12100).\n",
    "- Regulatory Bodies: Agencies like the Occupational Safety and Health Administration (OSHA) and Environmental Protection Agency (EPA) enforce safety standards to protect workers, the public, and the environment.\n",
    "\n",
    ":::{warning}\n",
    "Engineers deal with enormous forces.  If you cannot put enough mass between you (or your clients) and the force, then you need to locate yourself outside the line-of-action of that force.  Its quite possible to operate with phenomenally dangerous forces, if you can remember to get away from of the line of action! Even if an authentic accident occurs, the loss of life and limb is greatly minimized.\n",
    ":::"
   ]
  },
  {
   "cell_type": "markdown",
   "metadata": {},
   "source": [
    "## The Cost of Failing to Address Safety\n",
    "\n",
    "The cost of ignoring safety in engineering design can be catastrophic. Beyond the obvious risk to human life, there are also financial, legal, and reputational consequences.\n",
    "\n",
    "Key Points:\n",
    "\n",
    "- Human Cost: The primary risk is injury or death. Designs that fail to account for safety put lives in danger.\n",
    "- Legal Consequences: Failing to meet safety standards can lead to lawsuits, fines, and legal liability for companies and engineers.\n",
    "- Reputation: A single failure can damage the reputation of a firm or an engineer for years to come. Public trust is hard to regain after a safety-related disaster.\n",
    "\n",
    "Example: The [Tacoma Narrows Bridge collapse in 1940](https://www.youtube.com/watch?v=esfpcnQW6qs) is a classic example of engineering design failure due to inadequate knowledge of wind-induced vibrations. While there was no loss of life, the collapse led to significant financial losses and a complete redesign of suspension bridges."
   ]
  },
  {
   "cell_type": "markdown",
   "metadata": {},
   "source": [
    "##  Safety in Your Future Engineering Practice\n",
    "\n",
    "As future engineers, you’ll need to incorporate safety into every stage of your projects. This doesn’t just mean following regulations -- it means **proactively** identifying risks, **planning** for failures, and designing with safety in mind.\n",
    "\n",
    "Key Points:\n",
    "\n",
    "- Start with Safety: Safety considerations shouldn’t be an afterthought. They must be part of the design process from the very beginning.\n",
    "- Stay Current with Regulations: Safety standards evolve, and engineers must stay updated with the latest regulations and best practices.\n",
    "- Ethical Responsibility: Remember that your primary responsibility as an engineer is to protect the public. Safety is a direct extension of this ethical obligation."
   ]
  },
  {
   "cell_type": "markdown",
   "metadata": {},
   "source": [
    "## End of Section\n",
    "\n"
   ]
  },
  {
   "cell_type": "markdown",
   "metadata": {},
   "source": []
  }
 ],
 "metadata": {
  "kernelspec": {
   "display_name": "Python 3 (ipykernel)",
   "language": "python",
   "name": "python3"
  },
  "language_info": {
   "codemirror_mode": {
    "name": "ipython",
    "version": 3
   },
   "file_extension": ".py",
   "mimetype": "text/x-python",
   "name": "python",
   "nbconvert_exporter": "python",
   "pygments_lexer": "ipython3",
   "version": "3.10.12"
  }
 },
 "nbformat": 4,
 "nbformat_minor": 4
}
