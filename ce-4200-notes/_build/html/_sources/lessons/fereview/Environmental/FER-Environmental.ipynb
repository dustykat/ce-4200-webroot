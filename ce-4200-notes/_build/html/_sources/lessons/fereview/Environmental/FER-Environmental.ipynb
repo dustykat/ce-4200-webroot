{
 "cells": [
  {
   "cell_type": "markdown",
   "id": "736345c9-260f-4873-ba41-d85ac431bfa0",
   "metadata": {},
   "source": [
    "# 18. FER - Water Quality, Testing, and Treatment (Environmental)\n",
    "\n",
    ":::{warning}\n",
    "Under construction\n",
    ":::"
   ]
  },
  {
   "cell_type": "markdown",
   "id": "a9b8cce9-007a-434d-9c47-081acd01b297",
   "metadata": {},
   "source": [
    "## Readings\n",
    "\n",
    "\n",
    "1. [FE Exam Review: Environmental (UC Boulder circa 2014)](https://www.colorado.edu/ceae/sites/default/files/attached-files/EVEN-FE-review-Spring-2014.pdf)\n",
    "\n",
    "## Videos\n",
    "\n",
    "1. [FE Exam Review - FE Environmental - FE Civil - Water Quality](https://www.youtube.com/watch?v=t4iVOVI4FwU)\n",
    "2. [FE Exam Review - Water and Wastewater (13 video playlist)](https://www.youtube.com/playlist?list=PLGCZ9gpx8Qdtnty3IlJE8F7PhNJj3lf5k)\n",
    "\n",
    "---"
   ]
  },
  {
   "cell_type": "markdown",
   "id": "65222868-068a-4ddc-a7f1-b9dc676d613d",
   "metadata": {},
   "source": [
    "## Example 1.\n",
    "\n",
    "Flow in a circular pipe of diameter $1~m$ has an average velocity of $2.5~m/s$. What is the fluid velocity $10~cm$ off the borders of the circular pipe? Assume laminar flow conditions.\n",
    "\n",
    "![](flowinpipe.png)\n",
    "\n",
    "- A. 0.9 m/s\n",
    "- B. 1.8 m/s\n",
    "- C. 2.4 m/s\n",
    "- D. 0.2 m/s\n",
    "\n",
    "---\n",
    "\n",
    "## Work it out\n",
    "\n",
    "Refer to Fluid Flow Characterization section in the Fluid Mechanics chapter of the FE Reference Handbook.\n",
    "\n",
    "Flow in laminar flow conditions is assumed to have a triangular distribution where the fluid is moving the fastest at the center of the pipe and moving the slowest near the borders of the pipe. For laminar flow in a circular pipe, one can calculate what the fluid velocity is anywhere along the pipe radius via:\n",
    "\n",
    "$v(r)=v_{max}[1−(\\frac{r}{R})^2]$\n",
    "\n",
    "where:\n",
    "- $v_{max}=2 \\bar v =2(2.5m/s)=5m/s$\n",
    "- $R$=radius of the tube $=1m/2=0.5m$\n",
    "- $r$=distance from the centerline $=0.5m−(10cm/100)=0.4m$\n",
    "- $v(0.4m)=5m/s[1−(\\frac{0.4}{0.5})^2]=1.8m/s$\n",
    "\n",
    "Therefore, the fluid velocity 10 cm off the pipe border is $1.8 m/s$, so choose **B**\n",
    "\n",
    "---"
   ]
  },
  {
   "cell_type": "markdown",
   "id": "d3884f59-96ef-473b-aed0-115dceb5dd08",
   "metadata": {},
   "source": [
    "## Example 2\n",
    "\n",
    "One of the properties of polymers is:\n",
    "- A. they are generally organic compounds.\n",
    "- B. they are stable at high temperatures.\n",
    "- C. a combination of two or more materials differing in form or composition.\n",
    "- D. they are usually high density.\n",
    "\n",
    "---\n",
    "\n",
    "## Work it out\n",
    "\n",
    "Refer to the Polymers section in the Materials Science/Structure of Matter chapter of the FE Reference Handbook.\n",
    "\n",
    "Plastics (or polymers) are generally organic compounds based upon carbon and hydrogen. They are very large molecular structures. Usually they are low density and are not stable at high temperatures. They can be readily formed into complex shapes. Their strength, stiffness, and melting temperatures are generally much lower than those of metals and ceramics. Their light weight, low cost, and ease of forming make them the preferred material for many engineering applications.\n",
    "\n",
    "---"
   ]
  },
  {
   "cell_type": "markdown",
   "id": "651de4ba-86f7-41c1-856a-a441b832afb1",
   "metadata": {},
   "source": [
    "## Example 3\n",
    "\n",
    "Liquid nitrogen, when returned to the gaseous state, can displace oxygen from the air and can create an oxygen-deficient atmosphere under the right conditions.\n",
    "\n",
    "The assertion above is:\n",
    "- A.True\n",
    "- B.False\n",
    "\n",
    "---\n",
    "\n",
    "## Work it out\n",
    "\n",
    "Due to the large liquid to gas expansion that takes place upon evaporation, liquid nitrogen is capable of displacing sufficient oxygen to create an oxygen deficient environment in a small or insufficiently ventilated space, leading to the risk of asphyxiation.\n",
    "\n",
    "Choose **A**\n",
    "\n",
    "Note this question can concievably fall under the Ethics category as it pertains to compliance with regulations, codes, standards, and industrial safety.\n",
    "\n",
    ":::{note}\n",
    "Nitrogen-enriched environments are sometimes used industrially as a fire suppression strategy. By lowering the partial pressure of oxygen, these environments prevent a fire from sustaining itself. They can still be entered by workers, but only for short periods of time.\n",
    ":::\n",
    "\n",
    "\n",
    "---"
   ]
  },
  {
   "cell_type": "markdown",
   "id": "4477dbab-f911-4c84-8a88-73e0161cbb4a",
   "metadata": {},
   "source": [
    "## Example 4\n",
    "\n",
    "The purpose of sludge dewatering is to:\n",
    "- A.Decrease total solids concentration\n",
    "- B.Increase total solids concentration\n",
    "- C.Convert suspended solids into settleable solids\n",
    "- D.None of these - sludge dewatering makes no change at all in solids concentration\n",
    "\n",
    "\n",
    "## Work it Out\n",
    "\n",
    "The primary goal of sludge dewatering is to increase the concentration of solids in the material that remains after treatment. When the solids content is higher, the amount of water that must be transported (per unit volume) is reduced.\n",
    "\n",
    "This matters because disposal costs are usually based on the weight of the wet sludge (wet tons), not just the dry solids. If the sludge contains a lot of water, you end up paying to haul that water to the residuals handling or disposal site. By producing a drier “cake” with more solids, the volume and weight of water are minimized, which lowers the overall operating cost of hauling and disposal.\n",
    "\n",
    "In short: effective dewatering means you pay to move solids, not unnecessary water.\n",
    "\n",
    "Choose **B**"
   ]
  },
  {
   "cell_type": "markdown",
   "id": "b4d6bb34-d33b-48ab-90ea-cde3402f1da4",
   "metadata": {},
   "source": [
    "## Section End\n",
    "\n",
    "[Environmental Quiz Preview](dummy) NO QUIZ ENCODED YET"
   ]
  },
  {
   "cell_type": "code",
   "execution_count": null,
   "id": "36bbd1e6-b22e-43b3-9c3b-e716d5e0d510",
   "metadata": {},
   "outputs": [],
   "source": []
  }
 ],
 "metadata": {
  "kernelspec": {
   "display_name": "Python Common Environment",
   "language": "python",
   "name": "python-my-env"
  },
  "language_info": {
   "codemirror_mode": {
    "name": "ipython",
    "version": 3
   },
   "file_extension": ".py",
   "mimetype": "text/x-python",
   "name": "python",
   "nbconvert_exporter": "python",
   "pygments_lexer": "ipython3",
   "version": "3.10.12"
  }
 },
 "nbformat": 4,
 "nbformat_minor": 5
}
