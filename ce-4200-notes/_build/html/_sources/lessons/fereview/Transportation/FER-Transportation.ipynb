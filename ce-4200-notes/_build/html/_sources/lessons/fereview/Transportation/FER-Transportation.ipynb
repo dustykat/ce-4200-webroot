{
 "cells": [
  {
   "cell_type": "markdown",
   "id": "e84b1ef1-6e15-4a97-84a0-c56262072c3b",
   "metadata": {},
   "source": [
    "# 21. FER - Transportation Engineering\n",
    "\n",
    ":::{note}\n",
    "Usually an actual subject expert would give the review but no-one could be forced at the time of this writing.  So this is a YOYO topic.\n",
    ":::"
   ]
  },
  {
   "cell_type": "markdown",
   "id": "a4479b0f-79f9-4d9b-8ec1-5bd21b5b2d51",
   "metadata": {},
   "source": [
    "## Readings\n",
    "\n",
    "1. [FER-Transportation-1.pdf](http://54.243.252.9/ce-4200-webroot/ce-4200-notes/lessons/fereview/Transportation/fer_transpo.pdf)\n",
    "\n",
    "## Videos\n",
    "\n",
    "1. [FE Transportation Engineering Review Session (circa. 2022) YouTube Video by Mark Mattson, PE - SUNY Polytechnical (Utica NY Campus)](https://www.youtube.com/watch?v=3-SE8gA69WI)\n",
    "2. [FE Exam Review: Transportation Engineering](https://www.youtube.com/watch?v=us26CSISYHE&list=PLCV9OyAY5K-UcIC4udMF2OA3FyG1uyo_U&index=9)\n",
    "\n",
    "## Outline"
   ]
  },
  {
   "cell_type": "code",
   "execution_count": null,
   "id": "a9ef27c5-05a2-438b-92fb-d34ac16267c8",
   "metadata": {},
   "outputs": [],
   "source": []
  },
  {
   "cell_type": "markdown",
   "id": "a45baccc-065b-489e-9b16-025e2a1211e4",
   "metadata": {},
   "source": [
    "## Section End\n",
    "\n",
    "[Transportation Quiz Preview](http://54.243.252.9/ce-4200-webroot/ce-4200-notes/lessons/fereview/Transportation/TransportationPreview.pdf)"
   ]
  },
  {
   "cell_type": "code",
   "execution_count": null,
   "id": "0021204c-1024-4c0b-b280-1df6c0b7245c",
   "metadata": {},
   "outputs": [],
   "source": []
  }
 ],
 "metadata": {
  "kernelspec": {
   "display_name": "Python Common Environment",
   "language": "python",
   "name": "python-my-env"
  },
  "language_info": {
   "codemirror_mode": {
    "name": "ipython",
    "version": 3
   },
   "file_extension": ".py",
   "mimetype": "text/x-python",
   "name": "python",
   "nbconvert_exporter": "python",
   "pygments_lexer": "ipython3",
   "version": "3.10.12"
  }
 },
 "nbformat": 4,
 "nbformat_minor": 5
}
