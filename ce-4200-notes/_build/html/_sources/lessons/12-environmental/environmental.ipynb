{
 "cells": [
  {
   "cell_type": "markdown",
   "id": "95a3cb42-9edc-410b-babf-7960d5e20353",
   "metadata": {},
   "source": [
    "# 12. Environmental Considerations"
   ]
  },
  {
   "cell_type": "markdown",
   "id": "caeaa543-39d9-475e-908e-c87b3f6821d2",
   "metadata": {},
   "source": [
    "## End of Section"
   ]
  }
 ],
 "metadata": {
  "kernelspec": {
   "display_name": "Python Common Environment",
   "language": "python",
   "name": "python-my-env"
  },
  "language_info": {
   "codemirror_mode": {
    "name": "ipython",
    "version": 3
   },
   "file_extension": ".py",
   "mimetype": "text/x-python",
   "name": "python",
   "nbconvert_exporter": "python",
   "pygments_lexer": "ipython3",
   "version": "3.10.12"
  }
 },
 "nbformat": 4,
 "nbformat_minor": 5
}
