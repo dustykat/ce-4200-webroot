{
 "cells": [
  {
   "cell_type": "markdown",
   "metadata": {},
   "source": [
    "# Developing A Personal Career Plan\n",
    "\n",
    "**Under development** Use the [PDF link](http://54.243.252.9/ce-4200-webroot/ce-4200-notes/LECTURE-SOURCE/LECTURE4_CE4200EarlyCareerGuidance-S2022.pdf) for the in-class lesson.\n",
    "\n",
    "## INTRODUCTION\n",
    "A question frequently asked by graduating senior students is, how do I know what job to choose?  Perhaps now you are not thinking about getting a job.  But imagine that in about 6 months, you find yourself with multiple job offers, as some of our students are doing.  How would you answer this question?  This is actually a misdirected question.  More specifically:\n",
    "- Not a job, but a fit$^*$\n",
    "- Not what others want for you, but what you want for yourself\n",
    "- Not just salary, it’s about personal satisfaction \n",
    "\n",
    ":::{note}\n",
    "$^*$Fit is currently (circa 2022) a trigger word in HR circles.\n",
    ":::\n",
    "\n",
    "## JOB HUNTING 101\n",
    "You are not looking for a job.  You are looking for a good match between your skills, talents, gifts, abilities, interests and needs, and a place/way to express those in the workplace.  In this way, job hunting becomes transformed from a filtered search (numbers game) to a diligent, focused inquiry for information and insight both inward (yourself) and outward (potential employers).  \n",
    "\n",
    "Exercise: What are you good at?  Can you think of a way to express this in the workplace?\n",
    "\n",
    ":::{note}\n",
    "You have to eat, have shelter, and such.  While usually it is better to be a king in hell than a slave in heaven; There will be times in your career when these simple requirements (food, clothing, shelter) will dominate decisions, and that's OK - but have an exit plan.\n",
    ":::\n",
    "\n",
    "## DO YOU HAVE GOALS?\n",
    "It has been said that the happiest time in your life are when you are pursuing a goal.  Aimlessness is not fun. What are your goals?  What about after graduation? Where do you prefer to live? What type of work interests you? Do you plan to save money and grow wealth?  Do you think you will continue your formal education? Want to travel? Want to start a family? \n",
    "Spiritual. Vocational. Educational. Financial. Personal.\n",
    "Your assignment gets into this.\n",
    "\n",
    "## WHAT ABOUT MULTIPLE OFFERS?\n",
    "\n",
    "Learn about the companies that appear interesting to you.  \n",
    "Start with research, and refine your inquiry with the interview and office (or site) visit.  \n",
    "This is not only a great way to make a clear impression that you are deeply interested in the company, but to communicate that you have things personal and unique to offer.\n",
    "\n",
    "- Identify what is important to you. What are the factors?  Categories and subcategories.\n",
    "- Put weighting factors on these (point spread).\n",
    "- Carefully reflect on how you should rank each opportunity.\n",
    "- Sum them up.\n",
    "- Make your decision\n"
   ]
  },
  {
   "cell_type": "markdown",
   "metadata": {},
   "source": [
    "## WCOE Services\n",
    "\n",
    "- The mighty Job Fair! <br>![](jobfair2023.png)\n",
    "\n",
    "- JobGrid! <br>![](jobgrid2023.png)\n",
    "\n",
    "- If you visit WCOE pages here is the guidance for the Job Grid/Job Fairy <br>![](jobsteps2023.png)\n",
    "\n",
    "[WCOE Career Services](https://www.depts.ttu.edu/coe/careers/students/)\n",
    "\n",
    "## Other Services\n",
    "\n",
    "[Indeed.com](https://www.indeed.com/).   I know of 2 people since 2014 that found engineering jobs and accepted them using Indeed so its not bunk.\n",
    "\n",
    "[Monster.com](https://www.monster.com/).  A little more geared to IT and manufacturing chump jobs, but much like Indeed.\n",
    "\n",
    "[USA Jobs](https://www.usajobs.gov/).  All federal jobs post here - Corps of Engineers, Bureau of Reclaimation, NTSB, USGS, US EPA ....   there are a fair amount of entry level engineering jobs all over the USA and globally.  Many have citizenship requirement; but a large number only require right to work in USA.   Its a pain in the ass to get everything uploaded, but once done it is easy to apply for new jobs as they arise - i think uploads are stored on their server for 2 years, and they email you when your data is about to pumpkin.  \n",
    "\n",
    ":::{note}\n",
    "If you are a veteran, manu jobs require documents that don't exist for you - its an IQ test; I place documents that state: \"At the time of my discharge such forms/requirements did not exist hence such a form is not applicable\"  then upload as a PDF with the proper form name to get by the computer screen.  If a human ever sees your application they can institute a work around.\n",
    "\n",
    "USA Jobs knows about this flaw, but they don't have a fix yet. \n",
    ":::"
   ]
  },
  {
   "cell_type": "markdown",
   "metadata": {},
   "source": [
    "## References\n",
    "\n",
    "1. [Lawson (2022), *Early Career Guidance* Lecture to accompany CE 4200, Whitacre College of Engineering, Texas Tech University](http://54.243.252.9/ce-4200-webroot/ce-4200-notes/LECTURE-SOURCE/LECTURE4_CE4200EarlyCareerGuidance-S2022.pdf)\n",
    "\n",
    "2. [Lawson (2022), *Early Career Guidance* Handout to accompany CE 4200, Whitacre College of Engineering, Texas Tech University](http://54.243.252.9/ce-4200-webroot/ce-4200-notes/LECTURE-SOURCE/LECTURE4_CE4200EarlyCareerGuidance-S2022-handout.pdf)\n",
    "\n",
    "3. [Environmental Engineering BOK](https://www.aaees.org/assets/docs/publications/EEBodyofKnowledge.pdf)\n",
    "\n",
    "4. [ASCE BOK-2](https://ascelibrary.org/doi/book/10.1061/9780784409657) You will need this for the homework; although BOK-3 may be sufficient."
   ]
  },
  {
   "cell_type": "code",
   "execution_count": null,
   "metadata": {},
   "outputs": [],
   "source": []
  }
 ],
 "metadata": {
  "kernelspec": {
   "display_name": "Python 3 (ipykernel)",
   "language": "python",
   "name": "python3"
  },
  "language_info": {
   "codemirror_mode": {
    "name": "ipython",
    "version": 3
   },
   "file_extension": ".py",
   "mimetype": "text/x-python",
   "name": "python",
   "nbconvert_exporter": "python",
   "pygments_lexer": "ipython3",
   "version": "3.10.12"
  }
 },
 "nbformat": 4,
 "nbformat_minor": 4
}
