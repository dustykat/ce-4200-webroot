{
 "cells": [
  {
   "cell_type": "markdown",
   "metadata": {},
   "source": [
    "## Problem 59 (NCEES Practice Exam Manual)\n",
    "\n",
    "For a new development of 75 acres (0.117 $~mi^2$), the peak runoff for a 25-year storm of 360 *cfs* is to be limited to 180 *cfs* by use of a detention basin.  The total runoff $Q$ is 3.4 inches.  Assume Type II rainfall. Using the TR55 Method and the figure below, the preliminary estimate of storage volume (ac-ft) is most nearly:"
   ]
  },
  {
   "cell_type": "markdown",
   "metadata": {},
   "source": [
    "![](TR55-chart.png)\n",
    "\n",
    "A. 0.07<br>\n",
    "B. 0.11<br>\n",
    "C. 3.80<br>\n",
    "D. 5.94<br>"
   ]
  },
  {
   "cell_type": "code",
   "execution_count": 12,
   "metadata": {},
   "outputs": [
    {
     "name": "stdout",
     "output_type": "stream",
     "text": [
      "Discharge Ratio :  0.5\n"
     ]
    }
   ],
   "source": [
    "# solution - find total runoff in acre feet\n",
    "Q=3.4 #in\n",
    "A=75.0 #acres\n",
    "volRunoff=Q*(1/12)*A\n",
    "# use required peak discharge ratio 180/360 to find storage to runoff ratio from chart\n",
    "qratio = 180/360\n",
    "# look up storage to runoff ratio in chart\n",
    "print(\"Discharge Ratio : \",qratio)"
   ]
  },
  {
   "cell_type": "markdown",
   "metadata": {},
   "source": [
    "look up storage to runoff ratio in chart\n",
    "\n",
    "![](TR55-chart-annotate.png)"
   ]
  },
  {
   "cell_type": "code",
   "execution_count": 13,
   "metadata": {},
   "outputs": [
    {
     "name": "stdout",
     "output_type": "stream",
     "text": [
      "Runoff Volume :  21.25  acre-ft \n",
      "Discharge Ratio :  0.5\n",
      "Storage to Runoff Ratio :  0.28\n",
      "Basin Storage Required :  5.95  acre-ft \n"
     ]
    }
   ],
   "source": [
    "stor2runoff = 0.28\n",
    "# compute required storage\n",
    "basinStorage = stor2runoff*volRunoff\n",
    "print(\"Runoff Volume : \",volRunoff,\" acre-ft \")\n",
    "print(\"Discharge Ratio : \",qratio)\n",
    "print(\"Storage to Runoff Ratio : \",stor2runoff)\n",
    "print(\"Basin Storage Required : \",basinStorage,\" acre-ft \")"
   ]
  },
  {
   "cell_type": "markdown",
   "metadata": {},
   "source": [
    "Computed answer is 5.92 acre-ft, choose \"D\""
   ]
  },
  {
   "cell_type": "markdown",
   "metadata": {},
   "source": [
    "## Problem 61 (NCEES Practice Exam Manual)\n",
    "\n",
    "Four monitoring wells - A,B,C,and D - lie equidistant (200~ft) form a fifth well E.  The depth to the water table is measured at each well and is shown below.  The datum for the top of casing (TOC) for each well is equal to the five wells.  Groundwater moves in which direction from point E?\n",
    "\n",
    "![](WellField.png)\n",
    "\n",
    "(A) South <br>\n",
    "(B) East <br>\n",
    "(C) North <br>\n",
    "(D) West\n"
   ]
  },
  {
   "cell_type": "code",
   "execution_count": 14,
   "metadata": {},
   "outputs": [
    {
     "name": "stdout",
     "output_type": "stream",
     "text": [
      "head A :  395\n",
      "head B :  400\n",
      "head C :  395\n",
      "head D :  390\n",
      "head E :  395\n"
     ]
    }
   ],
   "source": [
    "# solution - the values given are depth to water (DTW) so we subtract from TOC to get head\n",
    "toc = 500 # any number would be fine\n",
    "dtwA = 105\n",
    "dtwB = 100\n",
    "dtwC = 105\n",
    "dtwD = 110\n",
    "dtwE = 105\n",
    "hA = toc-dtwA\n",
    "hB = toc-dtwB\n",
    "hC = toc-dtwC\n",
    "hD = toc-dtwD\n",
    "hE = toc-dtwE\n",
    "print(\"head A : \",hA)\n",
    "print(\"head B : \",hB)\n",
    "print(\"head C : \",hC)\n",
    "print(\"head D : \",hD)\n",
    "print(\"head E : \",hE)"
   ]
  },
  {
   "cell_type": "markdown",
   "metadata": {},
   "source": [
    "now draw equipotentials, and find flowline\n",
    "\n",
    "![](WellFieldAnnotate.png)\n",
    "\n",
    "Best answer is A (South)"
   ]
  },
  {
   "cell_type": "markdown",
   "metadata": {},
   "source": [
    "## Problem \n",
    "\n",
    "A 3.2-inch storm is uniformly distributed over a 95 acre watershed. The NRCS Curve Number for the watershed is CN = 78. The anticipated watershed runoff is about\n",
    "\n",
    "(A)  8.0 acre-feet <br>\n",
    "(B)  9.0 acre-feet <br>\n",
    "(C) 10.0 acre-feet <br>\n",
    "(D) 11.0 acre-feet"
   ]
  }
 ],
 "metadata": {
  "kernelspec": {
   "display_name": "Python 3",
   "language": "python",
   "name": "python3"
  },
  "language_info": {
   "codemirror_mode": {
    "name": "ipython",
    "version": 3
   },
   "file_extension": ".py",
   "mimetype": "text/x-python",
   "name": "python",
   "nbconvert_exporter": "python",
   "pygments_lexer": "ipython3",
   "version": "3.8.10"
  }
 },
 "nbformat": 4,
 "nbformat_minor": 4
}
